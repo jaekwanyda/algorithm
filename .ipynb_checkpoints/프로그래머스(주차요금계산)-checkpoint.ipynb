{
 "cells": [
  {
   "cell_type": "code",
   "execution_count": null,
   "id": "8bc2e659",
   "metadata": {},
   "outputs": [],
   "source": [
    "import math\n",
    "def solution(fees, records):\n",
    "    answer = []\n",
    "    #딕셔너리에 정리해두기\n",
    "    dic={}\n",
    "    a=\"05\"\n",
    "    for i in records:\n",
    "        if not i[6:10] in dic:\n",
    "            dic[i[6:10]]=[int(i[0:2])*60+int(i[3:5])]\n",
    "        else:\n",
    "            dic[i[6:10]].append(int(i[0:2])*60+int(i[3:5]))\n",
    "    dic=sorted(dic.items(),key=lambda x:x[0])\n",
    "    for car in dic:\n",
    "        if len(car[1])%2==1:\n",
    "            car[1].append(23*60+59)\n",
    "    for car in dic:\n",
    "        total_time=0\n",
    "        a=-1\n",
    "        for t in car[1]:\n",
    "            total_time+=a*t\n",
    "            a*=-1\n",
    "        print(total_time)\n",
    "        if total_time>fees[0]:\n",
    "            answer.append(fees[1]+math.ceil((total_time-fees[0])/fees[2])*fees[3])\n",
    "        else:\n",
    "            answer.append(fees[1])\n",
    "    return answer"
   ]
  }
 ],
 "metadata": {
  "hide_input": false,
  "jupytext": {
   "formats": "ipynb,auto:light"
  },
  "kernelspec": {
   "display_name": "Python 3 (ipykernel)",
   "language": "python",
   "name": "python3"
  },
  "language_info": {
   "codemirror_mode": {
    "name": "ipython",
    "version": 3
   },
   "file_extension": ".py",
   "mimetype": "text/x-python",
   "name": "python",
   "nbconvert_exporter": "python",
   "pygments_lexer": "ipython3",
   "version": "3.9.12"
  },
  "toc": {
   "base_numbering": 1,
   "nav_menu": {},
   "number_sections": true,
   "sideBar": true,
   "skip_h1_title": false,
   "title_cell": "Table of Contents",
   "title_sidebar": "Contents",
   "toc_cell": false,
   "toc_position": {},
   "toc_section_display": true,
   "toc_window_display": false
  }
 },
 "nbformat": 4,
 "nbformat_minor": 5
}
