{
 "cells": [
  {
   "cell_type": "code",
   "execution_count": 5,
   "id": "86299ada",
   "metadata": {},
   "outputs": [
    {
     "name": "stdout",
     "output_type": "stream",
     "text": [
      "10 8\n",
      "1 1 1 1 1 1 1 1 1 1\n",
      "8\n"
     ]
    }
   ],
   "source": [
    "#아이디어:2포인터 식으로 하면 될 것 같다.\n",
    "#n,s입력받기\n",
    "n,s=map(int,input().split())\n",
    "array=list(map(int,input().split()))\n",
    "start_index=0\n",
    "end_index=1\n",
    "dp=[0]*(n+1)\n",
    "#부분합 구하기\n",
    "for i in range(1,n+1):\n",
    "    dp[i]=dp[i-1]+array[i-1]\n",
    "possible=[]\n",
    "while end_index<n+1:\n",
    "    a=dp[end_index]-dp[start_index]\n",
    "    if a>=s: #큰 경우엔 리스트에 더해주고 start_index 더해주기\n",
    "        possible.append(end_index-start_index)\n",
    "        start_index+=1\n",
    "    else:#작은 경우엔 end_index더해주기\n",
    "        end_index+=1\n",
    "if len(possible)==0:\n",
    "    print(0)\n",
    "else:\n",
    "    print(min(possible))\n",
    "        "
   ]
  },
  {
   "cell_type": "code",
   "execution_count": null,
   "id": "5a8fa565",
   "metadata": {},
   "outputs": [],
   "source": []
  }
 ],
 "metadata": {
  "hide_input": false,
  "jupytext": {
   "formats": "ipynb,auto:light"
  },
  "kernelspec": {
   "display_name": "Python 3 (ipykernel)",
   "language": "python",
   "name": "python3"
  },
  "language_info": {
   "codemirror_mode": {
    "name": "ipython",
    "version": 3
   },
   "file_extension": ".py",
   "mimetype": "text/x-python",
   "name": "python",
   "nbconvert_exporter": "python",
   "pygments_lexer": "ipython3",
   "version": "3.9.12"
  },
  "toc": {
   "base_numbering": 1,
   "nav_menu": {},
   "number_sections": true,
   "sideBar": true,
   "skip_h1_title": false,
   "title_cell": "Table of Contents",
   "title_sidebar": "Contents",
   "toc_cell": false,
   "toc_position": {},
   "toc_section_display": true,
   "toc_window_display": false
  }
 },
 "nbformat": 4,
 "nbformat_minor": 5
}
