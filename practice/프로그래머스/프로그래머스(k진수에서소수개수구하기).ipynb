{
 "cells": [
  {
   "cell_type": "code",
   "execution_count": null,
   "id": "709c3e92",
   "metadata": {},
   "outputs": [],
   "source": [
    "def is_prime(k):\n",
    "    a=True\n",
    "    if k==1 or k==0:\n",
    "        a=False\n",
    "    for i in range(2,int(k**(1/2))+1):\n",
    "        if k%i==0:\n",
    "            a=False\n",
    "    return a\n",
    "def solution(n, k):\n",
    "    answer = 0\n",
    "    k_list=[]\n",
    "    cnt=1\n",
    "    while True:\n",
    "        if n/(k**cnt)>1:\n",
    "            cnt+=1\n",
    "        else:\n",
    "            break\n",
    "    for i in range(cnt):\n",
    "        k_list.append(n//(k**(cnt-i-1)))\n",
    "        n%=k**(cnt-i-1)\n",
    "    data=[];sum_=0\n",
    "    for i,num in enumerate(k_list):\n",
    "        if num!=0 and i<len(k_list)-1:\n",
    "            sum_=sum_*10+num\n",
    "        elif num==0:\n",
    "            data.append(sum_)\n",
    "            sum_=0\n",
    "        else:\n",
    "            sum_=sum_*10+num\n",
    "            data.append(sum_)\n",
    "    for i in data:\n",
    "        if is_prime(i):\n",
    "            answer+=1\n",
    "    \n",
    "    return answer"
   ]
  }
 ],
 "metadata": {
  "hide_input": false,
  "jupytext": {
   "formats": "ipynb,auto:light"
  },
  "kernelspec": {
   "display_name": "Python 3 (ipykernel)",
   "language": "python",
   "name": "python3"
  },
  "language_info": {
   "codemirror_mode": {
    "name": "ipython",
    "version": 3
   },
   "file_extension": ".py",
   "mimetype": "text/x-python",
   "name": "python",
   "nbconvert_exporter": "python",
   "pygments_lexer": "ipython3",
   "version": "3.9.12"
  },
  "toc": {
   "base_numbering": 1,
   "nav_menu": {},
   "number_sections": true,
   "sideBar": true,
   "skip_h1_title": false,
   "title_cell": "Table of Contents",
   "title_sidebar": "Contents",
   "toc_cell": false,
   "toc_position": {},
   "toc_section_display": true,
   "toc_window_display": false
  }
 },
 "nbformat": 4,
 "nbformat_minor": 5
}
