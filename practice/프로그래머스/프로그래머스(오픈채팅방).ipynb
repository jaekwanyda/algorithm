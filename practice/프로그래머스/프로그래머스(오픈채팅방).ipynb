{
 "cells": [
  {
   "cell_type": "code",
   "execution_count": null,
   "id": "5c174388",
   "metadata": {},
   "outputs": [],
   "source": [
    "def solution(record):\n",
    "    answer = []\n",
    "    dic={}\n",
    "    for i in record:\n",
    "        data=i.split(' ')\n",
    "        if not data[1] in dic: #없는 경우는 enter해서 처음 들어오는 경우니까 그때 닉네임 저장\n",
    "            dic[data[1]]=data[2]\n",
    "        else:#있는 경우에는 change나 enter의 경우에 바꿔줌\n",
    "            if data[0]=='Enter' or data[0]=='Change':\n",
    "                dic[data[1]]=data[2]\n",
    "    for i in record:\n",
    "        data=i.split(' ')\n",
    "        k=''\n",
    "        if data[0]=='Enter':\n",
    "            k+=dic[data[1]]\n",
    "            k+='님이 들어왔습니다.'\n",
    "            answer.append(k)\n",
    "        elif data[0]=='Leave':\n",
    "            k+=dic[data[1]]\n",
    "            k+='님이 나갔습니다.'\n",
    "            answer.append(k)\n",
    "    return answer"
   ]
  }
 ],
 "metadata": {
  "hide_input": false,
  "jupytext": {
   "formats": "ipynb,auto:light"
  },
  "kernelspec": {
   "display_name": "Python 3 (ipykernel)",
   "language": "python",
   "name": "python3"
  },
  "language_info": {
   "codemirror_mode": {
    "name": "ipython",
    "version": 3
   },
   "file_extension": ".py",
   "mimetype": "text/x-python",
   "name": "python",
   "nbconvert_exporter": "python",
   "pygments_lexer": "ipython3",
   "version": "3.9.12"
  },
  "toc": {
   "base_numbering": 1,
   "nav_menu": {},
   "number_sections": true,
   "sideBar": true,
   "skip_h1_title": false,
   "title_cell": "Table of Contents",
   "title_sidebar": "Contents",
   "toc_cell": false,
   "toc_position": {},
   "toc_section_display": true,
   "toc_window_display": false
  }
 },
 "nbformat": 4,
 "nbformat_minor": 5
}
