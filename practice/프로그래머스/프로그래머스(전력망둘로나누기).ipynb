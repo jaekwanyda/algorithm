{
 "cells": [
  {
   "cell_type": "code",
   "execution_count": 1,
   "id": "fb73dd6f",
   "metadata": {},
   "outputs": [],
   "source": [
    "def find_parent(parent,a):\n",
    "    if parent[a]!=a:\n",
    "        parent[a]=find_parent(parent,parent[a])\n",
    "    return parent[a]\n",
    "def union_parent(parent,a,b):\n",
    "    a=find_parent(parent,a)\n",
    "    b=find_parent(parent,b)\n",
    "    if a<b:\n",
    "        parent[b]=a\n",
    "    else:\n",
    "        parent[a]=b\n",
    "def solution(n, wires):\n",
    "    #각각을 뺏을 때의 집합 갯수를 구하면 된다.\n",
    "    result=[]\n",
    "    for i in range(1,n):\n",
    "        parent=[0]*(n+1)\n",
    "        for j in range(1,n+1):\n",
    "            parent[j]=j\n",
    "        new_wire=wires[0:i-1]+wires[i:]\n",
    "        for j in new_wire:\n",
    "            union_parent(parent,j[0],j[1])\n",
    "        a=parent[1]\n",
    "        b=0\n",
    "        for j in range(1,len(parent)):\n",
    "            if parent[j]==a:\n",
    "                b+=1\n",
    "            else:\n",
    "                b-=1\n",
    "        result.append(abs(b))\n",
    "    answer=min(result)\n",
    "    return answer #실패"
   ]
  },
  {
   "cell_type": "code",
   "execution_count": null,
   "id": "eb79e67b",
   "metadata": {},
   "outputs": [],
   "source": [
    "from collections import Counter\n",
    "def find_parent(parent,a):\n",
    "    if parent[a]!=a:\n",
    "        parent[a]=find_parent(parent,parent[a])\n",
    "    return parent[a]\n",
    "def union_parent(parent,a,b):\n",
    "    a=find_parent(parent,a)\n",
    "    b=find_parent(parent,b)\n",
    "    if a<b:\n",
    "        parent[b]=a\n",
    "    else:\n",
    "        parent[a]=b\n",
    "def solution(n, wires):\n",
    "    #각각을 뺏을 때의 집합 갯수를 구하면 된다.\n",
    "    result=[]\n",
    "    answer=987\n",
    "    for i in range(1,n):\n",
    "        parent=[0]*(n+1)\n",
    "        for j in range(1,n+1):\n",
    "            parent[j]=j\n",
    "        new_wire=wires[0:i-1]+wires[i:]\n",
    "        for j in new_wire:\n",
    "            union_parent(parent,j[0],j[1])\n",
    "        uf = []\n",
    "        for i in range(1, n + 1):\n",
    "            uf.append(find_parent(parent,i))\n",
    "            \n",
    "        uf = Counter(uf)\n",
    "        v = list(uf.values())\n",
    "        answer = min(answer, abs( v[0]- v[1]))\n",
    "    return answer #성공"
   ]
  }
 ],
 "metadata": {
  "hide_input": false,
  "jupytext": {
   "formats": "ipynb,auto:light"
  },
  "kernelspec": {
   "display_name": "Python 3 (ipykernel)",
   "language": "python",
   "name": "python3"
  },
  "language_info": {
   "codemirror_mode": {
    "name": "ipython",
    "version": 3
   },
   "file_extension": ".py",
   "mimetype": "text/x-python",
   "name": "python",
   "nbconvert_exporter": "python",
   "pygments_lexer": "ipython3",
   "version": "3.9.12"
  },
  "toc": {
   "base_numbering": 1,
   "nav_menu": {},
   "number_sections": true,
   "sideBar": true,
   "skip_h1_title": false,
   "title_cell": "Table of Contents",
   "title_sidebar": "Contents",
   "toc_cell": false,
   "toc_position": {},
   "toc_section_display": true,
   "toc_window_display": false
  }
 },
 "nbformat": 4,
 "nbformat_minor": 5
}
