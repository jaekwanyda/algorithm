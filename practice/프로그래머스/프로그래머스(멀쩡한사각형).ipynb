{
 "cells": [
  {
   "cell_type": "code",
   "execution_count": null,
   "id": "7f77b389",
   "metadata": {},
   "outputs": [],
   "source": [
    "import math\n",
    "def solution(w,h):\n",
    "    rm=0\n",
    "    m=min(w,h)\n",
    "    if m==h:\n",
    "        w,h=h,w\n",
    "    def gcd(w,h):\n",
    "        a=w%h\n",
    "        if a==0:\n",
    "            return h\n",
    "        else:\n",
    "            return gcd(h,a)\n",
    "    k=gcd(w,h)\n",
    "    w=w//k;h=h//k\n",
    "    for i in range(0,w):\n",
    "        rm+=math.ceil((i+1)*h/w)-int(i*h/w)\n",
    "    rm*=k\n",
    "    answer=w*h*k*k-rm\n",
    "    return answer"
   ]
  }
 ],
 "metadata": {
  "hide_input": false,
  "jupytext": {
   "formats": "ipynb,auto:light"
  },
  "kernelspec": {
   "display_name": "Python 3 (ipykernel)",
   "language": "python",
   "name": "python3"
  },
  "language_info": {
   "codemirror_mode": {
    "name": "ipython",
    "version": 3
   },
   "file_extension": ".py",
   "mimetype": "text/x-python",
   "name": "python",
   "nbconvert_exporter": "python",
   "pygments_lexer": "ipython3",
   "version": "3.9.12"
  },
  "toc": {
   "base_numbering": 1,
   "nav_menu": {},
   "number_sections": true,
   "sideBar": true,
   "skip_h1_title": false,
   "title_cell": "Table of Contents",
   "title_sidebar": "Contents",
   "toc_cell": false,
   "toc_position": {},
   "toc_section_display": true,
   "toc_window_display": false
  }
 },
 "nbformat": 4,
 "nbformat_minor": 5
}
