{
 "cells": [
  {
   "cell_type": "code",
   "execution_count": null,
   "id": "26599b54",
   "metadata": {},
   "outputs": [],
   "source": [
    "def sort_key(x):\n",
    "    a=len(x)\n",
    "    if len(x)<4:\n",
    "        while len(x)!=4:\n",
    "            x+=x[0]\n",
    "    if x[0]<x[1]:\n",
    "        a=-a\n",
    "    return (x[0],x[1],x[2],x[3],a)\n",
    "def solution(numbers):\n",
    "    answer = ''\n",
    "    numbers=list(map(str,numbers))\n",
    "    numbers=sorted(numbers,key=sort_key)\n",
    "    numbers.reverse()\n",
    "    answer=''.join(numbers)\n",
    "    while len(answer)>1 and answer[0]==\"0\":\n",
    "        answer=answer[1:]\n",
    "    return answer"
   ]
  }
 ],
 "metadata": {
  "hide_input": false,
  "jupytext": {
   "formats": "ipynb,auto:light"
  },
  "kernelspec": {
   "display_name": "Python 3 (ipykernel)",
   "language": "python",
   "name": "python3"
  },
  "language_info": {
   "codemirror_mode": {
    "name": "ipython",
    "version": 3
   },
   "file_extension": ".py",
   "mimetype": "text/x-python",
   "name": "python",
   "nbconvert_exporter": "python",
   "pygments_lexer": "ipython3",
   "version": "3.9.12"
  },
  "toc": {
   "base_numbering": 1,
   "nav_menu": {},
   "number_sections": true,
   "sideBar": true,
   "skip_h1_title": false,
   "title_cell": "Table of Contents",
   "title_sidebar": "Contents",
   "toc_cell": false,
   "toc_position": {},
   "toc_section_display": true,
   "toc_window_display": false
  }
 },
 "nbformat": 4,
 "nbformat_minor": 5
}
