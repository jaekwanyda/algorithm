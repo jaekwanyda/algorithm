{
 "cells": [
  {
   "cell_type": "code",
   "execution_count": null,
   "id": "f0281d7c",
   "metadata": {},
   "outputs": [],
   "source": [
    "#첫번째 제출==> 시간 초과(n이 커질수록 길이가 너무 기하급수적으로 늘어난다.)\n",
    "def solution(n, l, r):\n",
    "    answer = 0\n",
    "    contour='1'\n",
    "    for i in range(n):\n",
    "        new_contour=''\n",
    "        for j in contour:\n",
    "            if j=='1':\n",
    "                new_contour+='11011'\n",
    "            else:\n",
    "                new_contour+='00000'\n",
    "        contour=new_contour\n",
    "    cnt=0\n",
    "    for i in range(l-1,r+1):\n",
    "        if contour[i]=='1':\n",
    "            cnt+=1\n",
    "    \n",
    "    return cnt"
   ]
  }
 ],
 "metadata": {
  "hide_input": false,
  "kernelspec": {
   "display_name": "Python 3 (ipykernel)",
   "language": "python",
   "name": "python3"
  },
  "language_info": {
   "codemirror_mode": {
    "name": "ipython",
    "version": 3
   },
   "file_extension": ".py",
   "mimetype": "text/x-python",
   "name": "python",
   "nbconvert_exporter": "python",
   "pygments_lexer": "ipython3",
   "version": "3.9.12"
  },
  "toc": {
   "base_numbering": 1,
   "nav_menu": {},
   "number_sections": true,
   "sideBar": true,
   "skip_h1_title": false,
   "title_cell": "Table of Contents",
   "title_sidebar": "Contents",
   "toc_cell": false,
   "toc_position": {},
   "toc_section_display": true,
   "toc_window_display": false
  }
 },
 "nbformat": 4,
 "nbformat_minor": 5
}
