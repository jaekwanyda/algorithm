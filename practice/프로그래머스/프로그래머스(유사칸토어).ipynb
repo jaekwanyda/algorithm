{
 "cells": [
  {
   "cell_type": "code",
   "execution_count": null,
   "id": "6110314d",
   "metadata": {},
   "outputs": [],
   "source": [
    "#첫번째 제출==> 시간 초과(n이 커질수록 길이가 너무 기하급수적으로 늘어난다.)\n",
    "def solution(n, l, r):\n",
    "    answer = 0\n",
    "    contour='1'\n",
    "    for i in range(n):\n",
    "        new_contour=''\n",
    "        for j in contour:\n",
    "            if j=='1':\n",
    "                new_contour+='11011'\n",
    "            else:\n",
    "                new_contour+='00000'\n",
    "        contour=new_contour\n",
    "    cnt=0\n",
    "    for i in range(l-1,r+1):\n",
    "        if contour[i]=='1':\n",
    "            cnt+=1\n",
    "    \n",
    "    return cnt"
   ]
  },
  {
   "cell_type": "code",
   "execution_count": null,
   "id": "d5c10211",
   "metadata": {},
   "outputs": [],
   "source": [
    "#두번째 제출: 각각의 요소 별로 부모노드를 찾아가며 해보려 했지만 시간초과 발생\n",
    "def solution(n, l, r):\n",
    "    answer = 0\n",
    "    one_cnt=0\n",
    "    for i in range(l-1,r):\n",
    "        k=n\n",
    "        while n:\n",
    "            a, b = divmod(i, 5 ** (n - 1))\n",
    "            if a==2:\n",
    "                break\n",
    "            i=b\n",
    "            n-=1\n",
    "            if n==0 and i!=2:\n",
    "                one_cnt+=1\n",
    "        n=k\n",
    "        \n",
    "    \n",
    "    return one_cnt\n",
    "\n",
    "\n",
    "\n",
    "#비슷한 풀이 발견\n",
    "def solution(n, l, r):\n",
    "    answer = r-l+1\n",
    "    for num in range(l-1,r):\n",
    "        while num>=1:\n",
    "            a,b=divmod(num,5)\n",
    "            if b==2 or a==2:\n",
    "                answer-=1\n",
    "                break\n",
    "            num=a\n",
    "\n",
    "\n",
    "    return answer"
   ]
  },
  {
   "cell_type": "code",
   "execution_count": null,
   "id": "be38fc15",
   "metadata": {},
   "outputs": [],
   "source": [
    "#최종적으로 제출한 것\n",
    "def find_one(l):\n",
    "    i=1\n",
    "    while True:\n",
    "        if 5**i>l:\n",
    "            if i>1:\n",
    "                a=l//(5**(i-1))\n",
    "                b=l%(5**(i-1))\n",
    "                if a<2:\n",
    "                    cnt=find_one(b)\n",
    "                    return cnt+a*(4**(i-1))\n",
    "                elif a>2:\n",
    "                    cnt=find_one(b)\n",
    "                    return cnt+(a-1)*(4**(i-1))\n",
    "                else:\n",
    "                    return 2*(4**(i-1))\n",
    "                \n",
    "            else:\n",
    "                if l>=3:\n",
    "                    return l-1\n",
    "                else:\n",
    "                    return l\n",
    "        elif 5**i == l: \n",
    "            return 4 ** i\n",
    "        else:\n",
    "            i += 1\n",
    "        \n",
    "def solution(n, l, r):\n",
    "    return find_one(r)-find_one(l-1)"
   ]
  },
  {
   "cell_type": "code",
   "execution_count": 6,
   "id": "d4346bd2",
   "metadata": {},
   "outputs": [
    {
     "data": {
      "text/plain": [
       "3"
      ]
     },
     "execution_count": 6,
     "metadata": {},
     "output_type": "execute_result"
    }
   ],
   "source": [
    "a=[1,2,3,5,4]\n",
    "a[-3]"
   ]
  },
  {
   "cell_type": "code",
   "execution_count": null,
   "id": "3e0ec2e2",
   "metadata": {},
   "outputs": [],
   "source": []
  }
 ],
 "metadata": {
  "hide_input": false,
  "jupytext": {
   "formats": "ipynb,py:light"
  },
  "kernelspec": {
   "display_name": "Python 3 (ipykernel)",
   "language": "python",
   "name": "python3"
  },
  "language_info": {
   "codemirror_mode": {
    "name": "ipython",
    "version": 3
   },
   "file_extension": ".py",
   "mimetype": "text/x-python",
   "name": "python",
   "nbconvert_exporter": "python",
   "pygments_lexer": "ipython3",
   "version": "3.9.12"
  },
  "toc": {
   "base_numbering": 1,
   "nav_menu": {},
   "number_sections": true,
   "sideBar": true,
   "skip_h1_title": false,
   "title_cell": "Table of Contents",
   "title_sidebar": "Contents",
   "toc_cell": false,
   "toc_position": {},
   "toc_section_display": true,
   "toc_window_display": false
  }
 },
 "nbformat": 4,
 "nbformat_minor": 5
}
