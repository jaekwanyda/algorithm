{
 "cells": [
  {
   "cell_type": "code",
   "execution_count": null,
   "id": "947025f2",
   "metadata": {},
   "outputs": [],
   "source": [
    "#https://school.programmers.co.kr/learn/courses/30/lessons/17680\n",
    "#LRU 알고리즘은 가장 최근에 사용한 캐쉬를 가장 앞으로 옮겨주는 알고리즘\n",
    "#간단하게 hit 했을 경우에는 해당되는 요소를 head 쪽으로 miss의 경우 마지막에 들어온 것을 head로 옮긴다.\n",
    "def solution(cacheSize, cities):\n",
    "    answer = 0;cache=[]\n",
    "    while cities:#cache를 이용해 hit,miss 여부 체크\n",
    "        city=str.upper(cities.pop(0))\n",
    "        if city in cache:#hit의 경우\n",
    "            answer+=1\n",
    "            for i,j in enumerate(cache):#hit된 원소를 head로 옮기기(나는 list의 마지막을 head로 정했다.)\n",
    "                if j==city:\n",
    "                    cache.pop(i);\n",
    "                    break\n",
    "            cache.append(city)\n",
    "        else:#miss의 경우\n",
    "            answer+=5\n",
    "            if len(cache)<cacheSize: #cache 채워주기\n",
    "                cache.append(city)\n",
    "            else:\n",
    "                if cache:\n",
    "                    cache.pop(0);cache.append(city)\n",
    "        \n",
    "    return answer"
   ]
  }
 ],
 "metadata": {
  "hide_input": false,
  "jupytext": {
   "formats": "ipynb,auto:light"
  },
  "kernelspec": {
   "display_name": "Python 3 (ipykernel)",
   "language": "python",
   "name": "python3"
  },
  "language_info": {
   "codemirror_mode": {
    "name": "ipython",
    "version": 3
   },
   "file_extension": ".py",
   "mimetype": "text/x-python",
   "name": "python",
   "nbconvert_exporter": "python",
   "pygments_lexer": "ipython3",
   "version": "3.9.12"
  },
  "toc": {
   "base_numbering": 1,
   "nav_menu": {},
   "number_sections": true,
   "sideBar": true,
   "skip_h1_title": false,
   "title_cell": "Table of Contents",
   "title_sidebar": "Contents",
   "toc_cell": false,
   "toc_position": {},
   "toc_section_display": true,
   "toc_window_display": false
  }
 },
 "nbformat": 4,
 "nbformat_minor": 5
}
