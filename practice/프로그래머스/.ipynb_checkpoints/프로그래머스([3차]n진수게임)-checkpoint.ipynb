{
 "cells": [
  {
   "cell_type": "code",
   "execution_count": null,
   "id": "f8e843b7",
   "metadata": {},
   "outputs": [],
   "source": [
    "def make_n(n,cnt):\n",
    "    array=[];dic={10:'A',11:'B',12:'C',13:'D',14:'E',15:'F'}\n",
    "    if cnt%n>=10:\n",
    "        array.append(dic[cnt%n])\n",
    "    else:\n",
    "        array.append(str(cnt%n))\n",
    "    while cnt>=n:\n",
    "        cnt=cnt//n\n",
    "        if cnt%n>=10:\n",
    "            array.append(dic[cnt%n])\n",
    "        else:\n",
    "            array.append(str(cnt%n))\n",
    "    array.reverse()\n",
    "    return ''.join(array)\n",
    "def solution(n, t, m, p):\n",
    "    answer = '';result=''\n",
    "    length=t*m;cnt=0\n",
    "    while len(result)<length:\n",
    "        result+=make_n(n,cnt)\n",
    "        cnt+=1\n",
    "    for i in range(t):\n",
    "        answer+=result[i*m+p-1]\n",
    "    return answer"
   ]
  }
 ],
 "metadata": {
  "hide_input": false,
  "jupytext": {
   "formats": "ipynb,auto:light"
  },
  "kernelspec": {
   "display_name": "Python 3 (ipykernel)",
   "language": "python",
   "name": "python3"
  },
  "language_info": {
   "codemirror_mode": {
    "name": "ipython",
    "version": 3
   },
   "file_extension": ".py",
   "mimetype": "text/x-python",
   "name": "python",
   "nbconvert_exporter": "python",
   "pygments_lexer": "ipython3",
   "version": "3.9.12"
  },
  "toc": {
   "base_numbering": 1,
   "nav_menu": {},
   "number_sections": true,
   "sideBar": true,
   "skip_h1_title": false,
   "title_cell": "Table of Contents",
   "title_sidebar": "Contents",
   "toc_cell": false,
   "toc_position": {},
   "toc_section_display": true,
   "toc_window_display": false
  }
 },
 "nbformat": 4,
 "nbformat_minor": 5
}
