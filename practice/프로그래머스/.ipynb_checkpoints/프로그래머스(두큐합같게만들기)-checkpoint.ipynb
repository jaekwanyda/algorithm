{
 "cells": [
  {
   "cell_type": "code",
   "execution_count": null,
   "id": "a488b8e2",
   "metadata": {},
   "outputs": [],
   "source": [
    "from collections import deque #약간의 시간 초과\n",
    "def solution(queue1, queue2): \n",
    "    answer = 0\n",
    "    total=sum(queue1)+sum(queue2)\n",
    "    q1=deque();q2=deque()\n",
    "    for i in queue1:\n",
    "        q1.append(i)\n",
    "    for i in queue2:\n",
    "        q2.append(i)\n",
    "    a=sum(q1)\n",
    "    while True:\n",
    "        if a>total/2:\n",
    "            b=q1.popleft()\n",
    "            q2.append(b)\n",
    "            a-=b\n",
    "            answer+=1\n",
    "        elif a<total/2:\n",
    "            b=q2.popleft()\n",
    "            q1.append(b)\n",
    "            a+=b\n",
    "            answer+=1\n",
    "        else:\n",
    "            break\n",
    "        if len(q1)==0 or len(q2)==0:\n",
    "            answer=-1\n",
    "            break\n",
    "    return answer"
   ]
  },
  {
   "cell_type": "code",
   "execution_count": null,
   "id": "8a84f2cd",
   "metadata": {},
   "outputs": [],
   "source": [
    "from collections import deque \n",
    "#위의 코드에서 무한 루프에 갇힐 경우를 추가했음. 총 queue의 길이가 30만이 최대이므로 60만번 돌아도 해결이 안되면 -1출력\n",
    "def solution(queue1, queue2): \n",
    "    answer = 0\n",
    "    total=sum(queue1)+sum(queue2)\n",
    "    q1=deque(queue1);q2=deque(queue2)\n",
    "    a=sum(q1)\n",
    "    cnt=0\n",
    "    while cnt<600001:\n",
    "        if a>total/2:\n",
    "            b=q1.popleft()\n",
    "            q2.append(b)\n",
    "            a-=b\n",
    "            answer+=1\n",
    "        elif a<total/2:\n",
    "            b=q2.popleft()\n",
    "            q1.append(b)\n",
    "            a+=b\n",
    "            answer+=1\n",
    "        else:\n",
    "            break\n",
    "        if len(q1)==0 or len(q2)==0 or cnt==600000:\n",
    "            answer=-1\n",
    "            break\n",
    "        cnt+=1\n",
    "    return answer"
   ]
  }
 ],
 "metadata": {
  "hide_input": false,
  "jupytext": {
   "formats": "ipynb,auto:light"
  },
  "kernelspec": {
   "display_name": "Python 3 (ipykernel)",
   "language": "python",
   "name": "python3"
  },
  "language_info": {
   "codemirror_mode": {
    "name": "ipython",
    "version": 3
   },
   "file_extension": ".py",
   "mimetype": "text/x-python",
   "name": "python",
   "nbconvert_exporter": "python",
   "pygments_lexer": "ipython3",
   "version": "3.9.12"
  },
  "toc": {
   "base_numbering": 1,
   "nav_menu": {},
   "number_sections": true,
   "sideBar": true,
   "skip_h1_title": false,
   "title_cell": "Table of Contents",
   "title_sidebar": "Contents",
   "toc_cell": false,
   "toc_position": {},
   "toc_section_display": true,
   "toc_window_display": false
  }
 },
 "nbformat": 4,
 "nbformat_minor": 5
}
