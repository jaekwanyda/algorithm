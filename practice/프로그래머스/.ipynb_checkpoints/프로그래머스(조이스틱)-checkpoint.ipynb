{
 "cells": [
  {
   "cell_type": "code",
   "execution_count": null,
   "id": "bf5454a8",
   "metadata": {},
   "outputs": [],
   "source": [
    "def solution(name):\n",
    "    answer = 0\n",
    "    test=[]\n",
    "    for n in name:\n",
    "        test.append(min(ord(n)-ord('A'),ord('Z')-ord(n)+1))\n",
    "    min_sum=len(name)-1\n",
    "    for i,j in enumerate(test):\n",
    "        if j==0:\n",
    "            n=1\n",
    "            while i+n<len(test) and test[i+n]==0:#몇번의 0이 반복되는지 확인\n",
    "                n+=1\n",
    "            #0이 나왔을 때 생략할 수 있는 횟수 업데이트\n",
    "            if i>0:\n",
    "                min_sum=min(min_sum,2*(i-1)+len(name)-(i+n),2*(len(name)-(i+n))+(i-1))\n",
    "            \n",
    "    \n",
    "    return min_sum+sum(test)"
   ]
  }
 ],
 "metadata": {
  "hide_input": false,
  "jupytext": {
   "formats": "ipynb,auto:light"
  },
  "kernelspec": {
   "display_name": "Python 3 (ipykernel)",
   "language": "python",
   "name": "python3"
  },
  "language_info": {
   "codemirror_mode": {
    "name": "ipython",
    "version": 3
   },
   "file_extension": ".py",
   "mimetype": "text/x-python",
   "name": "python",
   "nbconvert_exporter": "python",
   "pygments_lexer": "ipython3",
   "version": "3.9.12"
  },
  "toc": {
   "base_numbering": 1,
   "nav_menu": {},
   "number_sections": true,
   "sideBar": true,
   "skip_h1_title": false,
   "title_cell": "Table of Contents",
   "title_sidebar": "Contents",
   "toc_cell": false,
   "toc_position": {},
   "toc_section_display": true,
   "toc_window_display": false
  }
 },
 "nbformat": 4,
 "nbformat_minor": 5
}
