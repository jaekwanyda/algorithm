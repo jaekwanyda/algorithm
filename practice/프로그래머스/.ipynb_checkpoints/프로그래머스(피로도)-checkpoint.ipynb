{
 "cells": [
  {
   "cell_type": "code",
   "execution_count": null,
   "id": "db851017",
   "metadata": {},
   "outputs": [],
   "source": [
    "max_=0\n",
    "def dfs(p,visited,dungeons,m):\n",
    "    global max_\n",
    "    for i,j in enumerate(dungeons):\n",
    "        if m>max_:\n",
    "            max_=m\n",
    "            print(max_)\n",
    "        if not visited[i]:\n",
    "            if p>=j[0]:\n",
    "                visited[i]=True\n",
    "                p-=j[1]\n",
    "                m+=1\n",
    "                dfs(p,visited,dungeons,m)\n",
    "                visited[i]=False\n",
    "                p+=j[1]\n",
    "                m-=1\n",
    "def solution(k, dungeons):\n",
    "    global max_\n",
    "    answer = -1\n",
    "    n=len(dungeons)\n",
    "    visited=[False]*n;m=0\n",
    "    dfs(k,visited,dungeons,m)\n",
    "    answer= max_\n",
    "        \n",
    "    \n",
    "    return answer"
   ]
  }
 ],
 "metadata": {
  "hide_input": false,
  "jupytext": {
   "formats": "ipynb,auto:light"
  },
  "kernelspec": {
   "display_name": "Python 3 (ipykernel)",
   "language": "python",
   "name": "python3"
  },
  "language_info": {
   "codemirror_mode": {
    "name": "ipython",
    "version": 3
   },
   "file_extension": ".py",
   "mimetype": "text/x-python",
   "name": "python",
   "nbconvert_exporter": "python",
   "pygments_lexer": "ipython3",
   "version": "3.9.12"
  },
  "toc": {
   "base_numbering": 1,
   "nav_menu": {},
   "number_sections": true,
   "sideBar": true,
   "skip_h1_title": false,
   "title_cell": "Table of Contents",
   "title_sidebar": "Contents",
   "toc_cell": false,
   "toc_position": {},
   "toc_section_display": true,
   "toc_window_display": false
  }
 },
 "nbformat": 4,
 "nbformat_minor": 5
}
