{
 "cells": [
  {
   "cell_type": "code",
   "execution_count": null,
   "id": "3a0c0724",
   "metadata": {},
   "outputs": [],
   "source": [
    "from collections import deque\n",
    "def solution(skill, skill_trees):\n",
    "    answer = 0\n",
    "    for i in skill_trees:\n",
    "        skill_list=[0]*len(skill)\n",
    "        q=deque();skill_posi=True\n",
    "        for j in i:\n",
    "            if j in skill:\n",
    "                q.append(j)\n",
    "        print(q)\n",
    "        while q:\n",
    "            x=q.popleft()\n",
    "            a=skill.find(x)\n",
    "            skill_list[a]=1\n",
    "            for i in range(a,-1,-1):\n",
    "                if skill_list[i]==0:\n",
    "                    skill_posi=False\n",
    "        if skill_posi:\n",
    "                answer+=1\n",
    "    return answer"
   ]
  }
 ],
 "metadata": {
  "hide_input": false,
  "jupytext": {
   "formats": "ipynb,auto:light"
  },
  "kernelspec": {
   "display_name": "Python 3 (ipykernel)",
   "language": "python",
   "name": "python3"
  },
  "language_info": {
   "codemirror_mode": {
    "name": "ipython",
    "version": 3
   },
   "file_extension": ".py",
   "mimetype": "text/x-python",
   "name": "python",
   "nbconvert_exporter": "python",
   "pygments_lexer": "ipython3",
   "version": "3.9.12"
  },
  "toc": {
   "base_numbering": 1,
   "nav_menu": {},
   "number_sections": true,
   "sideBar": true,
   "skip_h1_title": false,
   "title_cell": "Table of Contents",
   "title_sidebar": "Contents",
   "toc_cell": false,
   "toc_position": {},
   "toc_section_display": true,
   "toc_window_display": false
  }
 },
 "nbformat": 4,
 "nbformat_minor": 5
}
