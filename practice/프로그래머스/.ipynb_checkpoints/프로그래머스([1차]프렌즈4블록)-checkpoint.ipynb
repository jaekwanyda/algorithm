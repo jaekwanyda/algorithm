{
 "cells": [
  {
   "cell_type": "code",
   "execution_count": null,
   "id": "a34aec48",
   "metadata": {},
   "outputs": [],
   "source": [
    "#아이디어: 최대 900개의 블록이니 각각의 블록 별로 가능한지 확인\n",
    "import copy\n",
    "def solution(m, n, board):\n",
    "    result=[[] for _ in range(n)] #세로 방향으로 저장할 리스트 생성\n",
    "    answer=0\n",
    "    for i in range(n):\n",
    "        for j in range(m):\n",
    "            result[i].append([board[j][i],1]) #삭제 여부까지 추가\n",
    "    dx=[0,1,1];dy=[1,0,1]\n",
    "    while True:\n",
    "        remove=[]\n",
    "        for i in range(n-1):\n",
    "            for j in range(m-1):\n",
    "                if result[i][j][1]==1:#삭제 안되었을 경우\n",
    "                    k=result[i][j][0];possi=True #삭제 가능 여부\n",
    "                    for p in range(3):\n",
    "                        #일치하지 않거나 삭제된 않은 블럭에 대해 확인\n",
    "                        if result[i+dx[p]][j+dy[p]][0]!=result[i][j][0] or result[i+dx[p]][j+dy[p]][1]==0:\n",
    "                            possi=False\n",
    "                            break\n",
    "                    if possi:\n",
    "                        remove.append([i,j])\n",
    "                        for p in range(3):\n",
    "                            remove.append([i+dx[p],j+dy[p]])\n",
    "        #삭제 리스트 대로 삭제해주기\n",
    "        for i,j in remove:\n",
    "            result[i][j][1]=0\n",
    "        array=[]\n",
    "        for r in result:\n",
    "            array.append(sorted(r,key=lambda x:x[1])) #삭제된 것들 앞으로 보내게 정렬\n",
    "        if array==result:\n",
    "            break\n",
    "        else:\n",
    "            result=copy.deepcopy(array)\n",
    "    #삭제된 것들 개수 세기\n",
    "    for r in result:\n",
    "        for x,re in r:\n",
    "            if re==0:\n",
    "                answer+=1\n",
    "                    \n",
    "    return answer"
   ]
  }
 ],
 "metadata": {
  "hide_input": false,
  "jupytext": {
   "formats": "ipynb,auto:light"
  },
  "kernelspec": {
   "display_name": "Python 3 (ipykernel)",
   "language": "python",
   "name": "python3"
  },
  "language_info": {
   "codemirror_mode": {
    "name": "ipython",
    "version": 3
   },
   "file_extension": ".py",
   "mimetype": "text/x-python",
   "name": "python",
   "nbconvert_exporter": "python",
   "pygments_lexer": "ipython3",
   "version": "3.9.12"
  },
  "toc": {
   "base_numbering": 1,
   "nav_menu": {},
   "number_sections": true,
   "sideBar": true,
   "skip_h1_title": false,
   "title_cell": "Table of Contents",
   "title_sidebar": "Contents",
   "toc_cell": false,
   "toc_position": {},
   "toc_section_display": true,
   "toc_window_display": false
  }
 },
 "nbformat": 4,
 "nbformat_minor": 5
}
