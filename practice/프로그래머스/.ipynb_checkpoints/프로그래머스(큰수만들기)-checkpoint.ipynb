{
 "cells": [
  {
   "cell_type": "code",
   "execution_count": null,
   "id": "e1c1be75",
   "metadata": {},
   "outputs": [],
   "source": [
    "def solution(number, k):\n",
    "    answer = []\n",
    "    for num in number:\n",
    "        if len(answer)==0:\n",
    "            answer.append(num)\n",
    "            continue\n",
    "        if k>0:\n",
    "            while answer[-1]<num:\n",
    "                answer.pop()\n",
    "                k-=1\n",
    "                if k<=0 or len(answer)==0:\n",
    "                    break\n",
    "        answer.append(num)\n",
    "    answer=answer[:-k] if k>0 else answer\n",
    "    return ''.join(answer)"
   ]
  }
 ],
 "metadata": {
  "hide_input": false,
  "jupytext": {
   "formats": "ipynb,auto:light"
  },
  "kernelspec": {
   "display_name": "Python 3 (ipykernel)",
   "language": "python",
   "name": "python3"
  },
  "language_info": {
   "codemirror_mode": {
    "name": "ipython",
    "version": 3
   },
   "file_extension": ".py",
   "mimetype": "text/x-python",
   "name": "python",
   "nbconvert_exporter": "python",
   "pygments_lexer": "ipython3",
   "version": "3.9.12"
  },
  "toc": {
   "base_numbering": 1,
   "nav_menu": {},
   "number_sections": true,
   "sideBar": true,
   "skip_h1_title": false,
   "title_cell": "Table of Contents",
   "title_sidebar": "Contents",
   "toc_cell": false,
   "toc_position": {},
   "toc_section_display": true,
   "toc_window_display": false
  }
 },
 "nbformat": 4,
 "nbformat_minor": 5
}
