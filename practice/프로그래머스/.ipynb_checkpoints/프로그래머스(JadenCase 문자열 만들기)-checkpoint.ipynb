{
 "cells": [
  {
   "cell_type": "code",
   "execution_count": null,
   "id": "5e426b40",
   "metadata": {},
   "outputs": [],
   "source": [
    "#https://school.programmers.co.kr/learn/courses/30/lessons/12951#\n",
    "def solution(s):\n",
    "    answer = ''\n",
    "    s_list=list(s.split(' '))#공백을 기준으로 문자열 나누기\n",
    "    num_list=['0','1','2','3','4','5','6','7','8','9']\n",
    "    print(s_list)\n",
    "    for s_ in s_list:\n",
    "        if len(s_)>0:\n",
    "            if s_[0] not in num_list: #첫번째 글자가 알파벳일 경우만 대문자로\n",
    "                answer+=str.upper(s_[0])\n",
    "            else:\n",
    "                answer+=s_[0]\n",
    "            for i in range(1,len(s_)):#나머지는 소문자로\n",
    "                answer+=str.lower(s_[i])\n",
    "            answer+=' '\n",
    "        else: #만약 공백이 존재하면 공백 추가\n",
    "            answer+=' '\n",
    "    if answer[-1]==' ':\n",
    "        answer=answer[:-1]\n",
    "    return answer"
   ]
  }
 ],
 "metadata": {
  "hide_input": false,
  "jupytext": {
   "formats": "ipynb,auto:light"
  },
  "kernelspec": {
   "display_name": "Python 3 (ipykernel)",
   "language": "python",
   "name": "python3"
  },
  "language_info": {
   "codemirror_mode": {
    "name": "ipython",
    "version": 3
   },
   "file_extension": ".py",
   "mimetype": "text/x-python",
   "name": "python",
   "nbconvert_exporter": "python",
   "pygments_lexer": "ipython3",
   "version": "3.9.12"
  },
  "toc": {
   "base_numbering": 1,
   "nav_menu": {},
   "number_sections": true,
   "sideBar": true,
   "skip_h1_title": false,
   "title_cell": "Table of Contents",
   "title_sidebar": "Contents",
   "toc_cell": false,
   "toc_position": {},
   "toc_section_display": true,
   "toc_window_display": false
  }
 },
 "nbformat": 4,
 "nbformat_minor": 5
}
