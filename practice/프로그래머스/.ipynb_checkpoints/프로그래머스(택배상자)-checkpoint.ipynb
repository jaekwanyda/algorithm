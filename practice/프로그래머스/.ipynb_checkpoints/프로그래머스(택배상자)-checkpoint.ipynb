{
 "cells": [
  {
   "cell_type": "code",
   "execution_count": null,
   "id": "1f1c94a4",
   "metadata": {},
   "outputs": [],
   "source": [
    "def solution(order):\n",
    "    answer=1\n",
    "    con=[0]*len(order)\n",
    "    for i in range(len(order)):\n",
    "        con[i]=i+1\n",
    "    sub_con=con[:order[0]-1]\n",
    "    idx=1\n",
    "    b=order[0]\n",
    "    while idx<len(order):\n",
    "        if order[idx]>order[idx-1]:\n",
    "            sub_con=sub_con+con[b:order[idx]-1]\n",
    "            answer+=1\n",
    "            b=order[idx]\n",
    "            idx+=1\n",
    "        else:\n",
    "            a=sub_con.pop()\n",
    "            if a==order[idx]:\n",
    "                answer+=1\n",
    "                idx+=1\n",
    "            else:\n",
    "                break\n",
    "    \n",
    "    return answer"
   ]
  }
 ],
 "metadata": {
  "hide_input": false,
  "jupytext": {
   "formats": "ipynb,auto:light"
  },
  "kernelspec": {
   "display_name": "Python 3 (ipykernel)",
   "language": "python",
   "name": "python3"
  },
  "language_info": {
   "codemirror_mode": {
    "name": "ipython",
    "version": 3
   },
   "file_extension": ".py",
   "mimetype": "text/x-python",
   "name": "python",
   "nbconvert_exporter": "python",
   "pygments_lexer": "ipython3",
   "version": "3.9.12"
  },
  "toc": {
   "base_numbering": 1,
   "nav_menu": {},
   "number_sections": true,
   "sideBar": true,
   "skip_h1_title": false,
   "title_cell": "Table of Contents",
   "title_sidebar": "Contents",
   "toc_cell": false,
   "toc_position": {},
   "toc_section_display": true,
   "toc_window_display": false
  }
 },
 "nbformat": 4,
 "nbformat_minor": 5
}
