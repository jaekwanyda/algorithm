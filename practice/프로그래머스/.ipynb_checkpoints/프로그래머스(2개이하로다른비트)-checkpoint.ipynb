{
 "cells": [
  {
   "cell_type": "code",
   "execution_count": null,
   "id": "7f5910c2",
   "metadata": {},
   "outputs": [],
   "source": [
    "def second(n): #n을 2진수로 표현했을 때 1의 개수 구하는 함수\n",
    "    sum_1=0\n",
    "    while True:\n",
    "        if n==1:\n",
    "            sum_1+=1\n",
    "            break\n",
    "        elif n==0:\n",
    "            break\n",
    "        a=n%2\n",
    "        if a==1:\n",
    "            sum_1+=1\n",
    "        n=n//2\n",
    "    return sum_1\n",
    "def solution(numbers):\n",
    "    answer = []\n",
    "    for number in numbers:\n",
    "        if number%2==0:\n",
    "            answer.append(number+1)\n",
    "        else:\n",
    "            k=number+1\n",
    "            if second(number^k)<=2:\n",
    "                answer.append(k)\n",
    "            else:\n",
    "                for i in range(second(number^k)-2):\n",
    "                    k+=2**i\n",
    "                answer.append(k)\n",
    "                    \n",
    "                    \n",
    "    return answer"
   ]
  }
 ],
 "metadata": {
  "hide_input": false,
  "jupytext": {
   "formats": "ipynb,auto:light"
  },
  "kernelspec": {
   "display_name": "Python 3 (ipykernel)",
   "language": "python",
   "name": "python3"
  },
  "language_info": {
   "codemirror_mode": {
    "name": "ipython",
    "version": 3
   },
   "file_extension": ".py",
   "mimetype": "text/x-python",
   "name": "python",
   "nbconvert_exporter": "python",
   "pygments_lexer": "ipython3",
   "version": "3.9.12"
  },
  "toc": {
   "base_numbering": 1,
   "nav_menu": {},
   "number_sections": true,
   "sideBar": true,
   "skip_h1_title": false,
   "title_cell": "Table of Contents",
   "title_sidebar": "Contents",
   "toc_cell": false,
   "toc_position": {},
   "toc_section_display": true,
   "toc_window_display": false
  }
 },
 "nbformat": 4,
 "nbformat_minor": 5
}
