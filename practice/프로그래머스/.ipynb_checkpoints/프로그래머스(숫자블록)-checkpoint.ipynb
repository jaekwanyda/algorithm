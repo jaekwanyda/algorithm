{
 "cells": [
  {
   "cell_type": "code",
   "execution_count": null,
   "id": "67b56ec7",
   "metadata": {},
   "outputs": [],
   "source": [
    "#https://school.programmers.co.kr/learn/courses/30/lessons/12923\n",
    "def solution(begin, end):\n",
    "    answer = []\n",
    "    #약수 중 가장 큰 수 찾기\n",
    "    for i in range(begin,end+1):\n",
    "        if i>1:\n",
    "            a=1\n",
    "            for j in range(2,int(i**(1/2))+1):\n",
    "                if i%j==0:\n",
    "                    a=j\n",
    "                    if i//j<=10000000:\n",
    "                        a=i//j\n",
    "                        break\n",
    "            answer.append(a)\n",
    "        elif i==1:\n",
    "            answer.append(0)\n",
    "    return answer"
   ]
  }
 ],
 "metadata": {
  "hide_input": false,
  "jupytext": {
   "formats": "ipynb,auto:light"
  },
  "kernelspec": {
   "display_name": "Python 3 (ipykernel)",
   "language": "python",
   "name": "python3"
  },
  "language_info": {
   "codemirror_mode": {
    "name": "ipython",
    "version": 3
   },
   "file_extension": ".py",
   "mimetype": "text/x-python",
   "name": "python",
   "nbconvert_exporter": "python",
   "pygments_lexer": "ipython3",
   "version": "3.9.12"
  },
  "toc": {
   "base_numbering": 1,
   "nav_menu": {},
   "number_sections": true,
   "sideBar": true,
   "skip_h1_title": false,
   "title_cell": "Table of Contents",
   "title_sidebar": "Contents",
   "toc_cell": false,
   "toc_position": {},
   "toc_section_display": true,
   "toc_window_display": false
  }
 },
 "nbformat": 4,
 "nbformat_minor": 5
}
