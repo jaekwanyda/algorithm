{
 "cells": [
  {
   "cell_type": "code",
   "execution_count": null,
   "id": "ea3f9828",
   "metadata": {},
   "outputs": [],
   "source": [
    "def solution(k, ranges):\n",
    "    answer = []\n",
    "    data=[k]\n",
    "    while True:\n",
    "        if k%2==0:\n",
    "            data.append(k//2)\n",
    "            k=k/2\n",
    "        else:\n",
    "            data.append(k*3+1)\n",
    "            k=k*3+1\n",
    "        if k<=1:\n",
    "            break\n",
    "    dp=[0]*len(data)\n",
    "    for i in range(1,len(dp)):\n",
    "        dp[i]=dp[i-1]+(data[i]+data[i-1])/2\n",
    "    for i,j in ranges:\n",
    "        if i>len(dp)+j-1:\n",
    "              answer.append(-1.0)\n",
    "        else:\n",
    "            answer.append(dp[-1+j]-dp[i])\n",
    "    return answer"
   ]
  }
 ],
 "metadata": {
  "hide_input": false,
  "jupytext": {
   "formats": "ipynb,auto:light"
  },
  "kernelspec": {
   "display_name": "Python 3 (ipykernel)",
   "language": "python",
   "name": "python3"
  },
  "language_info": {
   "codemirror_mode": {
    "name": "ipython",
    "version": 3
   },
   "file_extension": ".py",
   "mimetype": "text/x-python",
   "name": "python",
   "nbconvert_exporter": "python",
   "pygments_lexer": "ipython3",
   "version": "3.9.12"
  },
  "toc": {
   "base_numbering": 1,
   "nav_menu": {},
   "number_sections": true,
   "sideBar": true,
   "skip_h1_title": false,
   "title_cell": "Table of Contents",
   "title_sidebar": "Contents",
   "toc_cell": false,
   "toc_position": {},
   "toc_section_display": true,
   "toc_window_display": false
  }
 },
 "nbformat": 4,
 "nbformat_minor": 5
}
