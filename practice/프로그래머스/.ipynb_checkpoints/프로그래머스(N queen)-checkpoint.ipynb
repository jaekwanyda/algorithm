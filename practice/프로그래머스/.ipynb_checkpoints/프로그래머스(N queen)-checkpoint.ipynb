{
 "cells": [
  {
   "cell_type": "code",
   "execution_count": null,
   "id": "e7726770",
   "metadata": {},
   "outputs": [],
   "source": [
    "#https://school.programmers.co.kr/learn/courses/30/lessons/12952\n",
    "from collections import deque\n",
    "def solution(n):\n",
    "    answer = 0\n",
    "    q=deque()\n",
    "    #맨 위의 열에서 Q를 고정시키고 가능한 아래열로 bfs돌리기\n",
    "    for i in range(1,n+1):\n",
    "        q.append([i])\n",
    "    while q:\n",
    "        a=q.popleft()\n",
    "        if len(a)==n:#만약 마지막 열까지 가능한 경우 더해주기\n",
    "            answer+=1\n",
    "        else:\n",
    "            k=[i for i in range(1,n+1)]\n",
    "            possi_set=set(k);impossi_set=set()#가능한 집합에서 불가능한 수들을 빼기\n",
    "            for i,j in enumerate(a):\n",
    "                impossi_set.add(j);impossi_set.add(j+(len(a)-i))\n",
    "                impossi_set.add(j-(len(a)-i))\n",
    "            for i in possi_set-impossi_set:#남아있는 가능한 것들을 추가해서 q에 더해주기\n",
    "                q.append(a+[i])\n",
    "    return answer"
   ]
  }
 ],
 "metadata": {
  "hide_input": false,
  "jupytext": {
   "formats": "ipynb,auto:light"
  },
  "kernelspec": {
   "display_name": "Python 3 (ipykernel)",
   "language": "python",
   "name": "python3"
  },
  "language_info": {
   "codemirror_mode": {
    "name": "ipython",
    "version": 3
   },
   "file_extension": ".py",
   "mimetype": "text/x-python",
   "name": "python",
   "nbconvert_exporter": "python",
   "pygments_lexer": "ipython3",
   "version": "3.9.12"
  },
  "toc": {
   "base_numbering": 1,
   "nav_menu": {},
   "number_sections": true,
   "sideBar": true,
   "skip_h1_title": false,
   "title_cell": "Table of Contents",
   "title_sidebar": "Contents",
   "toc_cell": false,
   "toc_position": {},
   "toc_section_display": true,
   "toc_window_display": false
  }
 },
 "nbformat": 4,
 "nbformat_minor": 5
}
