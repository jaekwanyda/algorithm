{
 "cells": [
  {
   "cell_type": "code",
   "execution_count": null,
   "id": "5bd561bc",
   "metadata": {},
   "outputs": [],
   "source": [
    "#배운점: 이때까지 제곱쓸일이 없어서 ^의 기능을 망각하고 있었는데 ^는 bitwise XOR을 할때 사용하는 것이다.\n",
    "def solution(data, col, row_begin, row_end):\n",
    "    data=sorted(data,key= lambda x:(x[col-1],-x[0]))\n",
    "    v=0\n",
    "    for i in data[row_begin-1]:\n",
    "        v+= (i%row_begin)\n",
    "    for i in range(row_begin,row_end):\n",
    "        s=0\n",
    "        for j in data[i]:\n",
    "            s+=(j%(i+1))\n",
    "        v=v^s\n",
    "        print(v)\n",
    "    return v"
   ]
  }
 ],
 "metadata": {
  "hide_input": false,
  "jupytext": {
   "formats": "ipynb,auto:light"
  },
  "kernelspec": {
   "display_name": "Python 3 (ipykernel)",
   "language": "python",
   "name": "python3"
  },
  "language_info": {
   "codemirror_mode": {
    "name": "ipython",
    "version": 3
   },
   "file_extension": ".py",
   "mimetype": "text/x-python",
   "name": "python",
   "nbconvert_exporter": "python",
   "pygments_lexer": "ipython3",
   "version": "3.9.12"
  },
  "toc": {
   "base_numbering": 1,
   "nav_menu": {},
   "number_sections": true,
   "sideBar": true,
   "skip_h1_title": false,
   "title_cell": "Table of Contents",
   "title_sidebar": "Contents",
   "toc_cell": false,
   "toc_position": {},
   "toc_section_display": true,
   "toc_window_display": false
  }
 },
 "nbformat": 4,
 "nbformat_minor": 5
}
