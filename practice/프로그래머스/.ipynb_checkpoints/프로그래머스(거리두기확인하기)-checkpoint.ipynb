{
 "cells": [
  {
   "cell_type": "code",
   "execution_count": null,
   "id": "a515d183",
   "metadata": {},
   "outputs": [],
   "source": [
    "from collections import deque\n",
    "def solution(places):\n",
    "    answer = []\n",
    "    for place in places:\n",
    "        q=deque();m=0 #거리두기 안지킨 사람 세기\n",
    "        dx=[-1,1,0,0];dy=[0,0,-1,1]\n",
    "        for i,k in enumerate(place):\n",
    "            for j in range(5):\n",
    "                if k[j]=='P':\n",
    "                    q.append((i,j,(i,j),0))\n",
    "        while q:\n",
    "            x,y,start,n=q.popleft()\n",
    "            if n>=2:\n",
    "                break\n",
    "            for i in range(4):\n",
    "                nx=x+dx[i]\n",
    "                ny=y+dy[i]\n",
    "                if nx>=0 and nx<5 and ny>=0 and ny<5:\n",
    "                    if place[nx][ny]==\"O\" and (nx,ny)!=start:\n",
    "                        q.append((nx,ny,start,n+1))\n",
    "                    elif place[nx][ny]==\"P\" and (nx,ny)!=start:\n",
    "                        m+=1\n",
    "        if m>0:\n",
    "            answer.append(0)\n",
    "        else:\n",
    "            answer.append(1)\n",
    "                        \n",
    "    return answer"
   ]
  }
 ],
 "metadata": {
  "hide_input": false,
  "jupytext": {
   "formats": "ipynb,auto:light"
  },
  "kernelspec": {
   "display_name": "Python 3 (ipykernel)",
   "language": "python",
   "name": "python3"
  },
  "language_info": {
   "codemirror_mode": {
    "name": "ipython",
    "version": 3
   },
   "file_extension": ".py",
   "mimetype": "text/x-python",
   "name": "python",
   "nbconvert_exporter": "python",
   "pygments_lexer": "ipython3",
   "version": "3.9.12"
  },
  "toc": {
   "base_numbering": 1,
   "nav_menu": {},
   "number_sections": true,
   "sideBar": true,
   "skip_h1_title": false,
   "title_cell": "Table of Contents",
   "title_sidebar": "Contents",
   "toc_cell": false,
   "toc_position": {},
   "toc_section_display": true,
   "toc_window_display": false
  }
 },
 "nbformat": 4,
 "nbformat_minor": 5
}
