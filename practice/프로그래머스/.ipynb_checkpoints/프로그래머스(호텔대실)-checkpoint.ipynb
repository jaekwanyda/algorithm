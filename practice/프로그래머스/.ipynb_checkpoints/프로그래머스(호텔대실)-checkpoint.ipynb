{
 "cells": [
  {
   "cell_type": "code",
   "execution_count": null,
   "id": "76f038a5",
   "metadata": {},
   "outputs": [],
   "source": [
    "def end_time(end):#청소까지 처리한 퇴실 시간\n",
    "    end=list(end)\n",
    "    a=end[3]\n",
    "    if int(a)<5:\n",
    "        end[3]=str(int(end[3])+1)\n",
    "    else:\n",
    "        end[3]='0'\n",
    "        b=end[1]\n",
    "        if int(b)<9:\n",
    "            end[1]=str(int(end[1])+1)\n",
    "        else:\n",
    "            end[1]='0'\n",
    "            end[0]=str(int(end[0])+1)\n",
    "    return ''.join(end)\n",
    "\n",
    "def solution(book_time):\n",
    "    answer = 0\n",
    "    array=sorted(book_time,key=lambda x:(x[0],x[1]))\n",
    "    while array:\n",
    "        start,end=array.pop(0);cnt=0\n",
    "        while cnt<len(array):\n",
    "            if array[cnt][0]>=end_time(end):\n",
    "                start,end=array.pop(cnt)\n",
    "            else:\n",
    "                cnt+=1\n",
    "        answer+=1     \n",
    "    return answer"
   ]
  }
 ],
 "metadata": {
  "hide_input": false,
  "jupytext": {
   "formats": "ipynb,auto:light"
  },
  "kernelspec": {
   "display_name": "Python 3 (ipykernel)",
   "language": "python",
   "name": "python3"
  },
  "language_info": {
   "codemirror_mode": {
    "name": "ipython",
    "version": 3
   },
   "file_extension": ".py",
   "mimetype": "text/x-python",
   "name": "python",
   "nbconvert_exporter": "python",
   "pygments_lexer": "ipython3",
   "version": "3.9.12"
  },
  "toc": {
   "base_numbering": 1,
   "nav_menu": {},
   "number_sections": true,
   "sideBar": true,
   "skip_h1_title": false,
   "title_cell": "Table of Contents",
   "title_sidebar": "Contents",
   "toc_cell": false,
   "toc_position": {},
   "toc_section_display": true,
   "toc_window_display": false
  }
 },
 "nbformat": 4,
 "nbformat_minor": 5
}
