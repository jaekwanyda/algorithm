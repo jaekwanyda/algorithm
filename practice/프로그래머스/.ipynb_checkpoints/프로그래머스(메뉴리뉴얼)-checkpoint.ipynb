{
 "cells": [
  {
   "cell_type": "code",
   "execution_count": null,
   "id": "057361ef",
   "metadata": {},
   "outputs": [],
   "source": [
    "from itertools import combinations #tool의 중요성!!\n",
    "from collections import Counter\n",
    "\n",
    "\n",
    "def solution(orders, course):\n",
    "    answer = []\n",
    "    for c in course:\n",
    "        temp = []\n",
    "        for order in orders:\n",
    "            combi = combinations(sorted(order), c)\n",
    "            temp += combi\n",
    "        counter = Counter(temp)\n",
    "        print(counter)\n",
    "        if len(counter) != 0 and max(counter.values()) != 1:\n",
    "            for f in counter:\n",
    "                if counter[f]==max(counter.values()):\n",
    "                    answer+=[''.join(f)]\n",
    "    answer.sort()\n",
    "    return answer"
   ]
  }
 ],
 "metadata": {
  "hide_input": false,
  "jupytext": {
   "formats": "ipynb,auto:light"
  },
  "kernelspec": {
   "display_name": "Python 3 (ipykernel)",
   "language": "python",
   "name": "python3"
  },
  "language_info": {
   "codemirror_mode": {
    "name": "ipython",
    "version": 3
   },
   "file_extension": ".py",
   "mimetype": "text/x-python",
   "name": "python",
   "nbconvert_exporter": "python",
   "pygments_lexer": "ipython3",
   "version": "3.9.12"
  },
  "toc": {
   "base_numbering": 1,
   "nav_menu": {},
   "number_sections": true,
   "sideBar": true,
   "skip_h1_title": false,
   "title_cell": "Table of Contents",
   "title_sidebar": "Contents",
   "toc_cell": false,
   "toc_position": {},
   "toc_section_display": true,
   "toc_window_display": false
  }
 },
 "nbformat": 4,
 "nbformat_minor": 5
}
