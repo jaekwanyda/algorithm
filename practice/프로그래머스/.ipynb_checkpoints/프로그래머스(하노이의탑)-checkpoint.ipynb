{
 "cells": [
  {
   "cell_type": "code",
   "execution_count": null,
   "id": "0285e8bb",
   "metadata": {},
   "outputs": [],
   "source": [
    "#https://school.programmers.co.kr/learn/courses/30/lessons/12946\n",
    "def solution(n):\n",
    "    dp=[[[1,3]]] #n에 따른 dp 테이블 생성(n=1인 경우 넣어두기)\n",
    "    for i in range(14):\n",
    "        a=[]\n",
    "        for d,p in dp[i]:#n-1의 하노이 탑을 2번째 기둥에 옮기기\n",
    "            if d==2:\n",
    "                d=3\n",
    "            elif d==3:\n",
    "                d=2\n",
    "            if p==2:\n",
    "                p=3\n",
    "            elif p==3:\n",
    "                p=2\n",
    "            a.append([d,p])\n",
    "        a.append([1,3])#n번째 원판 3번째 기둥으로 옮기기\n",
    "        for d,p in dp[i]:#2번째 기둥의 n-1 하노이탑 3번째 기둥을로 옮기기\n",
    "            if d==1:\n",
    "                d=2\n",
    "            elif d==2:\n",
    "                d=1\n",
    "            if p==1:\n",
    "                p=2\n",
    "            elif p==2:\n",
    "                p=1\n",
    "            a.append([d,p])\n",
    "        dp.append(a)\n",
    "    return dp[n-1]"
   ]
  }
 ],
 "metadata": {
  "hide_input": false,
  "jupytext": {
   "formats": "ipynb,auto:light"
  },
  "kernelspec": {
   "display_name": "Python 3 (ipykernel)",
   "language": "python",
   "name": "python3"
  },
  "language_info": {
   "codemirror_mode": {
    "name": "ipython",
    "version": 3
   },
   "file_extension": ".py",
   "mimetype": "text/x-python",
   "name": "python",
   "nbconvert_exporter": "python",
   "pygments_lexer": "ipython3",
   "version": "3.9.12"
  },
  "toc": {
   "base_numbering": 1,
   "nav_menu": {},
   "number_sections": true,
   "sideBar": true,
   "skip_h1_title": false,
   "title_cell": "Table of Contents",
   "title_sidebar": "Contents",
   "toc_cell": false,
   "toc_position": {},
   "toc_section_display": true,
   "toc_window_display": false
  }
 },
 "nbformat": 4,
 "nbformat_minor": 5
}
