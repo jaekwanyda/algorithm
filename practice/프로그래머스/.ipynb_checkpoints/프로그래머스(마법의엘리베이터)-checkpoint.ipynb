{
 "cells": [
  {
   "cell_type": "code",
   "execution_count": null,
   "id": "cbc70975",
   "metadata": {},
   "outputs": [],
   "source": [
    "def solution(storey):\n",
    "    answer = 0\n",
    "    while storey:\n",
    "        end_num=storey%10\n",
    "        if end_num<5:\n",
    "            answer+=end_num\n",
    "            storey-=end_num\n",
    "        elif end_num==5:\n",
    "            if storey//10==0:\n",
    "                answer+=end_num\n",
    "                storey-=end_num\n",
    "            else:\n",
    "                b=storey//10\n",
    "                next_end=b%10\n",
    "                if next_end<=4:\n",
    "                    answer+=end_num\n",
    "                    storey-=end_num\n",
    "                else:\n",
    "                    answer+=10-end_num\n",
    "                    storey+=10-end_num\n",
    "                    \n",
    "        else:\n",
    "            answer+=10-end_num\n",
    "            storey+=10-end_num\n",
    "        storey=storey//10\n",
    "    return answer"
   ]
  }
 ],
 "metadata": {
  "hide_input": false,
  "jupytext": {
   "formats": "ipynb,auto:light"
  },
  "kernelspec": {
   "display_name": "Python 3 (ipykernel)",
   "language": "python",
   "name": "python3"
  },
  "language_info": {
   "codemirror_mode": {
    "name": "ipython",
    "version": 3
   },
   "file_extension": ".py",
   "mimetype": "text/x-python",
   "name": "python",
   "nbconvert_exporter": "python",
   "pygments_lexer": "ipython3",
   "version": "3.9.12"
  },
  "toc": {
   "base_numbering": 1,
   "nav_menu": {},
   "number_sections": true,
   "sideBar": true,
   "skip_h1_title": false,
   "title_cell": "Table of Contents",
   "title_sidebar": "Contents",
   "toc_cell": false,
   "toc_position": {},
   "toc_section_display": true,
   "toc_window_display": false
  }
 },
 "nbformat": 4,
 "nbformat_minor": 5
}
