{
 "cells": [
  {
   "cell_type": "code",
   "execution_count": null,
   "id": "3195fdb4",
   "metadata": {},
   "outputs": [],
   "source": [
    "#https://school.programmers.co.kr/learn/courses/30/lessons/12949\n",
    "def solution(arr1, arr2):\n",
    "    answer = [];row=len(arr1);column=len(arr2[0])\n",
    "    for i in range(row):\n",
    "        a=[]\n",
    "        for j in range(column):\n",
    "            b=0\n",
    "            for k in range(len(arr1[0])):\n",
    "                b+=arr1[i][k]*arr2[k][j]\n",
    "            a.append(b)\n",
    "        answer.append(a)\n",
    "    return answer"
   ]
  }
 ],
 "metadata": {
  "hide_input": false,
  "jupytext": {
   "formats": "ipynb,auto:light"
  },
  "kernelspec": {
   "display_name": "Python 3 (ipykernel)",
   "language": "python",
   "name": "python3"
  },
  "language_info": {
   "codemirror_mode": {
    "name": "ipython",
    "version": 3
   },
   "file_extension": ".py",
   "mimetype": "text/x-python",
   "name": "python",
   "nbconvert_exporter": "python",
   "pygments_lexer": "ipython3",
   "version": "3.9.12"
  },
  "toc": {
   "base_numbering": 1,
   "nav_menu": {},
   "number_sections": true,
   "sideBar": true,
   "skip_h1_title": false,
   "title_cell": "Table of Contents",
   "title_sidebar": "Contents",
   "toc_cell": false,
   "toc_position": {},
   "toc_section_display": true,
   "toc_window_display": false
  }
 },
 "nbformat": 4,
 "nbformat_minor": 5
}
