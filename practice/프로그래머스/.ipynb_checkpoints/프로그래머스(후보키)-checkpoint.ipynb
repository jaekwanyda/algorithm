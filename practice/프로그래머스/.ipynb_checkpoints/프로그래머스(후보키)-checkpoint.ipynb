{
 "cells": [
  {
   "cell_type": "code",
   "execution_count": null,
   "id": "57dd9d5d",
   "metadata": {},
   "outputs": [],
   "source": [
    "from itertools import combinations\n",
    "def solution(relation):\n",
    "    combi=[]\n",
    "    for i in range(1,len(relation[0])+1):\n",
    "        combi+=combinations(range(len(relation[0])),i)\n",
    "    uni=[] #유일한 조합만 저장할 list\n",
    "    for i in combi:\n",
    "        array=[tuple([row[column] for column in i]) for row in relation]\n",
    "        if len(set(array))==len(relation):#uniqueness\n",
    "            possi=True\n",
    "            for k in uni: #uni에 속한 것들을 안가지고 있을 때 최소성 성립\n",
    "                if set(k).issubset(set(i)):\n",
    "                    possi=False\n",
    "                    break\n",
    "            if possi:\n",
    "                uni+=[i]\n",
    "    return len(uni)"
   ]
  }
 ],
 "metadata": {
  "hide_input": false,
  "jupytext": {
   "formats": "ipynb,auto:light"
  },
  "kernelspec": {
   "display_name": "Python 3 (ipykernel)",
   "language": "python",
   "name": "python3"
  },
  "language_info": {
   "codemirror_mode": {
    "name": "ipython",
    "version": 3
   },
   "file_extension": ".py",
   "mimetype": "text/x-python",
   "name": "python",
   "nbconvert_exporter": "python",
   "pygments_lexer": "ipython3",
   "version": "3.9.12"
  },
  "toc": {
   "base_numbering": 1,
   "nav_menu": {},
   "number_sections": true,
   "sideBar": true,
   "skip_h1_title": false,
   "title_cell": "Table of Contents",
   "title_sidebar": "Contents",
   "toc_cell": false,
   "toc_position": {},
   "toc_section_display": true,
   "toc_window_display": false
  }
 },
 "nbformat": 4,
 "nbformat_minor": 5
}
