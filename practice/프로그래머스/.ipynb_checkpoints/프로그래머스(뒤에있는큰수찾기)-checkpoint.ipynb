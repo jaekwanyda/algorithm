{
 "cells": [
  {
   "cell_type": "code",
   "execution_count": null,
   "id": "f8888ffd",
   "metadata": {},
   "outputs": [],
   "source": [
    "import heapq\n",
    "from collections import deque\n",
    "def solution(numbers):\n",
    "    answer = [-1]*len(numbers)\n",
    "    q=[]\n",
    "    heapq.heappush(q,(numbers[0],0))\n",
    "    num_que=deque(numbers)\n",
    "    num_que.popleft()\n",
    "    i=1\n",
    "    while num_que:\n",
    "        i1=num_que.popleft()\n",
    "        while True:\n",
    "            if len(q)==0:\n",
    "                break\n",
    "            i0,idx=heapq.heappop(q)\n",
    "            if i0<i1:\n",
    "                answer[idx]=i1\n",
    "            else:\n",
    "                heapq.heappush(q,(i0,idx))\n",
    "                break\n",
    "        if answer[i]==-1:\n",
    "            heapq.heappush(q,(i1,i))\n",
    "        i+=1\n",
    "    return answer"
   ]
  }
 ],
 "metadata": {
  "hide_input": false,
  "jupytext": {
   "formats": "ipynb,auto:light"
  },
  "kernelspec": {
   "display_name": "Python 3 (ipykernel)",
   "language": "python",
   "name": "python3"
  },
  "language_info": {
   "codemirror_mode": {
    "name": "ipython",
    "version": 3
   },
   "file_extension": ".py",
   "mimetype": "text/x-python",
   "name": "python",
   "nbconvert_exporter": "python",
   "pygments_lexer": "ipython3",
   "version": "3.9.12"
  },
  "toc": {
   "base_numbering": 1,
   "nav_menu": {},
   "number_sections": true,
   "sideBar": true,
   "skip_h1_title": false,
   "title_cell": "Table of Contents",
   "title_sidebar": "Contents",
   "toc_cell": false,
   "toc_position": {},
   "toc_section_display": true,
   "toc_window_display": false
  }
 },
 "nbformat": 4,
 "nbformat_minor": 5
}
