{
 "cells": [
  {
   "cell_type": "code",
   "execution_count": null,
   "id": "9248913e",
   "metadata": {},
   "outputs": [],
   "source": [
    "def solution(bridge_length, weight, truck_weights):\n",
    "    time=0;truck_q=[];time_q=[]\n",
    "    while truck_weights:\n",
    "        time+=1\n",
    "        if truck_q and time_q and time-time_q[0]>=bridge_length:\n",
    "            truck_q.pop(0);time_q.pop(0)\n",
    "        if sum(truck_q)+truck_weights[0]<=weight:\n",
    "            truck_q.append(truck_weights.pop(0));time_q.append(time)\n",
    "            \n",
    "    \n",
    "    return time+bridge_length"
   ]
  }
 ],
 "metadata": {
  "hide_input": false,
  "jupytext": {
   "formats": "ipynb,auto:light"
  },
  "kernelspec": {
   "display_name": "Python 3 (ipykernel)",
   "language": "python",
   "name": "python3"
  },
  "language_info": {
   "codemirror_mode": {
    "name": "ipython",
    "version": 3
   },
   "file_extension": ".py",
   "mimetype": "text/x-python",
   "name": "python",
   "nbconvert_exporter": "python",
   "pygments_lexer": "ipython3",
   "version": "3.9.12"
  },
  "toc": {
   "base_numbering": 1,
   "nav_menu": {},
   "number_sections": true,
   "sideBar": true,
   "skip_h1_title": false,
   "title_cell": "Table of Contents",
   "title_sidebar": "Contents",
   "toc_cell": false,
   "toc_position": {},
   "toc_section_display": true,
   "toc_window_display": false
  }
 },
 "nbformat": 4,
 "nbformat_minor": 5
}
