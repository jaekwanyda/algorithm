{
 "cells": [
  {
   "cell_type": "code",
   "execution_count": null,
   "id": "940a804a",
   "metadata": {},
   "outputs": [],
   "source": [
    "from collections import deque\n",
    "def solution(rows, columns, queries):\n",
    "    answer = []\n",
    "    array=[[0]*(columns+1) for i in range(rows+1)]\n",
    "    for i in range(1,rows+1):\n",
    "        for j in range(1,columns+1):\n",
    "            array[i][j]=(i-1)*columns+j\n",
    "    q=deque()\n",
    "    for querie in queries:\n",
    "        y1,x1,y2,x2=querie\n",
    "        for i in range(x1,x2):\n",
    "            q.append(array[y1][i])\n",
    "        for i in range(y1,y2):\n",
    "            q.append(array[i][x2])\n",
    "        for i in range(x2,x1,-1):\n",
    "            q.append(array[y2][i])\n",
    "        for i in range(y2,y1,-1):\n",
    "            q.append(array[i][x1])\n",
    "        answer.append(min(q))\n",
    "        for i in range(x1+1,x2+1):\n",
    "            array[y1][i]=q.popleft()\n",
    "        for i in range(y1+1,y2+1):\n",
    "            array[i][x2]=q.popleft()\n",
    "        for i in range(x2-1,x1-1,-1):\n",
    "            array[y2][i]=q.popleft()\n",
    "        for i in range(y2-1,y1-1,-1):\n",
    "            array[i][x1]=q.popleft()\n",
    "    return answer"
   ]
  }
 ],
 "metadata": {
  "hide_input": false,
  "jupytext": {
   "formats": "ipynb,auto:light"
  },
  "kernelspec": {
   "display_name": "Python 3 (ipykernel)",
   "language": "python",
   "name": "python3"
  },
  "language_info": {
   "codemirror_mode": {
    "name": "ipython",
    "version": 3
   },
   "file_extension": ".py",
   "mimetype": "text/x-python",
   "name": "python",
   "nbconvert_exporter": "python",
   "pygments_lexer": "ipython3",
   "version": "3.9.12"
  },
  "toc": {
   "base_numbering": 1,
   "nav_menu": {},
   "number_sections": true,
   "sideBar": true,
   "skip_h1_title": false,
   "title_cell": "Table of Contents",
   "title_sidebar": "Contents",
   "toc_cell": false,
   "toc_position": {},
   "toc_section_display": true,
   "toc_window_display": false
  }
 },
 "nbformat": 4,
 "nbformat_minor": 5
}
