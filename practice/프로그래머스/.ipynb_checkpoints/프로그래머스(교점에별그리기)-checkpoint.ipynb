{
 "cells": [
  {
   "cell_type": "code",
   "execution_count": null,
   "id": "3464aae1",
   "metadata": {},
   "outputs": [],
   "source": [
    "def meet(line1,line2):\n",
    "    x=0.1;y=0.1\n",
    "    if line1[0]*line2[1]-line1[1]*line2[0]!=0:\n",
    "        x=(line1[1]*line2[2]-line1[2]*line2[1])/(line1[0]*line2[1]-line1[1]*line2[0])\n",
    "    if line1[1]*line2[0]-line1[0]*line2[1]!=0:\n",
    "        y=(line1[0]*line2[2]-line1[2]*line2[0])/(line1[1]*line2[0]-line1[0]*line2[1])\n",
    "    return x,y\n",
    "\n",
    "def solution(line):\n",
    "    answer = []\n",
    "    stars=set()\n",
    "    result=[]\n",
    "    for i in range(len(line)):\n",
    "        for j in range(i+1,len(line)):\n",
    "            x,y=meet(line[i],line[j])\n",
    "            if x%1==0 and y%1==0:\n",
    "                stars.add((x,y))\n",
    "    for i in stars:\n",
    "        result.append(list(i))\n",
    "    result.sort()\n",
    "    column=result[-1][0]-result[0][0]+1\n",
    "    left=result[0][0]\n",
    "    result=sorted(result,key=lambda x:x[1])\n",
    "    row=result[-1][1]-result[0][1]+1\n",
    "    up=result[-1][1]\n",
    "    for i in result:\n",
    "        i[0]-=left;i[1]=abs(i[1]-up)\n",
    "    print(result)\n",
    "    for i in range(int(row)):\n",
    "        a=''\n",
    "        for j in range(int(column)):\n",
    "            if [j,i] in result:\n",
    "                a+='*'\n",
    "            else:\n",
    "                a+='.'\n",
    "            if j==int(column)-1:\n",
    "                answer.append(a)\n",
    "    return answer"
   ]
  }
 ],
 "metadata": {
  "hide_input": false,
  "jupytext": {
   "formats": "ipynb,auto:light"
  },
  "kernelspec": {
   "display_name": "Python 3 (ipykernel)",
   "language": "python",
   "name": "python3"
  },
  "language_info": {
   "codemirror_mode": {
    "name": "ipython",
    "version": 3
   },
   "file_extension": ".py",
   "mimetype": "text/x-python",
   "name": "python",
   "nbconvert_exporter": "python",
   "pygments_lexer": "ipython3",
   "version": "3.9.12"
  },
  "toc": {
   "base_numbering": 1,
   "nav_menu": {},
   "number_sections": true,
   "sideBar": true,
   "skip_h1_title": false,
   "title_cell": "Table of Contents",
   "title_sidebar": "Contents",
   "toc_cell": false,
   "toc_position": {},
   "toc_section_display": true,
   "toc_window_display": false
  }
 },
 "nbformat": 4,
 "nbformat_minor": 5
}
