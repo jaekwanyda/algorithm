{
 "cells": [
  {
   "cell_type": "code",
   "execution_count": null,
   "id": "03bb8dec",
   "metadata": {},
   "outputs": [],
   "source": [
    "#https://school.programmers.co.kr/learn/courses/30/lessons/12973\n",
    "def solution(s):\n",
    "    #일일이 하는 것은 시간복잡도 문제 발생=>stack을 이용해서 100만개를 한꺼번에 체크\n",
    "    stack=[];cnt=0 #시작 index는 0부터\n",
    "    if len(s)%2!=0:#list가 홀수인 경우 어차피 실패\n",
    "        return 0\n",
    "    while cnt<len(s):\n",
    "        k=s[cnt]\n",
    "        if cnt<len(s)-1 and k==s[cnt+1]: #만약 다음 문자와 같으면 한칸 점프\n",
    "            cnt+=2\n",
    "        else: #아닌 경우 stack과도 비교\n",
    "            if stack and stack[-1]==k:\n",
    "                stack.pop()\n",
    "            else:\n",
    "                stack+=k\n",
    "            cnt+=1\n",
    "    if len(stack)==0:\n",
    "        answer=1\n",
    "    else:\n",
    "        answer=0\n",
    "        \n",
    "    return answer"
   ]
  }
 ],
 "metadata": {
  "hide_input": false,
  "jupytext": {
   "formats": "ipynb,auto:light"
  },
  "kernelspec": {
   "display_name": "Python 3 (ipykernel)",
   "language": "python",
   "name": "python3"
  },
  "language_info": {
   "codemirror_mode": {
    "name": "ipython",
    "version": 3
   },
   "file_extension": ".py",
   "mimetype": "text/x-python",
   "name": "python",
   "nbconvert_exporter": "python",
   "pygments_lexer": "ipython3",
   "version": "3.9.12"
  },
  "toc": {
   "base_numbering": 1,
   "nav_menu": {},
   "number_sections": true,
   "sideBar": true,
   "skip_h1_title": false,
   "title_cell": "Table of Contents",
   "title_sidebar": "Contents",
   "toc_cell": false,
   "toc_position": {},
   "toc_section_display": true,
   "toc_window_display": false
  }
 },
 "nbformat": 4,
 "nbformat_minor": 5
}
