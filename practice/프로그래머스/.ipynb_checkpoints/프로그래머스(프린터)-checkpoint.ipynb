{
 "cells": [
  {
   "cell_type": "code",
   "execution_count": null,
   "id": "4d7a7e4b",
   "metadata": {},
   "outputs": [],
   "source": [
    "def solution(priorities, location):\n",
    "    answer = 0 ;stack=[]\n",
    "    for i,j in enumerate(priorities):\n",
    "        stack.append((i,j))\n",
    "    while stack:\n",
    "        idx1,prior1=stack.pop(0);possi=True\n",
    "        for idx2,prior2 in stack:\n",
    "            if prior1<prior2:\n",
    "                possi=False\n",
    "        if possi:\n",
    "            answer+=1\n",
    "            if idx1==location:\n",
    "                break\n",
    "        else:\n",
    "            stack.append((idx1,prior1))\n",
    "        \n",
    "    return answer"
   ]
  }
 ],
 "metadata": {
  "hide_input": false,
  "jupytext": {
   "formats": "ipynb,auto:light"
  },
  "kernelspec": {
   "display_name": "Python 3 (ipykernel)",
   "language": "python",
   "name": "python3"
  },
  "language_info": {
   "codemirror_mode": {
    "name": "ipython",
    "version": 3
   },
   "file_extension": ".py",
   "mimetype": "text/x-python",
   "name": "python",
   "nbconvert_exporter": "python",
   "pygments_lexer": "ipython3",
   "version": "3.9.12"
  },
  "toc": {
   "base_numbering": 1,
   "nav_menu": {},
   "number_sections": true,
   "sideBar": true,
   "skip_h1_title": false,
   "title_cell": "Table of Contents",
   "title_sidebar": "Contents",
   "toc_cell": false,
   "toc_position": {},
   "toc_section_display": true,
   "toc_window_display": false
  }
 },
 "nbformat": 4,
 "nbformat_minor": 5
}
