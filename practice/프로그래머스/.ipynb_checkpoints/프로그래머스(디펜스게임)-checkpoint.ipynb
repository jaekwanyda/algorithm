{
 "cells": [
  {
   "cell_type": "code",
   "execution_count": null,
   "id": "4af20598",
   "metadata": {},
   "outputs": [],
   "source": [
    "# 배운점: heapq 사용에 익숙해지자\n",
    "import heapq\n",
    "def solution(n, k, enemy):\n",
    "    q=[]\n",
    "    sum_enemy=0;end_round=0\n",
    "    for num in enemy:\n",
    "        sum_enemy+=num\n",
    "        heapq.heappush(q,-num)\n",
    "        if sum_enemy<=n:\n",
    "            end_round+=1\n",
    "        elif k>0:\n",
    "            k-=1\n",
    "            sum_enemy+=heapq.heappop(q)\n",
    "            end_round+=1\n",
    "        else:\n",
    "            break\n",
    "    return end_round"
   ]
  }
 ],
 "metadata": {
  "hide_input": false,
  "jupytext": {
   "formats": "ipynb,auto:light"
  },
  "kernelspec": {
   "display_name": "Python 3 (ipykernel)",
   "language": "python",
   "name": "python3"
  },
  "language_info": {
   "codemirror_mode": {
    "name": "ipython",
    "version": 3
   },
   "file_extension": ".py",
   "mimetype": "text/x-python",
   "name": "python",
   "nbconvert_exporter": "python",
   "pygments_lexer": "ipython3",
   "version": "3.9.12"
  },
  "toc": {
   "base_numbering": 1,
   "nav_menu": {},
   "number_sections": true,
   "sideBar": true,
   "skip_h1_title": false,
   "title_cell": "Table of Contents",
   "title_sidebar": "Contents",
   "toc_cell": false,
   "toc_position": {},
   "toc_section_display": true,
   "toc_window_display": false
  }
 },
 "nbformat": 4,
 "nbformat_minor": 5
}
