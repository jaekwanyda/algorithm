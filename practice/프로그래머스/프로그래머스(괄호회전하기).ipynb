{
 "cells": [
  {
   "cell_type": "code",
   "execution_count": 2,
   "id": "0ae5485f",
   "metadata": {},
   "outputs": [
    {
     "ename": "NameError",
     "evalue": "name 'small' is not defined",
     "output_type": "error",
     "traceback": [
      "\u001b[1;31m---------------------------------------------------------------------------\u001b[0m",
      "\u001b[1;31mNameError\u001b[0m                                 Traceback (most recent call last)",
      "Input \u001b[1;32mIn [2]\u001b[0m, in \u001b[0;36m<cell line: 2>\u001b[1;34m()\u001b[0m\n\u001b[0;32m      1\u001b[0m dic\u001b[38;5;241m=\u001b[39m{}\n\u001b[1;32m----> 2\u001b[0m dic[\u001b[43msmall\u001b[49m]\u001b[38;5;241m=\u001b[39m\u001b[38;5;241m0\u001b[39m\n",
      "\u001b[1;31mNameError\u001b[0m: name 'small' is not defined"
     ]
    }
   ],
   "source": [
    "def is_correct(st): #{[}] 인 테스트 케이스 확인하기!\n",
    "    dic={} \n",
    "    dic['small']=0;dic['middle']=0;dic['big']=0\n",
    "    last=[]\n",
    "    for inx,i in enumerate(st):\n",
    "        if i==\"(\":\n",
    "            dic['small']+=1\n",
    "            last.append('small')\n",
    "        if i==\"{\":\n",
    "            dic['middle']+=1\n",
    "            last.append('middle')\n",
    "        if i==\"[\":\n",
    "            dic['big']+=1\n",
    "            last.append('big')\n",
    "        if i==\")\":\n",
    "            if len(last)>0:\n",
    "                a=last.pop()\n",
    "            else:\n",
    "                return False\n",
    "            dic['small']-=1\n",
    "            if a!=\"small\" or dic['small']<0:\n",
    "                return False     \n",
    "        if i==\"}\":\n",
    "            dic['middle']-=1\n",
    "            if len(last)>0:\n",
    "                a=last.pop()\n",
    "            else:\n",
    "                return False\n",
    "            if a!=\"middle\" or dic['middle']<0:\n",
    "                return False\n",
    "        if i==\"]\":\n",
    "            dic['big']-=1\n",
    "            if len(last)>0:\n",
    "                a=last.pop()\n",
    "            else:\n",
    "                return False\n",
    "            if a!=\"big\" or dic['big']<0:\n",
    "                return False\n",
    "    for i in dic:\n",
    "        if dic[i]!=0:\n",
    "            return False\n",
    "    return True\n",
    "        \n",
    "def solution(s):\n",
    "    answer = 0\n",
    "    for i in range(len(s)):\n",
    "        st=s[i:]+s[:i]\n",
    "        if is_correct(st):\n",
    "            answer+=1\n",
    "    return answer"
   ]
  },
  {
   "cell_type": "code",
   "execution_count": null,
   "id": "4d813d4f",
   "metadata": {},
   "outputs": [],
   "source": []
  }
 ],
 "metadata": {
  "hide_input": false,
  "jupytext": {
   "formats": "ipynb,auto:light"
  },
  "kernelspec": {
   "display_name": "Python 3 (ipykernel)",
   "language": "python",
   "name": "python3"
  },
  "language_info": {
   "codemirror_mode": {
    "name": "ipython",
    "version": 3
   },
   "file_extension": ".py",
   "mimetype": "text/x-python",
   "name": "python",
   "nbconvert_exporter": "python",
   "pygments_lexer": "ipython3",
   "version": "3.9.12"
  },
  "toc": {
   "base_numbering": 1,
   "nav_menu": {},
   "number_sections": true,
   "sideBar": true,
   "skip_h1_title": false,
   "title_cell": "Table of Contents",
   "title_sidebar": "Contents",
   "toc_cell": false,
   "toc_position": {},
   "toc_section_display": true,
   "toc_window_display": false
  }
 },
 "nbformat": 4,
 "nbformat_minor": 5
}
