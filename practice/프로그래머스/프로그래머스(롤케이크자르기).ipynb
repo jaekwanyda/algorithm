{
 "cells": [
  {
   "cell_type": "code",
   "execution_count": null,
   "id": "ed2e00cd",
   "metadata": {},
   "outputs": [],
   "source": [
    "def solution(topping):\n",
    "    n=len(topping)\n",
    "    top_set=set()\n",
    "    back_data=set()\n",
    "    back_data.add(topping[n-1])\n",
    "    back_array=[0]*(len(topping))\n",
    "    back_array[0]=1\n",
    "    answer=0\n",
    "    for i in range(1,n):\n",
    "        if not topping[n-1-i] in back_data:\n",
    "            back_data.add(topping[n-1-i])\n",
    "        back_array[i]=len(back_data)\n",
    "        \n",
    "    for i in range(n-1):\n",
    "        top_set.add(topping[i])\n",
    "        if len(top_set)==back_array[-i-2]:\n",
    "            answer+=1\n",
    "    return answer"
   ]
  }
 ],
 "metadata": {
  "hide_input": false,
  "jupytext": {
   "formats": "ipynb,auto:light"
  },
  "kernelspec": {
   "display_name": "Python 3 (ipykernel)",
   "language": "python",
   "name": "python3"
  },
  "language_info": {
   "codemirror_mode": {
    "name": "ipython",
    "version": 3
   },
   "file_extension": ".py",
   "mimetype": "text/x-python",
   "name": "python",
   "nbconvert_exporter": "python",
   "pygments_lexer": "ipython3",
   "version": "3.9.12"
  },
  "toc": {
   "base_numbering": 1,
   "nav_menu": {},
   "number_sections": true,
   "sideBar": true,
   "skip_h1_title": false,
   "title_cell": "Table of Contents",
   "title_sidebar": "Contents",
   "toc_cell": false,
   "toc_position": {},
   "toc_section_display": true,
   "toc_window_display": false
  }
 },
 "nbformat": 4,
 "nbformat_minor": 5
}
