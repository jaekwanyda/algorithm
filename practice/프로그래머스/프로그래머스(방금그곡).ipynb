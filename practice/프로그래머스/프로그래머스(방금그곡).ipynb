{
 "cells": [
  {
   "cell_type": "code",
   "execution_count": null,
   "id": "9e66c4f4",
   "metadata": {},
   "outputs": [],
   "source": [
    "def solution(m, musicinfos):\n",
    "    answer = '(None)'\n",
    "    result=[[0,'',''] for _ in range(len(musicinfos))]\n",
    "    for i,k in enumerate(musicinfos):\n",
    "        m_list=list(k.split(','))\n",
    "        result[i][0]=int(m_list[1][:2])*60+int(m_list[1][3:])-(int(m_list[0][:2])*60+int(m_list[0][3:]))#재생 시간\n",
    "        result[i][1]=m_list[2]\n",
    "        result[i][2]=str((result[i][0]//len(m_list[3])+10000)*m_list[3])[:result[i][0]+777]\n",
    "    result=sorted(result,key=lambda x:-x[0])\n",
    "    for r in result:\n",
    "        if m in r[2]:\n",
    "            a=list(r[2].split(m));possi=False\n",
    "            for i,j in enumerate(a):\n",
    "                if i>0:\n",
    "                    if len(j)==0:\n",
    "                        if i==len(a)-1:\n",
    "                            possi=True\n",
    "                        elif len(a[i+1])==0:\n",
    "                            possi=True\n",
    "                    else:\n",
    "                        if j[0]!='#':\n",
    "                            possi=True\n",
    "            if possi:\n",
    "                return r[1]\n",
    "    \n",
    "    return answer"
   ]
  },
  {
   "cell_type": "code",
   "execution_count": 6,
   "id": "208d15e5",
   "metadata": {},
   "outputs": [
    {
     "name": "stdout",
     "output_type": "stream",
     "text": [
      "True\n"
     ]
    }
   ],
   "source": [
    "print('12:00')"
   ]
  },
  {
   "cell_type": "code",
   "execution_count": null,
   "id": "e5ee117b",
   "metadata": {},
   "outputs": [],
   "source": []
  }
 ],
 "metadata": {
  "hide_input": false,
  "jupytext": {
   "formats": "ipynb,auto:light"
  },
  "kernelspec": {
   "display_name": "Python 3 (ipykernel)",
   "language": "python",
   "name": "python3"
  },
  "language_info": {
   "codemirror_mode": {
    "name": "ipython",
    "version": 3
   },
   "file_extension": ".py",
   "mimetype": "text/x-python",
   "name": "python",
   "nbconvert_exporter": "python",
   "pygments_lexer": "ipython3",
   "version": "3.9.12"
  },
  "toc": {
   "base_numbering": 1,
   "nav_menu": {},
   "number_sections": true,
   "sideBar": true,
   "skip_h1_title": false,
   "title_cell": "Table of Contents",
   "title_sidebar": "Contents",
   "toc_cell": false,
   "toc_position": {},
   "toc_section_display": true,
   "toc_window_display": false
  }
 },
 "nbformat": 4,
 "nbformat_minor": 5
}
