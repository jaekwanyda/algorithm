{
 "cells": [
  {
   "cell_type": "code",
   "execution_count": null,
   "id": "6c3a8acd",
   "metadata": {},
   "outputs": [],
   "source": [
    "def is_alpha(s):\n",
    "    if ord(s)<ord('A') or ord(s)>ord('z') or ord('Z')<ord(s)<ord('a'):\n",
    "        return False\n",
    "    return True\n",
    "def solution(str1, str2):\n",
    "    answer = 0\n",
    "    dic1={};dic2={} #dic으로 겹치는 다중원소의 개수 구해주기\n",
    "    set_d=set()\n",
    "    for i in range(len(str1)-1):\n",
    "        if is_alpha(str1[i]) and is_alpha(str1[i+1]):\n",
    "            a=str.upper(str1[i]+str1[i+1])\n",
    "            if not a in dic1:\n",
    "                dic1[a]=1\n",
    "                set_d.add(a)\n",
    "            else:\n",
    "                dic1[a]=dic1[a]+1\n",
    "    for i in range(len(str2)-1):\n",
    "        if is_alpha(str2[i]) and is_alpha(str2[i+1]):\n",
    "            a=str.upper(str2[i]+str2[i+1])\n",
    "            if not a in dic2:\n",
    "                dic2[a]=1\n",
    "                set_d.add(a)\n",
    "            else:\n",
    "                dic2[a]=dic2[a]+1\n",
    "    and_sum=0;or_sum=0 #교집합 개수와 합집합 개수 세기\n",
    "    for i in set_d:\n",
    "        if i in dic1 and i in dic2:#둘다 존재할 때\n",
    "            and_sum+=min(dic1[i],dic2[i])\n",
    "            or_sum+=max(dic1[i],dic2[i])\n",
    "        else:\n",
    "            if i in dic1:\n",
    "                or_sum+=dic1[i]\n",
    "            elif i in dic2:\n",
    "                or_sum+=dic2[i]\n",
    "    if set_d:\n",
    "        answer=int(and_sum/or_sum*65536)\n",
    "    else:\n",
    "        answer=65536\n",
    "    return answer"
   ]
  }
 ],
 "metadata": {
  "hide_input": false,
  "jupytext": {
   "formats": "ipynb,auto:light"
  },
  "kernelspec": {
   "display_name": "Python 3 (ipykernel)",
   "language": "python",
   "name": "python3"
  },
  "language_info": {
   "codemirror_mode": {
    "name": "ipython",
    "version": 3
   },
   "file_extension": ".py",
   "mimetype": "text/x-python",
   "name": "python",
   "nbconvert_exporter": "python",
   "pygments_lexer": "ipython3",
   "version": "3.9.12"
  },
  "toc": {
   "base_numbering": 1,
   "nav_menu": {},
   "number_sections": true,
   "sideBar": true,
   "skip_h1_title": false,
   "title_cell": "Table of Contents",
   "title_sidebar": "Contents",
   "toc_cell": false,
   "toc_position": {},
   "toc_section_display": true,
   "toc_window_display": false
  }
 },
 "nbformat": 4,
 "nbformat_minor": 5
}
