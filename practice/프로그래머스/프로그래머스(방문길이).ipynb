{
 "cells": [
  {
   "cell_type": "code",
   "execution_count": null,
   "id": "3216b7cc",
   "metadata": {},
   "outputs": [],
   "source": [
    "def solution(dirs):\n",
    "    answer = 0\n",
    "    dx_dy={'U':[0,1],\"D\":[0,-1],\"L\":[-1,0],\"R\":[1,0]}\n",
    "    route=set()\n",
    "    x=0;y=0\n",
    "    for i in dirs:\n",
    "        dx,dy=dx_dy[i]\n",
    "        nx=dx+x;ny=dy+y\n",
    "        if nx<=5 and nx>=-5 and ny<=5 and ny>=-5:\n",
    "            route.add((x,y,nx,ny))\n",
    "            route.add((nx,ny,x,y))\n",
    "            x=nx;y=ny\n",
    "    answer=len(route)/2\n",
    "    return answer"
   ]
  }
 ],
 "metadata": {
  "hide_input": false,
  "jupytext": {
   "formats": "ipynb,auto:light"
  },
  "kernelspec": {
   "display_name": "Python 3 (ipykernel)",
   "language": "python",
   "name": "python3"
  },
  "language_info": {
   "codemirror_mode": {
    "name": "ipython",
    "version": 3
   },
   "file_extension": ".py",
   "mimetype": "text/x-python",
   "name": "python",
   "nbconvert_exporter": "python",
   "pygments_lexer": "ipython3",
   "version": "3.9.12"
  },
  "toc": {
   "base_numbering": 1,
   "nav_menu": {},
   "number_sections": true,
   "sideBar": true,
   "skip_h1_title": false,
   "title_cell": "Table of Contents",
   "title_sidebar": "Contents",
   "toc_cell": false,
   "toc_position": {},
   "toc_section_display": true,
   "toc_window_display": false
  }
 },
 "nbformat": 4,
 "nbformat_minor": 5
}
