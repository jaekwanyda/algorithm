{
 "cells": [
  {
   "cell_type": "code",
   "execution_count": null,
   "id": "1e42a30b",
   "metadata": {},
   "outputs": [],
   "source": [
    "from itertools import permutations\n",
    "def is_prime(n):\n",
    "    if n==1 or n==0:\n",
    "        return False\n",
    "    for i in range(2,int(n**(1/2))+1):\n",
    "        if n%i==0:\n",
    "            return False\n",
    "    return True\n",
    "def solution(numbers):\n",
    "    answer = []\n",
    "    for i in range(1,len(numbers)+1):\n",
    "        per=permutations(numbers,i)\n",
    "        for p in per:\n",
    "            k=''.join(p)\n",
    "            if is_prime(int(k)):\n",
    "                answer.append(k)\n",
    "    \n",
    "    for i in range(len(answer)):\n",
    "        while len(answer[i])>0 and answer[i][0]=='0':\n",
    "            answer[i]=answer[i][1:]\n",
    "    return len(set(answer))"
   ]
  }
 ],
 "metadata": {
  "hide_input": false,
  "jupytext": {
   "formats": "ipynb,auto:light"
  },
  "kernelspec": {
   "display_name": "Python 3 (ipykernel)",
   "language": "python",
   "name": "python3"
  },
  "language_info": {
   "codemirror_mode": {
    "name": "ipython",
    "version": 3
   },
   "file_extension": ".py",
   "mimetype": "text/x-python",
   "name": "python",
   "nbconvert_exporter": "python",
   "pygments_lexer": "ipython3",
   "version": "3.9.12"
  },
  "toc": {
   "base_numbering": 1,
   "nav_menu": {},
   "number_sections": true,
   "sideBar": true,
   "skip_h1_title": false,
   "title_cell": "Table of Contents",
   "title_sidebar": "Contents",
   "toc_cell": false,
   "toc_position": {},
   "toc_section_display": true,
   "toc_window_display": false
  }
 },
 "nbformat": 4,
 "nbformat_minor": 5
}
