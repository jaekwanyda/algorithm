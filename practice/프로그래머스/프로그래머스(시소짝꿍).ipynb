{
 "cells": [
  {
   "cell_type": "code",
   "execution_count": null,
   "id": "f36347a9",
   "metadata": {},
   "outputs": [],
   "source": [
    "def solution(weights): #첫 구현 : 틀림(실수부분 제외)\n",
    "    answer = 0 \n",
    "    siso={}\n",
    "    for i in weights:\n",
    "        if not i in siso:\n",
    "            siso[i]=1\n",
    "        else:\n",
    "            siso[i]+=1\n",
    "    for i in siso:\n",
    "        if siso[i]>1:\n",
    "            answer+=siso[i]*(siso[i]-1)\n",
    "        for k in range(2,5):\n",
    "            if i%k==0:\n",
    "                a=i//k\n",
    "                for j in range(2,5):\n",
    "                    if j!=k:\n",
    "                        if j*a in siso:\n",
    "                            answer+=siso[i]*siso[j*a]\n",
    "    return answer//2"
   ]
  },
  {
   "cell_type": "code",
   "execution_count": null,
   "id": "2ad27a27",
   "metadata": {},
   "outputs": [],
   "source": [
    "def solution(weights):\n",
    "    answer = 0\n",
    "    siso={}\n",
    "    for i in weights:\n",
    "        if not i in siso:\n",
    "            siso[i]=1\n",
    "        else:\n",
    "            siso[i]+=1\n",
    "    for i in siso:\n",
    "        if siso[i]>1:\n",
    "            answer+=siso[i]*(siso[i]-1)/2\n",
    "        if (i/2)*3 in siso:\n",
    "            answer+=siso[i]*siso[(i/2)*3]\n",
    "        if (i/2)*4 in siso:\n",
    "            answer+=siso[i]*siso[(i/2)*4]\n",
    "        if (i/3)*4 in siso:\n",
    "            answer+=siso[i]*siso[(i/3)*4]\n",
    "    return answer"
   ]
  }
 ],
 "metadata": {
  "hide_input": false,
  "jupytext": {
   "formats": "ipynb,auto:light"
  },
  "kernelspec": {
   "display_name": "Python 3 (ipykernel)",
   "language": "python",
   "name": "python3"
  },
  "language_info": {
   "codemirror_mode": {
    "name": "ipython",
    "version": 3
   },
   "file_extension": ".py",
   "mimetype": "text/x-python",
   "name": "python",
   "nbconvert_exporter": "python",
   "pygments_lexer": "ipython3",
   "version": "3.9.12"
  },
  "toc": {
   "base_numbering": 1,
   "nav_menu": {},
   "number_sections": true,
   "sideBar": true,
   "skip_h1_title": false,
   "title_cell": "Table of Contents",
   "title_sidebar": "Contents",
   "toc_cell": false,
   "toc_position": {},
   "toc_section_display": true,
   "toc_window_display": false
  }
 },
 "nbformat": 4,
 "nbformat_minor": 5
}
