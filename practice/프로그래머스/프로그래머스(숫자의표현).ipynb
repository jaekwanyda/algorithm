{
 "cells": [
  {
   "cell_type": "code",
   "execution_count": null,
   "id": "7546bc98",
   "metadata": {},
   "outputs": [],
   "source": [
    "#https://school.programmers.co.kr/learn/courses/30/lessons/12924\n",
    "def solution(n):\n",
    "    #투포인터를 이용해보자\n",
    "    answer = 0\n",
    "    pnt1=1;pnt2=2\n",
    "    while pnt1<pnt2:\n",
    "        s=sum(range(pnt1,pnt2))\n",
    "        if s<n:\n",
    "            pnt2+=1\n",
    "        elif s>n:\n",
    "            pnt1+=1\n",
    "        elif s==n:\n",
    "            answer+=1\n",
    "            pnt1+=1\n",
    "    return answer"
   ]
  }
 ],
 "metadata": {
  "hide_input": false,
  "jupytext": {
   "formats": "ipynb,auto:light"
  },
  "kernelspec": {
   "display_name": "Python 3 (ipykernel)",
   "language": "python",
   "name": "python3"
  },
  "language_info": {
   "codemirror_mode": {
    "name": "ipython",
    "version": 3
   },
   "file_extension": ".py",
   "mimetype": "text/x-python",
   "name": "python",
   "nbconvert_exporter": "python",
   "pygments_lexer": "ipython3",
   "version": "3.9.12"
  },
  "toc": {
   "base_numbering": 1,
   "nav_menu": {},
   "number_sections": true,
   "sideBar": true,
   "skip_h1_title": false,
   "title_cell": "Table of Contents",
   "title_sidebar": "Contents",
   "toc_cell": false,
   "toc_position": {},
   "toc_section_display": true,
   "toc_window_display": false
  }
 },
 "nbformat": 4,
 "nbformat_minor": 5
}
