{
 "cells": [
  {
   "cell_type": "code",
   "execution_count": null,
   "id": "792c0511",
   "metadata": {},
   "outputs": [],
   "source": [
    "def solution(prices):\n",
    "    answer = [len(prices)-i-1 for i in range(len(prices))];stack=[]\n",
    "    for idx,i in enumerate(prices):\n",
    "        cnt=0;length=len(stack)\n",
    "        while length:\n",
    "            idx1=stack[cnt][0];i1=stack[cnt][1]\n",
    "            if i<i1:\n",
    "                answer[idx1]=idx-idx1\n",
    "                stack.pop(cnt)\n",
    "            else:\n",
    "                cnt+=1\n",
    "            length-=1\n",
    "        stack.append((idx,i))\n",
    "    return answer"
   ]
  }
 ],
 "metadata": {
  "hide_input": false,
  "kernelspec": {
   "display_name": "Python 3 (ipykernel)",
   "language": "python",
   "name": "python3"
  },
  "language_info": {
   "codemirror_mode": {
    "name": "ipython",
    "version": 3
   },
   "file_extension": ".py",
   "mimetype": "text/x-python",
   "name": "python",
   "nbconvert_exporter": "python",
   "pygments_lexer": "ipython3",
   "version": "3.9.12"
  },
  "toc": {
   "base_numbering": 1,
   "nav_menu": {},
   "number_sections": true,
   "sideBar": true,
   "skip_h1_title": false,
   "title_cell": "Table of Contents",
   "title_sidebar": "Contents",
   "toc_cell": false,
   "toc_position": {},
   "toc_section_display": true,
   "toc_window_display": false
  }
 },
 "nbformat": 4,
 "nbformat_minor": 5
}
