{
 "cells": [
  {
   "cell_type": "code",
   "execution_count": 1,
   "id": "f3266eb0",
   "metadata": {},
   "outputs": [],
   "source": [
    "def dfs_emo(users,emoticons,sales,max_list):\n",
    "    if len(emoticons)==len(sales):\n",
    "        plus_sum=0;sale_sum=0\n",
    "        for i,j in users:\n",
    "            q=0\n",
    "            for k in range(len(sales)):\n",
    "                if sales[k]*100>=i:\n",
    "                    q+=emoticons[k]*(1-sales[k])\n",
    "            if q>=j:\n",
    "                plus_sum+=1\n",
    "            \n",
    "            else:\n",
    "                sale_sum+=q\n",
    "        if plus_sum>max_list[0]:\n",
    "            max_list[0]=plus_sum\n",
    "            max_list[1]=sale_sum\n",
    "        elif plus_sum==max_list[0]:\n",
    "            if sale_sum>=max_list[1]:\n",
    "                max_list[0]=plus_sum\n",
    "                max_list[1]=sale_sum\n",
    "        sales=[]\n",
    "        return max_list\n",
    "    \n",
    "    for i in range(1,5):\n",
    "        a=sales+[i*0.1]\n",
    "        dfs_emo(users,emoticons,a,max_list)\n",
    "def solution(users, emoticons):\n",
    "    sales=[]\n",
    "    max_list=[0,0]\n",
    "    dfs_emo(users,emoticons,sales,max_list)\n",
    "    return max_list"
   ]
  },
  {
   "cell_type": "code",
   "execution_count": null,
   "id": "242ca01e",
   "metadata": {},
   "outputs": [],
   "source": []
  }
 ],
 "metadata": {
  "hide_input": false,
  "jupytext": {
   "formats": "ipynb,auto:light"
  },
  "kernelspec": {
   "display_name": "Python 3 (ipykernel)",
   "language": "python",
   "name": "python3"
  },
  "language_info": {
   "codemirror_mode": {
    "name": "ipython",
    "version": 3
   },
   "file_extension": ".py",
   "mimetype": "text/x-python",
   "name": "python",
   "nbconvert_exporter": "python",
   "pygments_lexer": "ipython3",
   "version": "3.9.12"
  },
  "toc": {
   "base_numbering": 1,
   "nav_menu": {},
   "number_sections": true,
   "sideBar": true,
   "skip_h1_title": false,
   "title_cell": "Table of Contents",
   "title_sidebar": "Contents",
   "toc_cell": false,
   "toc_position": {},
   "toc_section_display": true,
   "toc_window_display": false
  }
 },
 "nbformat": 4,
 "nbformat_minor": 5
}
