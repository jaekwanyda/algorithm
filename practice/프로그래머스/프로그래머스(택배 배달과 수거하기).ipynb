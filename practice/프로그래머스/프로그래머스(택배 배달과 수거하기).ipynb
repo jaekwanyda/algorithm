{
 "cells": [
  {
   "cell_type": "code",
   "execution_count": null,
   "id": "44846355",
   "metadata": {},
   "outputs": [],
   "source": [
    "def one_way(array,cap):\n",
    "    if len(array)==0:\n",
    "        return array\n",
    "    x,y=array.pop()\n",
    "    if cap-y<0:\n",
    "        array.append((x,y-cap))\n",
    "    elif cap-y==0:\n",
    "        return array\n",
    "    else:\n",
    "        array=one_way(array,cap-y)\n",
    "    return array\n",
    "        \n",
    "            \n",
    "\n",
    "def solution(cap, n, deliveries, pickups):\n",
    "    answer = []\n",
    "    #그리디 문제: 가장 멀리 있는 집 부터 해결하면 된다.\n",
    "    q=[] #배달 상자가 있는 집\n",
    "    p=[] #수거할 상자가 있는 집\n",
    "    for i in range(n):\n",
    "            if deliveries[i]!=0:\n",
    "                q.append((i+1,deliveries[i]))\n",
    "            if pickups[i]!=0:\n",
    "                p.append((i+1,pickups[i]))\n",
    "    while (q or p):\n",
    "        if len(q)>0 and len(p)>0:\n",
    "            answer.append(max(q[len(q)-1][0],p[len(p)-1][0]))\n",
    "        elif len(q)==0:\n",
    "            answer.append(p[len(p)-1][0])\n",
    "        else:\n",
    "            answer.append(q[len(q)-1][0])\n",
    "        p=one_way(p,cap)\n",
    "        q=one_way(q,cap)\n",
    "    return 2*sum(answer)"
   ]
  }
 ],
 "metadata": {
  "hide_input": false,
  "jupytext": {
   "formats": "ipynb,auto:light"
  },
  "kernelspec": {
   "display_name": "Python 3 (ipykernel)",
   "language": "python",
   "name": "python3"
  },
  "language_info": {
   "codemirror_mode": {
    "name": "ipython",
    "version": 3
   },
   "file_extension": ".py",
   "mimetype": "text/x-python",
   "name": "python",
   "nbconvert_exporter": "python",
   "pygments_lexer": "ipython3",
   "version": "3.9.12"
  },
  "toc": {
   "base_numbering": 1,
   "nav_menu": {},
   "number_sections": true,
   "sideBar": true,
   "skip_h1_title": false,
   "title_cell": "Table of Contents",
   "title_sidebar": "Contents",
   "toc_cell": false,
   "toc_position": {},
   "toc_section_display": true,
   "toc_window_display": false
  }
 },
 "nbformat": 4,
 "nbformat_minor": 5
}
