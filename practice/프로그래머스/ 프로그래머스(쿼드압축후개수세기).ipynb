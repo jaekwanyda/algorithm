{
 "cells": [
  {
   "cell_type": "code",
   "execution_count": null,
   "id": "8bc30364",
   "metadata": {},
   "outputs": [],
   "source": [
    "def solution(arr):\n",
    "    answer = [0,0]\n",
    "    length=len(arr)\n",
    "    def check_(a,b,l):\n",
    "        start=arr[a][b]\n",
    "        for i in range(a,a+l):\n",
    "            for j in range(b,b+l):\n",
    "                if arr[i][j]!=start:\n",
    "                    l=l//2\n",
    "                    check_(a,b,l)\n",
    "                    check_(a,b+l,l)\n",
    "                    check_(a+l,b,l)\n",
    "                    check_(a+l,b+l,l)\n",
    "                    return\n",
    "        answer[start]+=1\n",
    "    \n",
    "    check_(0,0,length)\n",
    "                    \n",
    "    return answer"
   ]
  }
 ],
 "metadata": {
  "hide_input": false,
  "jupytext": {
   "formats": "ipynb,auto:light"
  },
  "kernelspec": {
   "display_name": "Python 3 (ipykernel)",
   "language": "python",
   "name": "python3"
  },
  "language_info": {
   "codemirror_mode": {
    "name": "ipython",
    "version": 3
   },
   "file_extension": ".py",
   "mimetype": "text/x-python",
   "name": "python",
   "nbconvert_exporter": "python",
   "pygments_lexer": "ipython3",
   "version": "3.9.12"
  },
  "toc": {
   "base_numbering": 1,
   "nav_menu": {},
   "number_sections": true,
   "sideBar": true,
   "skip_h1_title": false,
   "title_cell": "Table of Contents",
   "title_sidebar": "Contents",
   "toc_cell": false,
   "toc_position": {},
   "toc_section_display": true,
   "toc_window_display": false
  }
 },
 "nbformat": 4,
 "nbformat_minor": 5
}
