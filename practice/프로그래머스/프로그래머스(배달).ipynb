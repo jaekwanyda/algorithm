{
 "cells": [
  {
   "cell_type": "code",
   "execution_count": null,
   "id": "98eadda3",
   "metadata": {},
   "outputs": [],
   "source": [
    "#https://school.programmers.co.kr/learn/courses/30/lessons/12978https://school.programmers.co.kr/learn/courses/30/lessons/12978\n",
    "import heapq\n",
    "def solution(N, road, K):\n",
    "    answer = 0\n",
    "    #다익스트라로 해결해보자(heapq이용)\n",
    "    graph=[[] for _ in range(N+1)] #N개의 마을과 연결된 간선 정보 저장할 list\n",
    "    inf=987654321\n",
    "    distance=[inf]*(N+1) #거리 저장할 list\n",
    "    distance[1]=0\n",
    "    for a,b,c in road:\n",
    "        graph[a].append((b,c))\n",
    "        graph[b].append((a,c)) #a,b와 연결된 길이 c인 간선 정보 저장\n",
    "    q=[]\n",
    "    heapq.heappush(q,(0,1)) #거리와 시작 마을 정보 입력\n",
    "    while q:\n",
    "        dist,now=heapq.heappop(q) #가장 짧은 거리와 연결된 노드\n",
    "        if distance[now]<dist: #이미 더 짧은게 존재하면 생략\n",
    "            continue\n",
    "        for i in graph[now]:#현재 연결된 노드와 연결된 것들의 거리와 노드 확인\n",
    "            new_dist=dist+i[1]\n",
    "            if new_dist<distance[i[0]]: #새로운 거리가 기존 것 보다 짧을 때\n",
    "                distance[i[0]]=new_dist\n",
    "                heapq.heappush(q,(new_dist,i[0]))\n",
    "    for dis in distance:\n",
    "        if dis<=K: answer+=1\n",
    "    return answer"
   ]
  }
 ],
 "metadata": {
  "hide_input": false,
  "jupytext": {
   "formats": "ipynb,auto:light"
  },
  "kernelspec": {
   "display_name": "Python 3 (ipykernel)",
   "language": "python",
   "name": "python3"
  },
  "language_info": {
   "codemirror_mode": {
    "name": "ipython",
    "version": 3
   },
   "file_extension": ".py",
   "mimetype": "text/x-python",
   "name": "python",
   "nbconvert_exporter": "python",
   "pygments_lexer": "ipython3",
   "version": "3.9.12"
  },
  "toc": {
   "base_numbering": 1,
   "nav_menu": {},
   "number_sections": true,
   "sideBar": true,
   "skip_h1_title": false,
   "title_cell": "Table of Contents",
   "title_sidebar": "Contents",
   "toc_cell": false,
   "toc_position": {},
   "toc_section_display": true,
   "toc_window_display": false
  }
 },
 "nbformat": 4,
 "nbformat_minor": 5
}
