{
 "cells": [
  {
   "cell_type": "code",
   "execution_count": null,
   "id": "56813e8c",
   "metadata": {},
   "outputs": [],
   "source": [
    "def sort_key(x):\n",
    "    while len(x)<20:\n",
    "        x+='0'\n",
    "    return (x[i] for i in range(20))\n",
    "def solution(phone_book):\n",
    "    answer = True\n",
    "    array=sorted(phone_book)\n",
    "    for i in range(len(phone_book)-1):\n",
    "        a=array[i];b=array[i+1]\n",
    "        if len(a)<len(b):\n",
    "            if b[:len(a)]==a:\n",
    "                return False\n",
    "        elif len(a)>len(b):\n",
    "            if a[:len(b)]==b:\n",
    "                return False\n",
    "    return answer"
   ]
  }
 ],
 "metadata": {
  "hide_input": false,
  "jupytext": {
   "formats": "ipynb,auto:light"
  },
  "kernelspec": {
   "display_name": "Python 3 (ipykernel)",
   "language": "python",
   "name": "python3"
  },
  "language_info": {
   "codemirror_mode": {
    "name": "ipython",
    "version": 3
   },
   "file_extension": ".py",
   "mimetype": "text/x-python",
   "name": "python",
   "nbconvert_exporter": "python",
   "pygments_lexer": "ipython3",
   "version": "3.9.12"
  },
  "toc": {
   "base_numbering": 1,
   "nav_menu": {},
   "number_sections": true,
   "sideBar": true,
   "skip_h1_title": false,
   "title_cell": "Table of Contents",
   "title_sidebar": "Contents",
   "toc_cell": false,
   "toc_position": {},
   "toc_section_display": true,
   "toc_window_display": false
  }
 },
 "nbformat": 4,
 "nbformat_minor": 5
}
