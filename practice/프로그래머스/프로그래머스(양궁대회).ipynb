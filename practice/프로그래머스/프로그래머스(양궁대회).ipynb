{
 "cells": [
  {
   "cell_type": "code",
   "execution_count": 16,
   "id": "0586d28b",
   "metadata": {},
   "outputs": [
    {
     "name": "stdout",
     "output_type": "stream",
     "text": [
      "[0, 0, 0, 0, 0, 0, 0, 0, 0, 0, 5]\n",
      "[0, 0, 0, 1, 0, 0, 0, 0, 0, 0, 4]\n",
      "[0, 0, 1, 0, 0, 0, 0, 0, 0, 0, 4]\n",
      "[0, 0, 1, 1, 0, 0, 0, 0, 0, 0, 3]\n",
      "[0, 1, 0, 0, 0, 0, 0, 0, 0, 0, 4]\n",
      "[0, 1, 0, 1, 0, 0, 0, 0, 0, 0, 3]\n",
      "[0, 1, 1, 0, 0, 0, 0, 0, 0, 0, 3]\n",
      "[0, 1, 1, 1, 0, 0, 0, 0, 0, 0, 2]\n",
      "[1, 0, 0, 0, 0, 0, 0, 0, 0, 0, 4]\n",
      "[1, 0, 0, 1, 0, 0, 0, 0, 0, 0, 3]\n",
      "[1, 0, 1, 0, 0, 0, 0, 0, 0, 0, 3]\n",
      "[1, 0, 1, 1, 0, 0, 0, 0, 0, 0, 2]\n",
      "[1, 1, 0, 0, 0, 0, 0, 0, 0, 0, 3]\n",
      "[1, 1, 0, 1, 0, 0, 0, 0, 0, 0, 2]\n",
      "[1, 1, 1, 0, 0, 0, 0, 0, 0, 0, 2]\n",
      "[1, 1, 1, 1, 0, 0, 0, 0, 0, 0, 1]\n",
      "[2, 0, 0, 0, 0, 0, 0, 0, 0, 0, 3]\n",
      "[2, 0, 0, 1, 0, 0, 0, 0, 0, 0, 2]\n",
      "[2, 0, 1, 0, 0, 0, 0, 0, 0, 0, 2]\n",
      "[2, 0, 1, 1, 0, 0, 0, 0, 0, 0, 1]\n",
      "[2, 1, 0, 0, 0, 0, 0, 0, 0, 0, 2]\n",
      "[2, 1, 0, 1, 0, 0, 0, 0, 0, 0, 1]\n",
      "[2, 1, 1, 0, 0, 0, 0, 0, 0, 0, 1]\n",
      "[2, 1, 1, 1, 0, 0, 0, 0, 0, 0, 0]\n",
      "55\n"
     ]
    },
    {
     "data": {
      "text/plain": [
       "[0, 0, 0, 0, 0, 0, 0, 0, 0, 0, 0]"
      ]
     },
     "execution_count": 16,
     "metadata": {},
     "output_type": "execute_result"
    }
   ],
   "source": [
    "import copy\n",
    "m=0;answer=[]\n",
    "def dfs(a,idx,result,k):\n",
    "    global m\n",
    "    global answer\n",
    "    if idx==10:\n",
    "        result[10]=a;scorea=0;scoreb=0\n",
    "        for i in range(11):\n",
    "            if k[i]<result[i]:\n",
    "                scorea+=10-i\n",
    "            else:\n",
    "                scoreb+=10-i\n",
    "        score=scorea-scoreb\n",
    "        if m<=score:\n",
    "            m=score\n",
    "            answer.append((m,copy.deepcopy(result)))\n",
    "        result[10]=0\n",
    "    else:\n",
    "        for i in range(a+1):\n",
    "            result[idx]=i\n",
    "            dfs(a-i,idx+1,result,k)\n",
    "            result[idx]=0\n",
    "def solution(n, info):\n",
    "    #아이디어: 모든 쏘는 경우를 다 생각한다.\n",
    "    global answer\n",
    "    p=[0]*11\n",
    "    dfs(n,0,p,info)\n",
    "    if len(answer)==0:\n",
    "        answer=[-1]\n",
    "    else:\n",
    "        answer=sorted(answer,key=lambda x:(x[0],-x[1]))\n",
    "        answer=answer[len(answer)-1]\n",
    "    return answer"
   ]
  },
  {
   "cell_type": "code",
   "execution_count": null,
   "id": "8029c14e",
   "metadata": {},
   "outputs": [],
   "source": []
  }
 ],
 "metadata": {
  "hide_input": false,
  "kernelspec": {
   "display_name": "Python 3 (ipykernel)",
   "language": "python",
   "name": "python3"
  },
  "language_info": {
   "codemirror_mode": {
    "name": "ipython",
    "version": 3
   },
   "file_extension": ".py",
   "mimetype": "text/x-python",
   "name": "python",
   "nbconvert_exporter": "python",
   "pygments_lexer": "ipython3",
   "version": "3.9.12"
  },
  "toc": {
   "base_numbering": 1,
   "nav_menu": {},
   "number_sections": true,
   "sideBar": true,
   "skip_h1_title": false,
   "title_cell": "Table of Contents",
   "title_sidebar": "Contents",
   "toc_cell": false,
   "toc_position": {},
   "toc_section_display": true,
   "toc_window_display": false
  }
 },
 "nbformat": 4,
 "nbformat_minor": 5
}
