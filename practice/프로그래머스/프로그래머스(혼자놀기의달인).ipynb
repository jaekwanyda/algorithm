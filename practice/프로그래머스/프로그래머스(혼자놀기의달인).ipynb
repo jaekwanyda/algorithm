{
 "cells": [
  {
   "cell_type": "code",
   "execution_count": null,
   "id": "28b34dd9",
   "metadata": {},
   "outputs": [],
   "source": [
    "def solution(cards):\n",
    "    n=len(cards)\n",
    "    parent=[0]*(n+1)\n",
    "    def find_parent(parent,a):\n",
    "        if parent[a]!=a:\n",
    "            parent[a]=find_parent(parent,parent[a])\n",
    "        return parent[a]\n",
    "    def union_parent(parant,a,b):\n",
    "        a=find_parent(parent,a)\n",
    "        b=find_parent(parent,b)\n",
    "        if a!=b:\n",
    "            if a<b:\n",
    "                parent[b]=a\n",
    "            else:\n",
    "                parent[a]=b\n",
    "    visited=[False]*(n+1)\n",
    "    for i in range(1,n+1):\n",
    "        parent[i]=i\n",
    "    visited[0]=True\n",
    "    for i,j in enumerate(cards):\n",
    "        if not visited[j]:\n",
    "            union_parent(parent,j,cards[j-1])\n",
    "            visited[j]=True\n",
    "    for i in range(n+1):\n",
    "        parent[i]=find_parent(parent,i)\n",
    "    card_dic={}\n",
    "    for i in parent:\n",
    "        if not i in card_dic:\n",
    "            card_dic[i]=1\n",
    "        else:\n",
    "            card_dic[i]+=1\n",
    "    data=sorted(card_dic.items(),key=lambda x:-x[1])\n",
    "    if len(data)==2:\n",
    "        answer=0\n",
    "    else:\n",
    "        answer=data[0][1]*data[1][1]\n",
    "    return answer"
   ]
  }
 ],
 "metadata": {
  "hide_input": false,
  "jupytext": {
   "formats": "ipynb,auto:light"
  },
  "kernelspec": {
   "display_name": "Python 3 (ipykernel)",
   "language": "python",
   "name": "python3"
  },
  "language_info": {
   "codemirror_mode": {
    "name": "ipython",
    "version": 3
   },
   "file_extension": ".py",
   "mimetype": "text/x-python",
   "name": "python",
   "nbconvert_exporter": "python",
   "pygments_lexer": "ipython3",
   "version": "3.9.12"
  },
  "toc": {
   "base_numbering": 1,
   "nav_menu": {},
   "number_sections": true,
   "sideBar": true,
   "skip_h1_title": false,
   "title_cell": "Table of Contents",
   "title_sidebar": "Contents",
   "toc_cell": false,
   "toc_position": {},
   "toc_section_display": true,
   "toc_window_display": false
  }
 },
 "nbformat": 4,
 "nbformat_minor": 5
}
