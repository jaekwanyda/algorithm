{
 "cells": [
  {
   "cell_type": "code",
   "execution_count": null,
   "id": "db8fb123",
   "metadata": {},
   "outputs": [],
   "source": [
    "def find(n,a):\n",
    "    row=(a//n)+1\n",
    "    column=(a%n)+1\n",
    "    return max(row,column)\n",
    "def solution(n, left, right):\n",
    "    answer = []\n",
    "    for i in range(left,right+1):\n",
    "        answer.append(find(n,i))\n",
    "    return answer"
   ]
  }
 ],
 "metadata": {
  "hide_input": false,
  "jupytext": {
   "formats": "ipynb,auto:light"
  },
  "kernelspec": {
   "display_name": "Python 3 (ipykernel)",
   "language": "python",
   "name": "python3"
  },
  "language_info": {
   "codemirror_mode": {
    "name": "ipython",
    "version": 3
   },
   "file_extension": ".py",
   "mimetype": "text/x-python",
   "name": "python",
   "nbconvert_exporter": "python",
   "pygments_lexer": "ipython3",
   "version": "3.9.12"
  },
  "toc": {
   "base_numbering": 1,
   "nav_menu": {},
   "number_sections": true,
   "sideBar": true,
   "skip_h1_title": false,
   "title_cell": "Table of Contents",
   "title_sidebar": "Contents",
   "toc_cell": false,
   "toc_position": {},
   "toc_section_display": true,
   "toc_window_display": false
  }
 },
 "nbformat": 4,
 "nbformat_minor": 5
}
