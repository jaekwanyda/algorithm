{
 "cells": [
  {
   "cell_type": "code",
   "execution_count": null,
   "id": "3e179db3",
   "metadata": {},
   "outputs": [],
   "source": [
    "def solution(s):\n",
    "    answer = 987654321\n",
    "    for i in range(1,len(s)+1):\n",
    "        length=len(s);cnt=0\n",
    "        for j in range(len(s)//i):\n",
    "            if s[j*i:(j+1)*i]==s[(j+1)*i:(j+2)*i] :\n",
    "                length-=i\n",
    "                cnt+=1\n",
    "            else:\n",
    "                if cnt>=1:\n",
    "                    length+=1\n",
    "                    if cnt>=9:\n",
    "                        length+=1\n",
    "                        if cnt>=99:\n",
    "                            length+=1\n",
    "                            if cnt>=999:\n",
    "                                length+=1\n",
    "                    cnt=0\n",
    "        if cnt>=1:\n",
    "            length+=1\n",
    "            if cnt>=9:\n",
    "                length+=1\n",
    "                if cnt>=99:\n",
    "                    length+=1\n",
    "                    if cnt>=999:\n",
    "                        length+=1\n",
    "        print(length,i)\n",
    "        answer=min(length,answer)\n",
    "            \n",
    "    return answer"
   ]
  }
 ],
 "metadata": {
  "hide_input": false,
  "jupytext": {
   "formats": "ipynb,auto:light"
  },
  "kernelspec": {
   "display_name": "Python 3 (ipykernel)",
   "language": "python",
   "name": "python3"
  },
  "language_info": {
   "codemirror_mode": {
    "name": "ipython",
    "version": 3
   },
   "file_extension": ".py",
   "mimetype": "text/x-python",
   "name": "python",
   "nbconvert_exporter": "python",
   "pygments_lexer": "ipython3",
   "version": "3.9.12"
  },
  "toc": {
   "base_numbering": 1,
   "nav_menu": {},
   "number_sections": true,
   "sideBar": true,
   "skip_h1_title": false,
   "title_cell": "Table of Contents",
   "title_sidebar": "Contents",
   "toc_cell": false,
   "toc_position": {},
   "toc_section_display": true,
   "toc_window_display": false
  }
 },
 "nbformat": 4,
 "nbformat_minor": 5
}
