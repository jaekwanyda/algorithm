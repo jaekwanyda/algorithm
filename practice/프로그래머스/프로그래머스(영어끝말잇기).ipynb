{
 "cells": [
  {
   "cell_type": "code",
   "execution_count": null,
   "id": "e055653e",
   "metadata": {},
   "outputs": [],
   "source": [
    "#https://school.programmers.co.kr/learn/courses/30/lessons/12981\n",
    "def solution(n, words):\n",
    "    answer = []\n",
    "    word_set=set();word_set.add(words[0]) #첫번째 word를 저장한 set 생성\n",
    "    for i in range(1,len(words)):\n",
    "        word=words[i]\n",
    "        #이전 word의 마지막 글자와 이번 word의 첫 글자가 다르거나 word가 이미 word_set에 있으면 멈춤\n",
    "        if word in word_set or word[0]!=words[i-1][-1]:\n",
    "            answer=[i%n+1,i//n+1]\n",
    "            break\n",
    "        else:\n",
    "            word_set.add(word)\n",
    "        if i==len(words)-1: #만약 끝까지 진행된다면\n",
    "            answer=[0,0]\n",
    "    return answer"
   ]
  }
 ],
 "metadata": {
  "hide_input": false,
  "jupytext": {
   "formats": "ipynb,auto:light"
  },
  "kernelspec": {
   "display_name": "Python 3 (ipykernel)",
   "language": "python",
   "name": "python3"
  },
  "language_info": {
   "codemirror_mode": {
    "name": "ipython",
    "version": 3
   },
   "file_extension": ".py",
   "mimetype": "text/x-python",
   "name": "python",
   "nbconvert_exporter": "python",
   "pygments_lexer": "ipython3",
   "version": "3.9.12"
  },
  "toc": {
   "base_numbering": 1,
   "nav_menu": {},
   "number_sections": true,
   "sideBar": true,
   "skip_h1_title": false,
   "title_cell": "Table of Contents",
   "title_sidebar": "Contents",
   "toc_cell": false,
   "toc_position": {},
   "toc_section_display": true,
   "toc_window_display": false
  }
 },
 "nbformat": 4,
 "nbformat_minor": 5
}
