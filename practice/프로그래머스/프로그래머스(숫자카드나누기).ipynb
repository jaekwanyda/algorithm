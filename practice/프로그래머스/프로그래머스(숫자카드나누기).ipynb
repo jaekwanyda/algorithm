{
 "cells": [
  {
   "cell_type": "code",
   "execution_count": null,
   "id": "fdd95458",
   "metadata": {},
   "outputs": [],
   "source": [
    "def check_impossi(array,a):\n",
    "    impossi=True\n",
    "    for i in array:\n",
    "        if i%a==0:\n",
    "            impossi=False\n",
    "    return impossi\n",
    "def gcd(a,b):\n",
    "    c=b%a  \n",
    "    if c!=0:\n",
    "        return gcd(c,a)\n",
    "    else:\n",
    "        return a\n",
    "def solution(arrayA, arrayB):\n",
    "    answer = 0\n",
    "\n",
    "    if len(arrayA)>=1 and len(arrayB)>=1:\n",
    "        gcd_A=arrayA[0]\n",
    "        for i in range(len(arrayA)):\n",
    "            gcd_A=gcd(gcd_A,arrayA[i])\n",
    "        gcd_B=arrayB[0]\n",
    "        for i in range(1,len(arrayB)):\n",
    "            gcd_B=gcd(gcd_B,arrayB[i])\n",
    "        if check_impossi(arrayB,gcd_A):\n",
    "            answer=max(answer,gcd_A)\n",
    "        if check_impossi(arrayA,gcd_B):\n",
    "            answer=max(answer,gcd_B)\n",
    "    else:\n",
    "        a=gcd(arrayA[0],arrayB[0])\n",
    "        answer=max(arrayA[0]//a,arrayB[0]//a)\n",
    "    return answer"
   ]
  }
 ],
 "metadata": {
  "hide_input": false,
  "jupytext": {
   "formats": "ipynb,auto:light"
  },
  "kernelspec": {
   "display_name": "Python 3 (ipykernel)",
   "language": "python",
   "name": "python3"
  },
  "language_info": {
   "codemirror_mode": {
    "name": "ipython",
    "version": 3
   },
   "file_extension": ".py",
   "mimetype": "text/x-python",
   "name": "python",
   "nbconvert_exporter": "python",
   "pygments_lexer": "ipython3",
   "version": "3.9.12"
  },
  "toc": {
   "base_numbering": 1,
   "nav_menu": {},
   "number_sections": true,
   "sideBar": true,
   "skip_h1_title": false,
   "title_cell": "Table of Contents",
   "title_sidebar": "Contents",
   "toc_cell": false,
   "toc_position": {},
   "toc_section_display": true,
   "toc_window_display": false
  }
 },
 "nbformat": 4,
 "nbformat_minor": 5
}
