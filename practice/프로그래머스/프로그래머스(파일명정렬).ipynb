{
 "cells": [
  {
   "cell_type": "code",
   "execution_count": null,
   "id": "1766b132",
   "metadata": {},
   "outputs": [],
   "source": [
    "def solution(files):\n",
    "    answer = [];result=[['','',''] for i in range(len(files))]\n",
    "    num_list=['0','1','2','3','4','5','6','7','8','9']\n",
    "    for i,file in enumerate(files):\n",
    "        cnt=0\n",
    "        while not file[cnt] in num_list:\n",
    "            cnt+=1\n",
    "        result[i][0]=file[:cnt]\n",
    "        cnt_i=cnt\n",
    "        while file[cnt_i] in num_list:\n",
    "            cnt_i+=1\n",
    "            if cnt_i==len(file):\n",
    "                break\n",
    "        result[i][1]=file[cnt:cnt_i]\n",
    "        if cnt_i<len(file):\n",
    "            result[i][2]=file[cnt_i:]\n",
    "    result=sorted(result,key=lambda x:(str.upper(x[0]),int(x[1])))\n",
    "    for r in result:\n",
    "        answer.append(''.join(r))\n",
    "    return answer"
   ]
  }
 ],
 "metadata": {
  "hide_input": false,
  "jupytext": {
   "formats": "ipynb,auto:light"
  },
  "kernelspec": {
   "display_name": "Python 3 (ipykernel)",
   "language": "python",
   "name": "python3"
  },
  "language_info": {
   "codemirror_mode": {
    "name": "ipython",
    "version": 3
   },
   "file_extension": ".py",
   "mimetype": "text/x-python",
   "name": "python",
   "nbconvert_exporter": "python",
   "pygments_lexer": "ipython3",
   "version": "3.9.12"
  },
  "toc": {
   "base_numbering": 1,
   "nav_menu": {},
   "number_sections": true,
   "sideBar": true,
   "skip_h1_title": false,
   "title_cell": "Table of Contents",
   "title_sidebar": "Contents",
   "toc_cell": false,
   "toc_position": {},
   "toc_section_display": true,
   "toc_window_display": false
  }
 },
 "nbformat": 4,
 "nbformat_minor": 5
}
