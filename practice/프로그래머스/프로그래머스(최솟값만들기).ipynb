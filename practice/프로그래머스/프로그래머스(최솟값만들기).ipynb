{
 "cells": [
  {
   "cell_type": "code",
   "execution_count": null,
   "id": "2f863a70",
   "metadata": {},
   "outputs": [],
   "source": [
    "#https://school.programmers.co.kr/learn/courses/30/lessons/12941\n",
    "def solution(A,B):\n",
    "    answer = 0\n",
    "    A=sorted(A,key=lambda x:x)\n",
    "    B=sorted(B,key=lambda x:-x)\n",
    "    for i in range(len(A)):\n",
    "        answer+=A[i]*B[i]\n",
    "    return answer"
   ]
  }
 ],
 "metadata": {
  "hide_input": false,
  "jupytext": {
   "formats": "ipynb,auto:light"
  },
  "kernelspec": {
   "display_name": "Python 3 (ipykernel)",
   "language": "python",
   "name": "python3"
  },
  "language_info": {
   "codemirror_mode": {
    "name": "ipython",
    "version": 3
   },
   "file_extension": ".py",
   "mimetype": "text/x-python",
   "name": "python",
   "nbconvert_exporter": "python",
   "pygments_lexer": "ipython3",
   "version": "3.9.12"
  },
  "toc": {
   "base_numbering": 1,
   "nav_menu": {},
   "number_sections": true,
   "sideBar": true,
   "skip_h1_title": false,
   "title_cell": "Table of Contents",
   "title_sidebar": "Contents",
   "toc_cell": false,
   "toc_position": {},
   "toc_section_display": true,
   "toc_window_display": false
  }
 },
 "nbformat": 4,
 "nbformat_minor": 5
}
