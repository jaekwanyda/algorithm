{
 "cells": [
  {
   "cell_type": "code",
   "execution_count": null,
   "id": "99f945c9",
   "metadata": {},
   "outputs": [],
   "source": [
    "def sc(n):\n",
    "    k=[]\n",
    "    while True:\n",
    "        if n<=1:\n",
    "            k.append(n%2)\n",
    "            break\n",
    "        k.append(n%2)\n",
    "        n=n//2\n",
    "    k.reverse()\n",
    "    return k\n",
    "def solution(s):\n",
    "    answer = []\n",
    "    cnt=0;zero=0\n",
    "    while cnt<5:\n",
    "        if s=='1':\n",
    "            break\n",
    "        a=''\n",
    "        for i in s:\n",
    "            if i=='0':\n",
    "                zero+=1\n",
    "            else:\n",
    "                a+=i\n",
    "        b=len(a)\n",
    "        f=''\n",
    "        for i in sc(b):\n",
    "            f+=str(i)\n",
    "        s=f\n",
    "        cnt+=1\n",
    "    answer+=[cnt,zero]\n",
    "    return answer"
   ]
  }
 ],
 "metadata": {
  "hide_input": false,
  "jupytext": {
   "formats": "ipynb,auto:light"
  },
  "kernelspec": {
   "display_name": "Python 3 (ipykernel)",
   "language": "python",
   "name": "python3"
  },
  "language_info": {
   "codemirror_mode": {
    "name": "ipython",
    "version": 3
   },
   "file_extension": ".py",
   "mimetype": "text/x-python",
   "name": "python",
   "nbconvert_exporter": "python",
   "pygments_lexer": "ipython3",
   "version": "3.9.12"
  },
  "toc": {
   "base_numbering": 1,
   "nav_menu": {},
   "number_sections": true,
   "sideBar": true,
   "skip_h1_title": false,
   "title_cell": "Table of Contents",
   "title_sidebar": "Contents",
   "toc_cell": false,
   "toc_position": {},
   "toc_section_display": true,
   "toc_window_display": false
  }
 },
 "nbformat": 4,
 "nbformat_minor": 5
}
