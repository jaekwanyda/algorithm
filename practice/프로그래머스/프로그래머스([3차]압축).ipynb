{
 "cells": [
  {
   "cell_type": "code",
   "execution_count": null,
   "id": "f49bcb3a",
   "metadata": {},
   "outputs": [],
   "source": [
    "def solution(msg):\n",
    "    answer = [];dic={};cnt=1\n",
    "    dic_list=['A', 'B', 'C', 'D', 'E', 'F', 'G', 'H', 'I', 'J', 'K', 'L', 'M', 'N', 'O', 'P', 'Q', 'R', 'S', 'T', 'U', 'V', 'W', 'X', 'Y', 'Z']\n",
    "    for i in dic_list:\n",
    "        dic[i]=cnt\n",
    "        cnt+=1\n",
    "    array=list(msg)\n",
    "    while array:\n",
    "        a=array.pop(0)\n",
    "        if not array:\n",
    "            answer.append(dic[a])\n",
    "        while array:\n",
    "            if a+array[0] in dic:\n",
    "                a+=array.pop(0)\n",
    "                if not array:\n",
    "                    answer.append(dic[a])\n",
    "            else:\n",
    "                dic[a+array[0]]=cnt\n",
    "                cnt+=1\n",
    "                answer.append(dic[a])\n",
    "                break    \n",
    "    return answer"
   ]
  }
 ],
 "metadata": {
  "hide_input": false,
  "jupytext": {
   "formats": "ipynb,auto:light"
  },
  "kernelspec": {
   "display_name": "Python 3 (ipykernel)",
   "language": "python",
   "name": "python3"
  },
  "language_info": {
   "codemirror_mode": {
    "name": "ipython",
    "version": 3
   },
   "file_extension": ".py",
   "mimetype": "text/x-python",
   "name": "python",
   "nbconvert_exporter": "python",
   "pygments_lexer": "ipython3",
   "version": "3.9.12"
  },
  "toc": {
   "base_numbering": 1,
   "nav_menu": {},
   "number_sections": true,
   "sideBar": true,
   "skip_h1_title": false,
   "title_cell": "Table of Contents",
   "title_sidebar": "Contents",
   "toc_cell": false,
   "toc_position": {},
   "toc_section_display": true,
   "toc_window_display": false
  }
 },
 "nbformat": 4,
 "nbformat_minor": 5
}
