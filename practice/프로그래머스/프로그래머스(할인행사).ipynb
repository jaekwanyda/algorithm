{
 "cells": [
  {
   "cell_type": "code",
   "execution_count": null,
   "id": "11371a92",
   "metadata": {},
   "outputs": [],
   "source": [
    "def solution(want, number, discount): #for 구문에 if 구문을 통해 좀 더 간단하게 작성 가능할 것 같다.\n",
    "    answer = 0\n",
    "    want_dic=dict(zip(want,number))\n",
    "    print(want_dic)\n",
    "    dis={}\n",
    "    for i in range(10):\n",
    "        if not discount[i] in dis:\n",
    "            dis[discount[i]]=1\n",
    "        else:\n",
    "            dis[discount[i]]+=1\n",
    "    if want_dic==dis:\n",
    "        answer+=1\n",
    "    for i in range(10,len(discount)):\n",
    "        dis[discount[i-10]]-=1\n",
    "        if dis[discount[i-10]]==0:\n",
    "            del dis[discount[i-10]]\n",
    "        if not discount[i] in dis:\n",
    "            dis[discount[i]]=1\n",
    "        else:\n",
    "            dis[discount[i]]+=1\n",
    "        if want_dic==dis:\n",
    "            answer+=1\n",
    "        \n",
    "    return answer"
   ]
  }
 ],
 "metadata": {
  "hide_input": false,
  "jupytext": {
   "formats": "ipynb,auto:light"
  },
  "kernelspec": {
   "display_name": "Python 3 (ipykernel)",
   "language": "python",
   "name": "python3"
  },
  "language_info": {
   "codemirror_mode": {
    "name": "ipython",
    "version": 3
   },
   "file_extension": ".py",
   "mimetype": "text/x-python",
   "name": "python",
   "nbconvert_exporter": "python",
   "pygments_lexer": "ipython3",
   "version": "3.9.12"
  },
  "toc": {
   "base_numbering": 1,
   "nav_menu": {},
   "number_sections": true,
   "sideBar": true,
   "skip_h1_title": false,
   "title_cell": "Table of Contents",
   "title_sidebar": "Contents",
   "toc_cell": false,
   "toc_position": {},
   "toc_section_display": true,
   "toc_window_display": false
  }
 },
 "nbformat": 4,
 "nbformat_minor": 5
}
