{
 "cells": [
  {
   "cell_type": "code",
   "execution_count": 5,
   "id": "f397d43f",
   "metadata": {},
   "outputs": [
    {
     "ename": "IndexError",
     "evalue": "list index out of range",
     "output_type": "error",
     "traceback": [
      "\u001b[1;31m---------------------------------------------------------------------------\u001b[0m",
      "\u001b[1;31mIndexError\u001b[0m                                Traceback (most recent call last)",
      "Input \u001b[1;32mIn [5]\u001b[0m, in \u001b[0;36m<cell line: 5>\u001b[1;34m()\u001b[0m\n\u001b[0;32m     10\u001b[0m \u001b[38;5;28;01mfor\u001b[39;00m i \u001b[38;5;129;01min\u001b[39;00m road:\n\u001b[0;32m     11\u001b[0m     a,b,c\u001b[38;5;241m=\u001b[39mi\n\u001b[1;32m---> 12\u001b[0m     \u001b[43medges\u001b[49m\u001b[43m[\u001b[49m\u001b[43ma\u001b[49m\u001b[43m]\u001b[49m\u001b[38;5;241m.\u001b[39mappend((c,b)) \u001b[38;5;66;03m#시간, 두 마을 정보 입력\u001b[39;00m\n\u001b[0;32m     13\u001b[0m     edges[b]\u001b[38;5;241m.\u001b[39mappend((c,a))\n\u001b[0;32m     14\u001b[0m q\u001b[38;5;241m=\u001b[39m[(\u001b[38;5;241m0\u001b[39m,\u001b[38;5;241m1\u001b[39m)]\n",
      "\u001b[1;31mIndexError\u001b[0m: list index out of range"
     ]
    }
   ],
   "source": [
    "import heapq\n",
    "N=5\n",
    "road=[[1,2,3]]\n",
    "K=1\n",
    "for i in range(1):\n",
    "    answer = 0\n",
    "    INF=987654321\n",
    "    distance=[[INF] for _ i\n",
    "    edges=[]*(N+1) #각 지점 별 연결된 곳\n",
    "    for i in road:\n",
    "        a,b,c=i\n",
    "        edges[a].append((c,b)) #시간, 두 마을 정보 입력\n",
    "        edges[b].append((c,a))\n",
    "    q=[(0,1)]\n",
    "    distance[1]=0\n",
    "    while q:\n",
    "        dis,x=heapq.heappop(q)\n",
    "        if distance[x]<dis:\n",
    "            continue\n",
    "        for edge in edges[x]:\n",
    "            cost,next_node=edge\n",
    "            if cost+dis<distance[next_node]:\n",
    "                distance[next_node]=cost+dis\n",
    "                heapq.heappush((cost+dis,next_node))\n",
    "    for i in distance:\n",
    "        if i <=k:\n",
    "            answer+=1"
   ]
  },
  {
   "cell_type": "code",
   "execution_count": 3,
   "id": "78465bf4",
   "metadata": {},
   "outputs": [
    {
     "name": "stdout",
     "output_type": "stream",
     "text": [
      "<function solution at 0x0000024207F06310>\n"
     ]
    }
   ],
   "source": [
    "print(solution)"
   ]
  },
  {
   "cell_type": "code",
   "execution_count": null,
   "id": "e52f215e",
   "metadata": {},
   "outputs": [],
   "source": []
  }
 ],
 "metadata": {
  "hide_input": false,
  "kernelspec": {
   "display_name": "Python 3 (ipykernel)",
   "language": "python",
   "name": "python3"
  },
  "language_info": {
   "codemirror_mode": {
    "name": "ipython",
    "version": 3
   },
   "file_extension": ".py",
   "mimetype": "text/x-python",
   "name": "python",
   "nbconvert_exporter": "python",
   "pygments_lexer": "ipython3",
   "version": "3.9.12"
  },
  "toc": {
   "base_numbering": 1,
   "nav_menu": {},
   "number_sections": true,
   "sideBar": true,
   "skip_h1_title": false,
   "title_cell": "Table of Contents",
   "title_sidebar": "Contents",
   "toc_cell": false,
   "toc_position": {},
   "toc_section_display": true,
   "toc_window_display": false
  }
 },
 "nbformat": 4,
 "nbformat_minor": 5
}
