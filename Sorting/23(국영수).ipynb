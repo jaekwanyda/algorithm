{
 "cells": [
  {
   "cell_type": "code",
   "execution_count": null,
   "id": "d7281e42",
   "metadata": {},
   "outputs": [],
   "source": [
    "#이코테 실전 23(백준 10825)\n",
    "#아이디어: 국어-> 영어 -> 수학-> 이름 순 정렬(정렬라이브러리 이용! 방법 잘 몰라서 참고해서 함!!)\n",
    "\n",
    "#n입력받기\n",
    "n=int(input())\n",
    "#학생 정보 입력받기\n",
    "student=[list(input().split()) for _ in range(n)]\n",
    "#key뜻: 국어성적 내림, 영어 오름, 수학 내림, 이름 오름 순=> 의문 사전 대문자, 소문자는 처리 안해줘도 되나?(key구문 사용법 숙지!)\n",
    "student.sort(key=lambda x:(-int(x[1]),int(x[2]),-int(x[3]),x[0]))\n",
    "\n",
    "for i in student:\n",
    "    print(i[0]) #이름 출력 "
   ]
  }
 ],
 "metadata": {
  "hide_input": false,
  "jupytext": {
   "formats": "ipynb,auto:light"
  },
  "kernelspec": {
   "display_name": "Python 3 (ipykernel)",
   "language": "python",
   "name": "python3"
  },
  "language_info": {
   "codemirror_mode": {
    "name": "ipython",
    "version": 3
   },
   "file_extension": ".py",
   "mimetype": "text/x-python",
   "name": "python",
   "nbconvert_exporter": "python",
   "pygments_lexer": "ipython3",
   "version": "3.9.12"
  },
  "toc": {
   "base_numbering": 1,
   "nav_menu": {},
   "number_sections": true,
   "sideBar": true,
   "skip_h1_title": false,
   "title_cell": "Table of Contents",
   "title_sidebar": "Contents",
   "toc_cell": false,
   "toc_position": {},
   "toc_section_display": true,
   "toc_window_display": false
  }
 },
 "nbformat": 4,
 "nbformat_minor": 5
}
