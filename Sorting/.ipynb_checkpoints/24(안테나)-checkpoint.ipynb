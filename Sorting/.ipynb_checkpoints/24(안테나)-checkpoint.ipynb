{
 "cells": [
  {
   "cell_type": "code",
   "execution_count": 4,
   "id": "b9437f1d",
   "metadata": {},
   "outputs": [
    {
     "name": "stdout",
     "output_type": "stream",
     "text": [
      "4\n",
      "5 1 7 9\n",
      "4\n"
     ]
    }
   ],
   "source": [
    "#이코테 실전 24(백준 18310)\n",
    "#아이디어1: 각 위치별 가장 거리가 작은 값을 찾는 것이다.계수 정렬 이용! => 시간 초과\n",
    "#n입력받기\n",
    "n=int(input())\n",
    "#집 위치 입력받기\n",
    "array=list(map(int,input().split()))\n",
    "#거리 구하는 함수\n",
    "def distance(array,location): #location: 안테나의 위치\n",
    "    sum=0\n",
    "    for i in array:\n",
    "        sum+=abs(i-location)\n",
    "    return sum\n",
    "d=[]#거리를 저장하는 리스트\n",
    "for i in range(1,max(array)+1): #최댓값 이후로는 무조건 늘기만 하니까.시간복잡도 O(10^10) 예상=> 여기서 시간 초과 생김\n",
    "    d.append(distance(array,i))\n",
    "#최솟값 구하기\n",
    "min_distance=min(d)\n",
    "min_list=[]\n",
    "for i,j in enumerate(d):\n",
    "    if j==min_distance:\n",
    "        print(i+1)\n",
    "        break\n",
    "        "
   ]
  },
  {
   "cell_type": "code",
   "execution_count": 6,
   "id": "a4924660",
   "metadata": {},
   "outputs": [
    {
     "name": "stdout",
     "output_type": "stream",
     "text": [
      "4\n",
      "5 1 7 9\n",
      "5\n"
     ]
    }
   ],
   "source": [
    "#아이디어2: 이 문제의 함수는 절댓값 함수로 감소하다 증가하는 형태일 것이다.\n",
    "#이 때 이 함수는 정확히 median에서 최솟값을 갖는다.\n",
    "\n",
    "#n입력받기\n",
    "n=int(input())\n",
    "#집 위치 입력받기\n",
    "array=list(map(int,input().split()))\n",
    "array.sort()\n",
    "a=0 \n",
    "if len(array)%2==0: #짝수일 경우 median\n",
    "    a=array[len(array)//2-1]\n",
    "else:\n",
    "    a=array[len(array)//2]\n",
    "    \n",
    "print(a)\n"
   ]
  },
  {
   "cell_type": "code",
   "execution_count": null,
   "id": "e3cc68b7",
   "metadata": {},
   "outputs": [],
   "source": []
  }
 ],
 "metadata": {
  "hide_input": false,
  "jupytext": {
   "formats": "ipynb,auto:light"
  },
  "kernelspec": {
   "display_name": "Python 3 (ipykernel)",
   "language": "python",
   "name": "python3"
  },
  "language_info": {
   "codemirror_mode": {
    "name": "ipython",
    "version": 3
   },
   "file_extension": ".py",
   "mimetype": "text/x-python",
   "name": "python",
   "nbconvert_exporter": "python",
   "pygments_lexer": "ipython3",
   "version": "3.9.12"
  },
  "toc": {
   "base_numbering": 1,
   "nav_menu": {},
   "number_sections": true,
   "sideBar": true,
   "skip_h1_title": false,
   "title_cell": "Table of Contents",
   "title_sidebar": "Contents",
   "toc_cell": false,
   "toc_position": {},
   "toc_section_display": true,
   "toc_window_display": false
  }
 },
 "nbformat": 4,
 "nbformat_minor": 5
}
