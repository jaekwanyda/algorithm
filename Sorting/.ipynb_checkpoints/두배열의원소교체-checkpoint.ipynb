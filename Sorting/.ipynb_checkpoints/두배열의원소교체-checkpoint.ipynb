{
 "cells": [
  {
   "cell_type": "code",
   "execution_count": 4,
   "id": "7e91eeba",
   "metadata": {},
   "outputs": [
    {
     "name": "stdout",
     "output_type": "stream",
     "text": [
      "5 3\n",
      "1 2 5 4 3\n",
      "5 5 6 6 \n",
      "26\n"
     ]
    }
   ],
   "source": [
    "#아코테 정렬 연습 4\n",
    "#N,K입력 받기\n",
    "n,k=map(int,input().split())\n",
    "#A,B 배열 입력받기\n",
    "A=list(map(int,input().split())) #[]를 사용해서 생성하면 오류 발생 =>왜일까?=> 예상 map이 처리가 안되고 남아있는듯?\n",
    "B=list(map(int,input().split()))\n",
    "\n",
    "#아이디어: A,B를 정렬 후에 A의 제일 작은 값과 B의 제일 큰 값을 바꾼다. \n",
    "#만약 A의 제일 작은 값이 B의 제일 큰 값보다 큰 경우 멈춘다.\n",
    "A=sorted(A)\n",
    "B=sorted(B,reverse=True)\n",
    "for i in range(k):\n",
    "    if A[i]>B[i]:\n",
    "        break\n",
    "    A[i],B[i]=B[i],A[i]\n",
    "\n",
    "print(sum(A))"
   ]
  },
  {
   "cell_type": "code",
   "execution_count": null,
   "id": "bcf81add",
   "metadata": {},
   "outputs": [],
   "source": []
  }
 ],
 "metadata": {
  "hide_input": false,
  "jupytext": {
   "formats": "ipynb,auto:light"
  },
  "kernelspec": {
   "display_name": "Python 3 (ipykernel)",
   "language": "python",
   "name": "python3"
  },
  "language_info": {
   "codemirror_mode": {
    "name": "ipython",
    "version": 3
   },
   "file_extension": ".py",
   "mimetype": "text/x-python",
   "name": "python",
   "nbconvert_exporter": "python",
   "pygments_lexer": "ipython3",
   "version": "3.9.12"
  },
  "toc": {
   "base_numbering": 1,
   "nav_menu": {},
   "number_sections": true,
   "sideBar": true,
   "skip_h1_title": false,
   "title_cell": "Table of Contents",
   "title_sidebar": "Contents",
   "toc_cell": false,
   "toc_position": {},
   "toc_section_display": true,
   "toc_window_display": false
  }
 },
 "nbformat": 4,
 "nbformat_minor": 5
}
