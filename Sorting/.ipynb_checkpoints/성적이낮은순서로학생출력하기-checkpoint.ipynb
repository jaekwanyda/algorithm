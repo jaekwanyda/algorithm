{
 "cells": [
  {
   "cell_type": "code",
   "execution_count": 3,
   "id": "2e5e3ed2",
   "metadata": {},
   "outputs": [
    {
     "name": "stdout",
     "output_type": "stream",
     "text": [
      "2\n",
      "홍길동 95\n",
      "이순신 77\n",
      "이순신 홍길동 "
     ]
    }
   ],
   "source": [
    "#아코테 정렬 연습 3\n",
    "#N 입력받기\n",
    "n= int(input())\n",
    "\n",
    "#이름과 성적 입력받기\n",
    "array=[]\n",
    "for i in range(n):\n",
    "    input_data=input().split()\n",
    "    array.append([input_data[0],int(input_data[1])])\n",
    "\n",
    "array=sorted(array,key=lambda x:x[1]) #key를 이용한 정렬(몰랐던 점!)\n",
    "\n",
    "for student in array:\n",
    "    print(student[0], end=' ')"
   ]
  },
  {
   "cell_type": "code",
   "execution_count": null,
   "id": "fb96d971",
   "metadata": {},
   "outputs": [],
   "source": []
  }
 ],
 "metadata": {
  "hide_input": false,
  "jupytext": {
   "formats": "ipynb,auto:light"
  },
  "kernelspec": {
   "display_name": "Python 3 (ipykernel)",
   "language": "python",
   "name": "python3"
  },
  "language_info": {
   "codemirror_mode": {
    "name": "ipython",
    "version": 3
   },
   "file_extension": ".py",
   "mimetype": "text/x-python",
   "name": "python",
   "nbconvert_exporter": "python",
   "pygments_lexer": "ipython3",
   "version": "3.9.12"
  },
  "toc": {
   "base_numbering": 1,
   "nav_menu": {},
   "number_sections": true,
   "sideBar": true,
   "skip_h1_title": false,
   "title_cell": "Table of Contents",
   "title_sidebar": "Contents",
   "toc_cell": false,
   "toc_position": {},
   "toc_section_display": true,
   "toc_window_display": false
  }
 },
 "nbformat": 4,
 "nbformat_minor": 5
}
