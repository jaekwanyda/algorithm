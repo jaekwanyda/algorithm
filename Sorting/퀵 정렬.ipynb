{
 "cells": [
  {
   "cell_type": "code",
   "execution_count": 2,
   "id": "9c864839",
   "metadata": {},
   "outputs": [
    {
     "name": "stdout",
     "output_type": "stream",
     "text": [
      "[0, 1, 2, 3, 4, 5, 6, 7, 8, 9]\n"
     ]
    }
   ],
   "source": [
    "array=[5,7,9,0,3,1,6,2,4,8]\n",
    "\n",
    "#제일 왼쪽에 있는 것을 기준으로 하는 퀵정렬\n",
    "def quick_sort(array,start,end):\n",
    "    if start>=end:#원소가 1개일 경우 종료\n",
    "        return\n",
    "    pivot=start #기준은 제일 왼쪽의 수\n",
    "    left=start+1\n",
    "    right=end\n",
    "    #왼쪽에서부터 기준보다 큰것 찾기\n",
    "    while left<=right:#왼쪽에서 찾은 수와 오른쪽에서 찾은 수가 엇갈릴 때까지 반복\n",
    "        while left<=end and array[left]<=array[pivot]:\n",
    "            left+=1\n",
    "        while right>=left and array[right]>=array[pivot]:\n",
    "            right-=1\n",
    "        if right<left: #둘이 엇갈렸을 경우\n",
    "            array[pivot],array[right]=array[right],array[pivot]\n",
    "        else:\n",
    "            array[left],array[right]=array[right],array[left]\n",
    "    #작은 덩어리들도 추가적으로 해주기\n",
    "    quick_sort(array,start,right-1)\n",
    "    quick_sort(array,right+1,end)\n",
    "    \n",
    "quick_sort(array,0,len(array)-1)\n",
    "print(array)"
   ]
  },
  {
   "cell_type": "code",
   "execution_count": 6,
   "id": "ac33d2c6",
   "metadata": {},
   "outputs": [
    {
     "name": "stdout",
     "output_type": "stream",
     "text": [
      "[0, 1, 2, 3, 4, 5, 6, 7, 8, 9]\n"
     ]
    }
   ],
   "source": [
    "#좀 더 느리지만 직관적인 코드\n",
    "array=[5,7,9,0,3,1,6,2,4,8]\n",
    "def quick_sort(array):\n",
    "    if len(array)<=1: # 원소가 하나라면 종료\n",
    "        return array\n",
    "    pivot=array[0]\n",
    "    tail=array[1:] \n",
    "    #단순히 pivot보다 작은 값을 left_side에 큰 값을 right_side에 정리\n",
    "    left_side=[x for x in tail if x<=pivot]\n",
    "    right_side=[x for x in tail if x>pivot]\n",
    "    \n",
    "    return quick_sort(left_side)+[pivot]+quick_sort(right_side)\n",
    "print(quick_sort(array))"
   ]
  },
  {
   "cell_type": "code",
   "execution_count": null,
   "id": "cc845060",
   "metadata": {},
   "outputs": [],
   "source": []
  }
 ],
 "metadata": {
  "hide_input": false,
  "jupytext": {
   "formats": "ipynb,auto:light"
  },
  "kernelspec": {
   "display_name": "Python 3 (ipykernel)",
   "language": "python",
   "name": "python3"
  },
  "language_info": {
   "codemirror_mode": {
    "name": "ipython",
    "version": 3
   },
   "file_extension": ".py",
   "mimetype": "text/x-python",
   "name": "python",
   "nbconvert_exporter": "python",
   "pygments_lexer": "ipython3",
   "version": "3.9.12"
  },
  "toc": {
   "base_numbering": 1,
   "nav_menu": {},
   "number_sections": true,
   "sideBar": true,
   "skip_h1_title": false,
   "title_cell": "Table of Contents",
   "title_sidebar": "Contents",
   "toc_cell": false,
   "toc_position": {},
   "toc_section_display": true,
   "toc_window_display": false
  }
 },
 "nbformat": 4,
 "nbformat_minor": 5
}
