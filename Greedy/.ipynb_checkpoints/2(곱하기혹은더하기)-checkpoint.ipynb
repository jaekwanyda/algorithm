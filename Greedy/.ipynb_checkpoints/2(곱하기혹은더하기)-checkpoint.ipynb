{
 "cells": [
  {
   "cell_type": "code",
   "execution_count": 6,
   "id": "0aae6281",
   "metadata": {},
   "outputs": [
    {
     "name": "stdout",
     "output_type": "stream",
     "text": [
      "02984\n",
      "0\n",
      "2\n",
      "18\n",
      "144\n",
      "576\n",
      "576\n"
     ]
    }
   ],
   "source": [
    "#이코테 기출 2\n",
    "#아이디어: 단순히 0,1일 때나 앞의 수가 0일때만 더하고 나머지는 곱하는게 나을거라 생각\n",
    "#숫자 입력받기\n",
    "array=list(map(int,input())) #띄어쓰기 안되게 입력받은거 처음에 놓침(틀렸던 부분!)\n",
    "a=0\n",
    "#연산 실행하기\n",
    "for i in array:\n",
    "    if a==0: #이전 값이 0일 때는 더하는게 최선\n",
    "        a+=i\n",
    "    elif i==0 or i==1: # 연산해줄 값이 0이나 1일 때는 더하는게 최선\n",
    "        a+=i\n",
    "    else: # 나머지 수는 다 곱해주는게 최선\n",
    "        a*=i\n",
    "print(a)"
   ]
  },
  {
   "cell_type": "code",
   "execution_count": null,
   "id": "0f8d0e0c",
   "metadata": {},
   "outputs": [],
   "source": []
  }
 ],
 "metadata": {
  "hide_input": false,
  "jupytext": {
   "formats": "ipynb,auto:light"
  },
  "kernelspec": {
   "display_name": "Python 3 (ipykernel)",
   "language": "python",
   "name": "python3"
  },
  "language_info": {
   "codemirror_mode": {
    "name": "ipython",
    "version": 3
   },
   "file_extension": ".py",
   "mimetype": "text/x-python",
   "name": "python",
   "nbconvert_exporter": "python",
   "pygments_lexer": "ipython3",
   "version": "3.9.12"
  },
  "toc": {
   "base_numbering": 1,
   "nav_menu": {},
   "number_sections": true,
   "sideBar": true,
   "skip_h1_title": false,
   "title_cell": "Table of Contents",
   "title_sidebar": "Contents",
   "toc_cell": false,
   "toc_position": {},
   "toc_section_display": true,
   "toc_window_display": false
  }
 },
 "nbformat": 4,
 "nbformat_minor": 5
}
