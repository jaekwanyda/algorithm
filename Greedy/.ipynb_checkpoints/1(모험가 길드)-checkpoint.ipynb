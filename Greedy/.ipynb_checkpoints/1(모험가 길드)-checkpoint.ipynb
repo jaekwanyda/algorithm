{
 "cells": [
  {
   "cell_type": "code",
   "execution_count": 16,
   "id": "6f796996",
   "metadata": {},
   "outputs": [
    {
     "name": "stdout",
     "output_type": "stream",
     "text": [
      "5\n",
      "2 3 1 2 2\n",
      "2\n"
     ]
    }
   ],
   "source": [
    "#이코테 기출 1\n",
    "#아이디어: 가장 작은 단위의 모험가 그룹을 만들고, 그 다음 또 다시 가장 작은 단위의 모험가 그룹 만들기(1차 생각)\n",
    "#새로운 아이디어: 생각은 맞는데 구현부분이 틀렸음. 잉여 모험가 수를 추가하면 해결 될듯\n",
    "#모험가 수 입력\n",
    "n=int(input())\n",
    "#공포도 리스트\n",
    "array=list(map(int,input().split()))\n",
    "array=sorted(array) #공포도가 작은 순으로 정렬\n",
    "sum=0 #그룹의 총합\n",
    "r=0 #잉여 모험가\n",
    "for i in array:\n",
    "    r+=1 #잉여 모험가 1추가\n",
    "    if i>=r: #그룹을 만들 수 있다면 만들기\n",
    "        sum+=1\n",
    "        \n",
    "print(sum)"
   ]
  },
  {
   "cell_type": "code",
   "execution_count": null,
   "id": "3959182d",
   "metadata": {},
   "outputs": [],
   "source": []
  }
 ],
 "metadata": {
  "hide_input": false,
  "jupytext": {
   "formats": "ipynb,auto:light"
  },
  "kernelspec": {
   "display_name": "Python 3 (ipykernel)",
   "language": "python",
   "name": "python3"
  },
  "language_info": {
   "codemirror_mode": {
    "name": "ipython",
    "version": 3
   },
   "file_extension": ".py",
   "mimetype": "text/x-python",
   "name": "python",
   "nbconvert_exporter": "python",
   "pygments_lexer": "ipython3",
   "version": "3.9.12"
  },
  "toc": {
   "base_numbering": 1,
   "nav_menu": {},
   "number_sections": true,
   "sideBar": true,
   "skip_h1_title": false,
   "title_cell": "Table of Contents",
   "title_sidebar": "Contents",
   "toc_cell": false,
   "toc_position": {},
   "toc_section_display": true,
   "toc_window_display": false
  }
 },
 "nbformat": 4,
 "nbformat_minor": 5
}
