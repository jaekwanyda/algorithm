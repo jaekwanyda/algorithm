{
 "cells": [
  {
   "cell_type": "code",
   "execution_count": 8,
   "id": "121d7f51",
   "metadata": {},
   "outputs": [
    {
     "name": "stdout",
     "output_type": "stream",
     "text": [
      "1010101010110100\n",
      "7\n"
     ]
    }
   ],
   "source": [
    "#이코테 실전 3(백준 1439)\n",
    "#아이디어: 0 덩어리와 1덩어리 수를 구해서 더 작은 덩어리를 뒤집자\n",
    "#문자열 입력받기\n",
    "array=list(input())\n",
    "zero_one=[0,0] #덩어리 수 기록\n",
    "zero_one[int(array[0])]+=1 #첫번째 덩어리 등록\n",
    "for i in range(1,len(array)):\n",
    "    if array[i]!=array[i-1]: #다를 경우 array[i]의 값의 덩어리 수 추가\n",
    "        zero_one[int(array[i])]+=1\n",
    "        \n",
    "print(min(zero_one))"
   ]
  },
  {
   "cell_type": "code",
   "execution_count": 7,
   "id": "e1f8a261",
   "metadata": {},
   "outputs": [
    {
     "data": {
      "text/plain": [
       "[12, 11]"
      ]
     },
     "execution_count": 7,
     "metadata": {},
     "output_type": "execute_result"
    }
   ],
   "source": [
    "zero_one"
   ]
  },
  {
   "cell_type": "code",
   "execution_count": null,
   "id": "f81c0707",
   "metadata": {},
   "outputs": [],
   "source": []
  }
 ],
 "metadata": {
  "hide_input": false,
  "jupytext": {
   "formats": "ipynb,auto:light"
  },
  "kernelspec": {
   "display_name": "Python 3 (ipykernel)",
   "language": "python",
   "name": "python3"
  },
  "language_info": {
   "codemirror_mode": {
    "name": "ipython",
    "version": 3
   },
   "file_extension": ".py",
   "mimetype": "text/x-python",
   "name": "python",
   "nbconvert_exporter": "python",
   "pygments_lexer": "ipython3",
   "version": "3.9.12"
  },
  "toc": {
   "base_numbering": 1,
   "nav_menu": {},
   "number_sections": true,
   "sideBar": true,
   "skip_h1_title": false,
   "title_cell": "Table of Contents",
   "title_sidebar": "Contents",
   "toc_cell": false,
   "toc_position": {},
   "toc_section_display": true,
   "toc_window_display": false
  }
 },
 "nbformat": 4,
 "nbformat_minor": 5
}
