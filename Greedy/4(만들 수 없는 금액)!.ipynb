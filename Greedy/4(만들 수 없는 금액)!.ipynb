{
 "cells": [
  {
   "cell_type": "code",
   "execution_count": null,
   "id": "44739d3c",
   "metadata": {},
   "outputs": [],
   "source": [
    "#이코테 실전 4\n",
    "#아이디어: 굉장히 떠올리기 힘들었다. 답지를 참고한 결과 세부 과정은 이렇다\n",
    "#1. 동전 금액을 정렬한다. 2.동전을 하나씩 늘려가며 만들 수 있는 최소 금액을 늘려간다.\n",
    "n=int(input())\n",
    "coin=list(map(int,input().split()))\n",
    "coin.sort()\n",
    "target=1\n",
    "for i in range(n):\n",
    "    if target<coin[i]:\n",
    "        break\n",
    "    target+=coin[i]\n",
    "    \n",
    "print(target)"
   ]
  }
 ],
 "metadata": {
  "hide_input": false,
  "jupytext": {
   "formats": "ipynb,auto:light"
  },
  "kernelspec": {
   "display_name": "Python 3 (ipykernel)",
   "language": "python",
   "name": "python3"
  },
  "language_info": {
   "codemirror_mode": {
    "name": "ipython",
    "version": 3
   },
   "file_extension": ".py",
   "mimetype": "text/x-python",
   "name": "python",
   "nbconvert_exporter": "python",
   "pygments_lexer": "ipython3",
   "version": "3.9.12"
  },
  "toc": {
   "base_numbering": 1,
   "nav_menu": {},
   "number_sections": true,
   "sideBar": true,
   "skip_h1_title": false,
   "title_cell": "Table of Contents",
   "title_sidebar": "Contents",
   "toc_cell": false,
   "toc_position": {},
   "toc_section_display": true,
   "toc_window_display": false
  }
 },
 "nbformat": 4,
 "nbformat_minor": 5
}
