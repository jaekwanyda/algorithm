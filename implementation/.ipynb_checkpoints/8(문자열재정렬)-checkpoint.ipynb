{
 "cells": [
  {
   "cell_type": "code",
   "execution_count": 1,
   "id": "4a4e62ea",
   "metadata": {},
   "outputs": [
    {
     "name": "stdout",
     "output_type": "stream",
     "text": [
      "K1KA5CB7\n",
      "ABCKK13"
     ]
    }
   ],
   "source": [
    "#이코테 기출 8\n",
    "#아이디어: 문자열을 sort하는 방법과 데이터 타입을 구별하는 함수만 알면 구현 가능할 것같다.\n",
    "#문자열 입력받기\n",
    "array=list(input())\n",
    "sum=0\n",
    "a=[]\n",
    "for i in array:\n",
    "    try :\n",
    "        sum+=int(i)\n",
    "    except ValueError:\n",
    "        a.append(i)\n",
    "a.sort() #문자열 정렬\n",
    "a=a+[sum]\n",
    "\n",
    "for i in a:\n",
    "    print(i,end='')"
   ]
  },
  {
   "cell_type": "code",
   "execution_count": null,
   "id": "48512355",
   "metadata": {},
   "outputs": [],
   "source": []
  }
 ],
 "metadata": {
  "hide_input": false,
  "jupytext": {
   "formats": "ipynb,auto:light"
  },
  "kernelspec": {
   "display_name": "Python 3 (ipykernel)",
   "language": "python",
   "name": "python3"
  },
  "language_info": {
   "codemirror_mode": {
    "name": "ipython",
    "version": 3
   },
   "file_extension": ".py",
   "mimetype": "text/x-python",
   "name": "python",
   "nbconvert_exporter": "python",
   "pygments_lexer": "ipython3",
   "version": "3.9.12"
  },
  "toc": {
   "base_numbering": 1,
   "nav_menu": {},
   "number_sections": true,
   "sideBar": true,
   "skip_h1_title": false,
   "title_cell": "Table of Contents",
   "title_sidebar": "Contents",
   "toc_cell": false,
   "toc_position": {},
   "toc_section_display": true,
   "toc_window_display": false
  }
 },
 "nbformat": 4,
 "nbformat_minor": 5
}
