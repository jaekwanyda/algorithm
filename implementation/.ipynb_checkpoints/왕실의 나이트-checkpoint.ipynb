{
 "cells": [
  {
   "cell_type": "code",
   "execution_count": 4,
   "id": "5aa75b27",
   "metadata": {},
   "outputs": [
    {
     "name": "stdout",
     "output_type": "stream",
     "text": [
      "c5\n",
      "8\n"
     ]
    }
   ],
   "source": [
    "#이코테 구현 예제 2\n",
    "#나이트의 위치 입력받기\n",
    "input_data=input()\n",
    "data_row=int(input_data[1]) # 입력 받은 것은 str!\n",
    "data_column=int(ord(input_data[0]))-int(ord('a'))+1 # ord 를 사용해서 순서 확인하기!(몰랐던 것)\n",
    "steps=[[-2,-1],[-2,1],[2,-1],[2,1],[-1,-2],[-1,2],[1,-2],[1,2]]\n",
    "result=0\n",
    "for step in steps:\n",
    "    next_row=data_row+step[0]\n",
    "    next_column=data_column+step[1]\n",
    "    if next_row >= 1 and next_row <=8 and next_column >=1 and next_column <=8:\n",
    "        result+=1\n",
    "print(result)"
   ]
  },
  {
   "cell_type": "code",
   "execution_count": null,
   "id": "50b74e9d",
   "metadata": {},
   "outputs": [],
   "source": []
  }
 ],
 "metadata": {
  "hide_input": false,
  "jupytext": {
   "formats": "ipynb,auto:light"
  },
  "kernelspec": {
   "display_name": "Python 3 (ipykernel)",
   "language": "python",
   "name": "python3"
  },
  "language_info": {
   "codemirror_mode": {
    "name": "ipython",
    "version": 3
   },
   "file_extension": ".py",
   "mimetype": "text/x-python",
   "name": "python",
   "nbconvert_exporter": "python",
   "pygments_lexer": "ipython3",
   "version": "3.9.12"
  },
  "toc": {
   "base_numbering": 1,
   "nav_menu": {},
   "number_sections": true,
   "sideBar": true,
   "skip_h1_title": false,
   "title_cell": "Table of Contents",
   "title_sidebar": "Contents",
   "toc_cell": false,
   "toc_position": {},
   "toc_section_display": true,
   "toc_window_display": false
  }
 },
 "nbformat": 4,
 "nbformat_minor": 5
}
