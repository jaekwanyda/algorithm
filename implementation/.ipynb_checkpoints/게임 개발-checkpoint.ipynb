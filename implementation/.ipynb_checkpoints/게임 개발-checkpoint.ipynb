{
 "cells": [
  {
   "cell_type": "code",
   "execution_count": 6,
   "id": "dd24232b",
   "metadata": {},
   "outputs": [
    {
     "name": "stdout",
     "output_type": "stream",
     "text": [
      "4 4\n",
      "1 1 0\n",
      "1 1 1 1\n",
      "1 0 0 1\n",
      "1 1 0 1\n",
      "1 1 1 1\n",
      "3\n"
     ]
    }
   ],
   "source": [
    "#아코테 구현 예제 3\n",
    "n,m=map(int,input().split())\n",
    "#방문한 위치를 저장하기 위한 맵을 생성\n",
    "invited=[[0]*m for _ in range(n)] # 0으로 초기화 하기 위한 방법 중 하나\n",
    "#현재 캐릭터의 위치와 방향 입력\n",
    "x,y,direction=map(int,input().split())\n",
    "invited[x][y]=1 #시작 지점 방문 처리\n",
    "#맵 정보 입력받기\n",
    "array=[list(map(int,input().split())) for _ in range(n)] # 잘 몰랐던 방법!!\n",
    "dx =[-1,0,1,0] #일반적인 x,y,평면 생각 하면 안됨!!!! (틀린 부분) row와 column으로 생각해야 함\n",
    "dy =[0,1,0,-1] #방향별 움직이는 방향\n",
    "\n",
    "# 왼쪽으로 회전하는 함수 rot_90 생성\n",
    "def rot_90():\n",
    "    global direction #밖에 있는 direction 을 사용해야 하므로 global 사용하기 !! (잘 몰랐음)\n",
    "    direction-=1\n",
    "    if direction==-1:\n",
    "        direction=3\n",
    "        \n",
    "count=1 #방문한 지역 수\n",
    "turn_time=0 #4번 회전하면 뒤로 가야함\n",
    "while (True):\n",
    "    rot_90()\n",
    "    next_x=x+dx[direction]\n",
    "    next_y=y+dy[direction]\n",
    "    # 바로 앞이 안가본 지역이고, 육지일 경우 전진\n",
    "    if invited[next_x][next_y]==0 and array[next_x][next_y]==0:\n",
    "        invited[next_x][next_y]=1 #방문처리 해주기 (까먹은 부분)\n",
    "        x=next_x\n",
    "        y=next_y\n",
    "        count+=1\n",
    "        turn_time=0\n",
    "        continue\n",
    "    #아닐 경우 한번 더 돌기    \n",
    "    else:\n",
    "        turn_time+=1\n",
    "    if turn_time==4:\n",
    "        next_x=x-dx[direction]\n",
    "        next_y=y-dy[direction]\n",
    "        #만약 바다라서 뒤로가지 못하면 멈추기\n",
    "        if array[next_x][next_y]==1:\n",
    "            break\n",
    "        else:\n",
    "            x=next_x\n",
    "            y=next_y\n",
    "            turn_time=0\n",
    "print(count)"
   ]
  },
  {
   "cell_type": "code",
   "execution_count": null,
   "id": "1d9854c1",
   "metadata": {},
   "outputs": [],
   "source": []
  }
 ],
 "metadata": {
  "hide_input": false,
  "jupytext": {
   "formats": "ipynb,auto:light"
  },
  "kernelspec": {
   "display_name": "Python 3 (ipykernel)",
   "language": "python",
   "name": "python3"
  },
  "language_info": {
   "codemirror_mode": {
    "name": "ipython",
    "version": 3
   },
   "file_extension": ".py",
   "mimetype": "text/x-python",
   "name": "python",
   "nbconvert_exporter": "python",
   "pygments_lexer": "ipython3",
   "version": "3.9.12"
  },
  "toc": {
   "base_numbering": 1,
   "nav_menu": {},
   "number_sections": true,
   "sideBar": true,
   "skip_h1_title": false,
   "title_cell": "Table of Contents",
   "title_sidebar": "Contents",
   "toc_cell": false,
   "toc_position": {},
   "toc_section_display": true,
   "toc_window_display": false
  }
 },
 "nbformat": 4,
 "nbformat_minor": 5
}
