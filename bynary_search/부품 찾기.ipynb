{
 "cells": [
  {
   "cell_type": "code",
   "execution_count": 2,
   "id": "bc624498",
   "metadata": {},
   "outputs": [
    {
     "name": "stdout",
     "output_type": "stream",
     "text": [
      "5\n",
      "8 3 7 9 2\n",
      "3\n",
      "5 7 9\n",
      "no yes yes "
     ]
    }
   ],
   "source": [
    "#아코테 이진탐색 연습 2\n",
    "#순서가 오름차순으로 정렬된 배열 이진탐색\n",
    "def by_sc(array,target,start,end):\n",
    "    if start>end:\n",
    "        return print('no',end=' ')\n",
    "    mid=(start+end)//2\n",
    "    if array[mid]==target:\n",
    "        return print('yes',end=' ')\n",
    "    elif array[mid]<target: #오른쪽 덩어리\n",
    "        return by_sc(array,target,mid+1,end)\n",
    "    else :\n",
    "        return by_sc(array,target,start,mid-1)\n",
    "    \n",
    "#갖고있는 부품 갯수 n 입력받기\n",
    "n=int(input())\n",
    "#부품 배열 입력받기\n",
    "array=list(map(int,input().split()))\n",
    "array=sorted(array) #오름차순 정렬\n",
    "#찾는 부품 갯수 m입력받기\n",
    "m=int(input())\n",
    "#찾는 부품 배열 입력받기\n",
    "find_array=list(map(int,input().split()))\n",
    "for i in find_array:\n",
    "    by_sc(array,i,0,len(array))"
   ]
  },
  {
   "cell_type": "code",
   "execution_count": null,
   "id": "48025031",
   "metadata": {},
   "outputs": [],
   "source": []
  }
 ],
 "metadata": {
  "hide_input": false,
  "jupytext": {
   "formats": "ipynb,auto:light"
  },
  "kernelspec": {
   "display_name": "Python 3 (ipykernel)",
   "language": "python",
   "name": "python3"
  },
  "language_info": {
   "codemirror_mode": {
    "name": "ipython",
    "version": 3
   },
   "file_extension": ".py",
   "mimetype": "text/x-python",
   "name": "python",
   "nbconvert_exporter": "python",
   "pygments_lexer": "ipython3",
   "version": "3.9.12"
  },
  "toc": {
   "base_numbering": 1,
   "nav_menu": {},
   "number_sections": true,
   "sideBar": true,
   "skip_h1_title": false,
   "title_cell": "Table of Contents",
   "title_sidebar": "Contents",
   "toc_cell": false,
   "toc_position": {},
   "toc_section_display": true,
   "toc_window_display": false
  }
 },
 "nbformat": 4,
 "nbformat_minor": 5
}
