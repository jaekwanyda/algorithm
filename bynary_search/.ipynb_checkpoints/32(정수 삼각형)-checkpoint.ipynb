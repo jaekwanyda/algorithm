{
 "cells": [
  {
   "cell_type": "code",
   "execution_count": 2,
   "id": "8354a53a",
   "metadata": {},
   "outputs": [
    {
     "ename": "SyntaxError",
     "evalue": "unexpected EOF while parsing (2601235169.py, line 21)",
     "output_type": "error",
     "traceback": [
      "\u001b[1;36m  Input \u001b[1;32mIn [2]\u001b[1;36m\u001b[0m\n\u001b[1;33m    print(max(dp)\u001b[0m\n\u001b[1;37m                 ^\u001b[0m\n\u001b[1;31mSyntaxError\u001b[0m\u001b[1;31m:\u001b[0m unexpected EOF while parsing\n"
     ]
    }
   ],
   "source": [
    "#이코테 실전 32(백준 1932)\n",
    "#아이디어: 위의 삼각형에서 두 개 값 중 최대인 것을 더해 새로운 삼각형을 만들면 될 것 같다.\n",
    "#n 입력받기\n",
    "n=int(input())\n",
    "dp=[[0]*n for _ in range(n)]#dp테이블 형성\n",
    "#list로 입력받기\n",
    "array=[]\n",
    "for i in range(n):\n",
    "    array.append(list(map(int,input().split())))\n",
    "#dp 테이블에 추가\n",
    "dp[0][0]=array[0][0]\n",
    "for i in range(1,n):\n",
    "    for j in range(i+1):\n",
    "        if j==0:\n",
    "            dp[i][j]=dp[i-1][j]+array[i][j] #맨 왼쪽의 경우 위의 값 그대로\n",
    "        elif j==i:\n",
    "            dp[i][j]=dp[i-1][j-1]+array[i][j] #맨 오른쪽의 경우 왼쪽 위 값 그대로\n",
    "        else:\n",
    "            dp[i][j]=max(dp[i-1][j],dp[i-1][j-1])+array[i][j]\n",
    "\n",
    "print(max(dp[n-1]))"
   ]
  },
  {
   "cell_type": "code",
   "execution_count": null,
   "id": "707212c0",
   "metadata": {},
   "outputs": [],
   "source": []
  }
 ],
 "metadata": {
  "hide_input": false,
  "jupytext": {
   "formats": "ipynb,auto:light"
  },
  "kernelspec": {
   "display_name": "Python 3 (ipykernel)",
   "language": "python",
   "name": "python3"
  },
  "language_info": {
   "codemirror_mode": {
    "name": "ipython",
    "version": 3
   },
   "file_extension": ".py",
   "mimetype": "text/x-python",
   "name": "python",
   "nbconvert_exporter": "python",
   "pygments_lexer": "ipython3",
   "version": "3.9.12"
  },
  "toc": {
   "base_numbering": 1,
   "nav_menu": {},
   "number_sections": true,
   "sideBar": true,
   "skip_h1_title": false,
   "title_cell": "Table of Contents",
   "title_sidebar": "Contents",
   "toc_cell": false,
   "toc_position": {},
   "toc_section_display": true,
   "toc_window_display": false
  }
 },
 "nbformat": 4,
 "nbformat_minor": 5
}
