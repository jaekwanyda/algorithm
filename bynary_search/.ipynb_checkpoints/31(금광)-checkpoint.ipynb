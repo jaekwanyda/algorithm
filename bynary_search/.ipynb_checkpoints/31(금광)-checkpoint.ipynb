{
 "cells": [
  {
   "cell_type": "code",
   "execution_count": 11,
   "id": "6fde4224",
   "metadata": {},
   "outputs": [
    {
     "name": "stdout",
     "output_type": "stream",
     "text": [
      "1\n",
      "4 4\n",
      "1 3 1 5 2 2 4 1 5 0 2 3 0 6 1 2\n",
      "18\n"
     ]
    }
   ],
   "source": [
    "#이코테 실전 31\n",
    "#아이디어: 앞에 열에서 가장 최고의 금광 채굴 기록을 저장해 두면 다음 열에서 다시 이용(아이디어는 괜찮은데 틀림)\n",
    "#=>2차원 DP테이블 만들어서 더 가독성 있게 코드 바꿔야함\n",
    "#테스트 케이스 T입력받기\n",
    "t=int(input())\n",
    "for i in range(t):\n",
    "    #n,m입력 받기\n",
    "    n,m=map(int,input().split()) \n",
    "    #금의 개수 입력받기\n",
    "    array=list(map(int,input().split()))\n",
    "    #이전 결과의 최대 값 저장하는 리스트 생성\n",
    "    d=[0]*n\n",
    "    for i in range(n):\n",
    "        d[i]=array[i*m]\n",
    "    for i in range(1,m): #첫번째 행은 진행하지 않아도 됨 \n",
    "        for j in range(n):\n",
    "            #이전에 가능한 값들 중 가장 최대와 더해줌\n",
    "            if j==0:\n",
    "                d[j]=max(d[j]+array[i+j*m],d[j]+array[i+(j+1)*m]) #바로 이전 행과 이전 행 아래 열 값과 비교\n",
    "            elif j==n-1:\n",
    "                d[j]=max(d[j]+array[i+j*m],d[j]+array[i+(j-1)*m]) #바로 이전 행과 이전 행 윗 열 값과 비교\n",
    "            else:\n",
    "                d[j]=max(d[j]+array[i+j*m],d[j]+array[i+(j-1)*m],d[j]+array[i+(j+1)*m])\n",
    "    print(max(d))\n",
    "    \n"
   ]
  },
  {
   "cell_type": "code",
   "execution_count": 5,
   "id": "be2c0a46",
   "metadata": {},
   "outputs": [
    {
     "data": {
      "text/plain": [
       "[12, 16, 13]"
      ]
     },
     "execution_count": 5,
     "metadata": {},
     "output_type": "execute_result"
    }
   ],
   "source": [
    "d"
   ]
  },
  {
   "cell_type": "code",
   "execution_count": null,
   "id": "ebabad9c",
   "metadata": {},
   "outputs": [],
   "source": []
  }
 ],
 "metadata": {
  "hide_input": false,
  "jupytext": {
   "formats": "ipynb,auto:light"
  },
  "kernelspec": {
   "display_name": "Python 3 (ipykernel)",
   "language": "python",
   "name": "python3"
  },
  "language_info": {
   "codemirror_mode": {
    "name": "ipython",
    "version": 3
   },
   "file_extension": ".py",
   "mimetype": "text/x-python",
   "name": "python",
   "nbconvert_exporter": "python",
   "pygments_lexer": "ipython3",
   "version": "3.9.12"
  },
  "toc": {
   "base_numbering": 1,
   "nav_menu": {},
   "number_sections": true,
   "sideBar": true,
   "skip_h1_title": false,
   "title_cell": "Table of Contents",
   "title_sidebar": "Contents",
   "toc_cell": false,
   "toc_position": {},
   "toc_section_display": true,
   "toc_window_display": false
  }
 },
 "nbformat": 4,
 "nbformat_minor": 5
}
