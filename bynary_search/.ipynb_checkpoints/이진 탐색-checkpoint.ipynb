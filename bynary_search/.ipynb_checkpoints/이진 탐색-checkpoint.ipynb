{
 "cells": [
  {
   "cell_type": "code",
   "execution_count": 4,
   "id": "3e921aba",
   "metadata": {},
   "outputs": [
    {
     "name": "stdout",
     "output_type": "stream",
     "text": [
      "10 7\n",
      "1 3 5 8 9 10 11 12 13 14\n",
      "원소가 존재하지 않습니다,\n"
     ]
    }
   ],
   "source": [
    "#재귀 함수로 구현해 보기\n",
    "#중간점과 비교하고 경우에 따라 왼쪽이나 오른쪽 배열에서 다시 찾는 함수 구현\n",
    "#주어진 array는 오름차순이라 정의\n",
    "def bynary_sc(array,target,start,end):\n",
    "    #종료 조건 표시\n",
    "    if start>end:\n",
    "        return None\n",
    "    \n",
    "    mid=(start+end)//2\n",
    "    if array[mid]==target: #찾으면 그 위치의 index 출력\n",
    "        return mid\n",
    "    elif array[mid]<target:#오른쪽 배열에 있을 때\n",
    "        return bynary_sc(array,target,mid+1,end)\n",
    "    else:\n",
    "        return bynary_sc(array,target,start,mid-1)\n",
    "    \n",
    "#n(원소의 갯수)과 target입력받기\n",
    "n,target=map(int,input().split())\n",
    "#array 입력받기\n",
    "array=list(map(int,input().split()))\n",
    "\n",
    "result=bynary_sc(array,target,0,len(array))\n",
    "\n",
    "if result==None:\n",
    "    print('원소가 존재하지 않습니다,')\n",
    "else:\n",
    "    print(result+1) # 0번 인덱스를 첫번째 요소로 여기기 때문"
   ]
  },
  {
   "cell_type": "code",
   "execution_count": null,
   "id": "0b8788ef",
   "metadata": {},
   "outputs": [],
   "source": []
  }
 ],
 "metadata": {
  "hide_input": false,
  "jupytext": {
   "formats": "ipynb,auto:light"
  },
  "kernelspec": {
   "display_name": "Python 3 (ipykernel)",
   "language": "python",
   "name": "python3"
  },
  "language_info": {
   "codemirror_mode": {
    "name": "ipython",
    "version": 3
   },
   "file_extension": ".py",
   "mimetype": "text/x-python",
   "name": "python",
   "nbconvert_exporter": "python",
   "pygments_lexer": "ipython3",
   "version": "3.9.12"
  },
  "toc": {
   "base_numbering": 1,
   "nav_menu": {},
   "number_sections": true,
   "sideBar": true,
   "skip_h1_title": false,
   "title_cell": "Table of Contents",
   "title_sidebar": "Contents",
   "toc_cell": false,
   "toc_position": {},
   "toc_section_display": true,
   "toc_window_display": false
  }
 },
 "nbformat": 4,
 "nbformat_minor": 5
}
