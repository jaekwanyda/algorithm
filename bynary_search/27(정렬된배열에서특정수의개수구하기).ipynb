{
 "cells": [
  {
   "cell_type": "code",
   "execution_count": 2,
   "id": "cf5f8694",
   "metadata": {},
   "outputs": [
    {
     "name": "stdout",
     "output_type": "stream",
     "text": [
      "7 4\n",
      "1 1 2 2 2 2 3\n",
      "-1\n"
     ]
    }
   ],
   "source": [
    "#이코테 실전 27\n",
    "#아이디어: 원하는 원소의 처음값과 끝값을 찾을 수 있으면 해결된다. 이진탐색을 이용해보자\n",
    "#파이썬 라이브러리의 bisect 사용 가능\n",
    "#수열의 크기 N과 원소 x입력받기\n",
    "n,x=map(int,input().split())\n",
    "#수열 입력받기\n",
    "array=list(map(int,input().split()))\n",
    "x_list=[]\n",
    "#이진탐색 함수\n",
    "def binary_search(array,x,start,end):\n",
    "    if start>end:\n",
    "        return None\n",
    "    mid=(start+end)//2\n",
    "    global x_list #x의 인덱스를 저장할 리스트\n",
    "    #중앙값이 찾는 값보다 클때\n",
    "    if array[mid]>x:\n",
    "        binary_search(array,x,start,mid-1)\n",
    "    #중앙값이 찾는 값보다 작을때\n",
    "    elif array[mid]<x:\n",
    "        binary_search(array,x,mid+1,end)\n",
    "    #중앙값이 찾는 값과 일치할 때\n",
    "    else:\n",
    "        binary_search(array,x,start,mid-1)\n",
    "        binary_search(array,x,mid+1,end)\n",
    "        x_list.append(mid)\n",
    "    return None\n",
    "\n",
    "binary_search(array,x,0,len(array)-1)\n",
    "\n",
    "if len(x_list)==0:\n",
    "    print(-1)\n",
    "else:\n",
    "    print(len(x_list))\n"
   ]
  },
  {
   "cell_type": "code",
   "execution_count": null,
   "id": "bc389918",
   "metadata": {},
   "outputs": [],
   "source": []
  }
 ],
 "metadata": {
  "hide_input": false,
  "jupytext": {
   "formats": "ipynb,auto:light"
  },
  "kernelspec": {
   "display_name": "Python 3 (ipykernel)",
   "language": "python",
   "name": "python3"
  },
  "language_info": {
   "codemirror_mode": {
    "name": "ipython",
    "version": 3
   },
   "file_extension": ".py",
   "mimetype": "text/x-python",
   "name": "python",
   "nbconvert_exporter": "python",
   "pygments_lexer": "ipython3",
   "version": "3.9.12"
  },
  "toc": {
   "base_numbering": 1,
   "nav_menu": {},
   "number_sections": true,
   "sideBar": true,
   "skip_h1_title": false,
   "title_cell": "Table of Contents",
   "title_sidebar": "Contents",
   "toc_cell": false,
   "toc_position": {},
   "toc_section_display": true,
   "toc_window_display": false
  }
 },
 "nbformat": 4,
 "nbformat_minor": 5
}
