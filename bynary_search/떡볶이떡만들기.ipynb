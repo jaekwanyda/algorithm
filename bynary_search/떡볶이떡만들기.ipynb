{
 "cells": [
  {
   "cell_type": "code",
   "execution_count": 4,
   "id": "99cdbb1f",
   "metadata": {},
   "outputs": [
    {
     "name": "stdout",
     "output_type": "stream",
     "text": [
      "4 6\n",
      "19 15 10 17\n",
      "15\n"
     ]
    }
   ],
   "source": [
    "#아코테 이진탐색 연습 3\n",
    "#아이디어: [0,max(떡 길이)] 의 범위를 이용해 이진탐색을 이용해보자 \n",
    "#최대 길이는 10억이기 때문에 이진탐색을 이용하면 해결할 수 있을거라 예상된다..\n",
    "#특정한 값을 찾기 보다, 특정 길이를 넣었을 때 가능한 값 중 가장 최댓값을 찾고싶다.\n",
    "#떡을 잘랐을 때 잘린 떡의 총합을 구하는 함수\n",
    "def cut_cake(array,length):\n",
    "    b=0\n",
    "    for i in range(len(array)):\n",
    "        a=array[i]-length\n",
    "        if a<0:\n",
    "            a=0\n",
    "        b+=a\n",
    "    return b\n",
    "\n",
    "#이진 탐색 함수\n",
    "def by_sc(array,target,start,end):\n",
    "    if start>end:#이 문제에서는 불가능한 경우는 없다고 했기 때문에 사실 필요 없음. 혹시나 하는 경우를 위해 만듬\n",
    "        return start-1 \n",
    "    mid=(start+end)//2\n",
    "    if cut_cake(array,mid)<target: # 중간값으로 불가능하면 왼쪽 배열 확인\n",
    "        return by_sc(array,target,start,mid-1)\n",
    "    else :\n",
    "        return by_sc(array,target,mid+1,end)\n",
    "    \n",
    "#떡의 개수(N) 과 원하는 떡의 길이 (target)입력받기\n",
    "n,target=map(int,input().split())\n",
    "#각 떡의 높이 입력받기\n",
    "array=list(map(int,input().split()))\n",
    "array=sorted(array)\n",
    "\n",
    "result=by_sc(array,target,0,array[len(array)-1])\n",
    "\n",
    "print(result)"
   ]
  },
  {
   "cell_type": "code",
   "execution_count": 5,
   "id": "3d7d6e6a",
   "metadata": {},
   "outputs": [
    {
     "name": "stdout",
     "output_type": "stream",
     "text": [
      "4 6\n",
      "19 15 10 17\n",
      "15\n"
     ]
    }
   ],
   "source": [
    "#반복문으로 해결하기!! (더 간걸함, 몰랐음)\n",
    "#입력받기는 똑같다.\n",
    "#떡의 개수(N) 과 원하는 떡의 길이 (target)입력받기\n",
    "n,target=map(int,input().split())\n",
    "#각 떡의 높이 입력받기\n",
    "array=list(map(int,input().split()))\n",
    "array=sorted(array)#사실 정렬은 필요없다. 최댓값을 구하기 위해서 사용했는데 그냥 max(array)로도 해결\n",
    "start=0\n",
    "end=array[len(array)-1]\n",
    "\n",
    "#이진 탐색 구현\n",
    "result=0\n",
    "while(start<=end):\n",
    "    mid=(start+end)//2\n",
    "    total=0\n",
    "    #떡길이 총합 구하기\n",
    "    for x in array:\n",
    "        if x>mid:\n",
    "            total+=x-mid\n",
    "    if total<target:#자른 떡의 양이 더 작을 때엔 더 잘라야 한다=> 왼쪽으로 이동\n",
    "        end=mid-1\n",
    "    else:#더 많을 때에는 덜 잘라야 한다 => 오른쪽으로 이동\n",
    "        start=mid+1\n",
    "        #최대한 덜 잘라야하니까 가능할 때 result로 저장\n",
    "        result=mid\n",
    "\n",
    "print(result)"
   ]
  },
  {
   "cell_type": "code",
   "execution_count": null,
   "id": "ae80b8a2",
   "metadata": {},
   "outputs": [],
   "source": []
  }
 ],
 "metadata": {
  "hide_input": false,
  "jupytext": {
   "formats": "ipynb,auto:light"
  },
  "kernelspec": {
   "display_name": "Python 3 (ipykernel)",
   "language": "python",
   "name": "python3"
  },
  "language_info": {
   "codemirror_mode": {
    "name": "ipython",
    "version": 3
   },
   "file_extension": ".py",
   "mimetype": "text/x-python",
   "name": "python",
   "nbconvert_exporter": "python",
   "pygments_lexer": "ipython3",
   "version": "3.9.12"
  },
  "toc": {
   "base_numbering": 1,
   "nav_menu": {},
   "number_sections": true,
   "sideBar": true,
   "skip_h1_title": false,
   "title_cell": "Table of Contents",
   "title_sidebar": "Contents",
   "toc_cell": false,
   "toc_position": {},
   "toc_section_display": true,
   "toc_window_display": false
  }
 },
 "nbformat": 4,
 "nbformat_minor": 5
}
