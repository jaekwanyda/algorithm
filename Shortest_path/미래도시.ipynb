{
 "cells": [
  {
   "cell_type": "code",
   "execution_count": 5,
   "id": "1e7b3320",
   "metadata": {},
   "outputs": [
    {
     "name": "stdout",
     "output_type": "stream",
     "text": [
      "4 2\n",
      "1 3\n",
      "2 4\n",
      "3 4\n",
      "-1\n"
     ]
    }
   ],
   "source": [
    "#이코테 최단 경로 연습 2\n",
    "#아이디어: 총 100개의 노드가 주어지므로 플로이드 워셜 사용하기\n",
    "#의문: 만약 K-N 순서로 방문해야 하는데 최단거리 조건이 N을 거쳐갔을 때라면 어떻게 처리할지\n",
    "#일단 그런 경우에 대해서 명시되어 있지 않으니 플로이드로 해본다.\n",
    "#전체 회사의 수 N과 경로 수 M입력받기\n",
    "n,m=map(int,input().split())\n",
    "\n",
    "INF=987654321\n",
    "\n",
    "#2차원 리스트에 각각의 노드별 거리 저장\n",
    "graph=[[INF]*(n+1) for _ in range(n+1)] #무한으로 초기화\n",
    "\n",
    "#자기 자신에게 가는 간선은 0으로 초기화\n",
    "for i in range(1,n+1):\n",
    "    graph[i][i]=0\n",
    "    \n",
    "#간선 정보 입력받기\n",
    "for _ in range(m):\n",
    "    a,b=map(int,input().split())\n",
    "    graph[a][b]=1\n",
    "    graph[b][a]=1\n",
    "\n",
    "#플로이드 워셜 알고리즘\n",
    "\n",
    "for k in range(1,n+1):\n",
    "    for i in range(1,n+1):\n",
    "        for j in range(1,n+1):\n",
    "            graph[i][j]=min(graph[i][j],graph[i][k]+graph[k][j])\n",
    "\n",
    "            \n",
    "#X와 K입력받기\n",
    "x,k=map(int,input().split())\n",
    "\n",
    "result=graph[1][k]+graph[k][x]\n",
    "if result>=INF:\n",
    "    print(-1)\n",
    "else:\n",
    "    print(result)"
   ]
  },
  {
   "cell_type": "code",
   "execution_count": null,
   "id": "858dacfe",
   "metadata": {},
   "outputs": [],
   "source": []
  }
 ],
 "metadata": {
  "hide_input": false,
  "jupytext": {
   "formats": "ipynb,auto:light"
  },
  "kernelspec": {
   "display_name": "Python 3 (ipykernel)",
   "language": "python",
   "name": "python3"
  },
  "language_info": {
   "codemirror_mode": {
    "name": "ipython",
    "version": 3
   },
   "file_extension": ".py",
   "mimetype": "text/x-python",
   "name": "python",
   "nbconvert_exporter": "python",
   "pygments_lexer": "ipython3",
   "version": "3.9.12"
  },
  "toc": {
   "base_numbering": 1,
   "nav_menu": {},
   "number_sections": true,
   "sideBar": true,
   "skip_h1_title": false,
   "title_cell": "Table of Contents",
   "title_sidebar": "Contents",
   "toc_cell": false,
   "toc_position": {},
   "toc_section_display": true,
   "toc_window_display": false
  }
 },
 "nbformat": 4,
 "nbformat_minor": 5
}
