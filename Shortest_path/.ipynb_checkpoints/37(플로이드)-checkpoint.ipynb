{
 "cells": [
  {
   "cell_type": "code",
   "execution_count": 4,
   "id": "a71c3148",
   "metadata": {},
   "outputs": [
    {
     "name": "stdout",
     "output_type": "stream",
     "text": [
      "5\n",
      "14\n",
      "1 2 2\n",
      "1 3 3\n",
      "1 4 1\n",
      "1 5 10\n",
      "2 4 2 \n",
      "3 4 1\n",
      "3 5 1\n",
      "4 5 3\n",
      "3 5 10\n",
      "3 1 8\n",
      "1 4 2\n",
      "5 1 7\n",
      "3 4 2\n",
      "5 2 4\n",
      "0 2 3 1 4 \n",
      "12 0 15 2 5 \n",
      "8 5 0 1 1 \n",
      "10 7 13 0 3 \n",
      "7 4 10 6 0 \n"
     ]
    }
   ],
   "source": [
    "#이코테 실전 37(백준 11404)\n",
    "#아이디어: 모든 도시에 대해 구하니까 플로이드 워셜을 쓰면 해결 가능할 것 같다.\n",
    "#도시 개수 n 입력받기\n",
    "n=int(input())\n",
    "INF=987654321\n",
    "graph=[[INF]*(n+1) for _ in range(n+1)] #각각의 거리가 INF인 2차원 행렬 생성\n",
    "for i in range(1,n+1):\n",
    "    graph[i][i]=0 #자기 자신까지 거리는 0으로 초기화\n",
    "#버스 개수 m 입력 받기\n",
    "m=int(input())\n",
    "for i in range(m):\n",
    "    a,b,c=map(int,input().split())\n",
    "    graph[a][b]=min(graph[a][b],c) #만약 버스 노선이 겹치면 더 작은 값으로 해주기 위함\n",
    "\n",
    "#플로이드 워셜 사용\n",
    "for k in range(1,n+1):\n",
    "    for i in range(1,n+1):\n",
    "        for j in range(1,n+1):\n",
    "            graph[i][j]=min(graph[i][j],graph[i][k]+graph[k][j])\n",
    "            \n",
    "#거리 출력\n",
    "for i in range(1,n+1):\n",
    "    for j in range(1,n+1):\n",
    "        if graph[i][j]==INF:\n",
    "            print(0)\n",
    "        else:\n",
    "            print(graph[i][j],end=' ')\n",
    "            \n",
    "    print('')"
   ]
  },
  {
   "cell_type": "code",
   "execution_count": null,
   "id": "851fbc06",
   "metadata": {},
   "outputs": [],
   "source": []
  }
 ],
 "metadata": {
  "hide_input": false,
  "jupytext": {
   "formats": "ipynb,auto:light"
  },
  "kernelspec": {
   "display_name": "Python 3 (ipykernel)",
   "language": "python",
   "name": "python3"
  },
  "language_info": {
   "codemirror_mode": {
    "name": "ipython",
    "version": 3
   },
   "file_extension": ".py",
   "mimetype": "text/x-python",
   "name": "python",
   "nbconvert_exporter": "python",
   "pygments_lexer": "ipython3",
   "version": "3.9.12"
  },
  "toc": {
   "base_numbering": 1,
   "nav_menu": {},
   "number_sections": true,
   "sideBar": true,
   "skip_h1_title": false,
   "title_cell": "Table of Contents",
   "title_sidebar": "Contents",
   "toc_cell": false,
   "toc_position": {},
   "toc_section_display": true,
   "toc_window_display": false
  }
 },
 "nbformat": 4,
 "nbformat_minor": 5
}
