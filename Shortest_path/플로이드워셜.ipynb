{
 "cells": [
  {
   "cell_type": "code",
   "execution_count": 5,
   "id": "3ed1b354",
   "metadata": {},
   "outputs": [
    {
     "name": "stdout",
     "output_type": "stream",
     "text": [
      "4\n",
      "7\n",
      "1 2 4\n",
      "1 4 6\n",
      "2 1 3\n",
      "2 3 7\n",
      "3 1 5\n",
      "3 4 4\n",
      "4 3 2\n",
      "0 4 8 6 \n",
      "3 0 7 9 \n",
      "5 9 0 4 \n",
      "7 11 2 0 \n"
     ]
    }
   ],
   "source": [
    "#플로이드 워셜 알고리즘\n",
    "#아이디어: D(a,b)=min(D(a,k),D(k,b)) 가능한 모든 a,b,k 에 대해서 => O(N^3)의 시간복잡도\n",
    "\n",
    "INF=987654321\n",
    "\n",
    "#노드의 개수와 간선의 개수 입력받기\n",
    "n=int(input())\n",
    "m=int(input())\n",
    "\n",
    "#2차원 리스트에 각각의 노드별 거리 저장\n",
    "graph=[[INF]*(n+1) for _ in range(n+1)] #무한으로 초기화\n",
    "\n",
    "#자기 자신에게 가는 간선은 0으로 초기화\n",
    "for i in range(1,n+1):\n",
    "    graph[i][i]=0\n",
    "\n",
    "#간선 정보 입력받기\n",
    "for _ in range(m):\n",
    "    a,b,c=map(int,input().split())\n",
    "    graph[a][b]=c\n",
    "    \n",
    "#플로이드 워셜 알고리즘\n",
    "\n",
    "for k in range(1,n+1):\n",
    "    for i in range(1,n+1):\n",
    "        for j in range(1,n+1):\n",
    "            graph[i][j]=min(graph[i][j],graph[i][k]+graph[k][j])\n",
    "\n",
    "for a in range(1,n+1):\n",
    "    for i in range(1,n+1):\n",
    "        #결과가 INF일 경우 INFINITY 출력하기\n",
    "        if graph[a][i]==INF:\n",
    "            print('INFINITY')\n",
    "        else:\n",
    "            print(graph[a][i],end=' ')\n",
    "    print('')#뛰어쓰기 용"
   ]
  },
  {
   "cell_type": "code",
   "execution_count": null,
   "id": "734e501d",
   "metadata": {},
   "outputs": [],
   "source": []
  }
 ],
 "metadata": {
  "hide_input": false,
  "jupytext": {
   "formats": "ipynb,auto:light"
  },
  "kernelspec": {
   "display_name": "Python 3 (ipykernel)",
   "language": "python",
   "name": "python3"
  },
  "language_info": {
   "codemirror_mode": {
    "name": "ipython",
    "version": 3
   },
   "file_extension": ".py",
   "mimetype": "text/x-python",
   "name": "python",
   "nbconvert_exporter": "python",
   "pygments_lexer": "ipython3",
   "version": "3.9.12"
  },
  "toc": {
   "base_numbering": 1,
   "nav_menu": {},
   "number_sections": true,
   "sideBar": true,
   "skip_h1_title": false,
   "title_cell": "Table of Contents",
   "title_sidebar": "Contents",
   "toc_cell": false,
   "toc_position": {},
   "toc_section_display": true,
   "toc_window_display": false
  }
 },
 "nbformat": 4,
 "nbformat_minor": 5
}
