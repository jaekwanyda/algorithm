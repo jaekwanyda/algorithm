{
 "cells": [
  {
   "cell_type": "code",
   "execution_count": 3,
   "id": "543769a3",
   "metadata": {},
   "outputs": [
    {
     "name": "stdout",
     "output_type": "stream",
     "text": [
      "3 2 1\n",
      "1 2 4\n",
      "1 3 2\n",
      "2 4\n"
     ]
    }
   ],
   "source": [
    "#이코테 최단 경로 연습 3\n",
    "#아이디어: C에서 연결된 곳들과 그 중 가장 먼곳 출력하기. 개수가 많고, C에서 연결된 것만 보면 되니까 다익스트라 사용\n",
    "\n",
    "#도시의 갯수 N 통로의 개수 M 메세지를 보내고 싶은 도시 C 입력\n",
    "n,m,start=map(int,input().split())\n",
    "\n",
    "INF=987654321\n",
    "distance=[INF]*(n+1)\n",
    "\n",
    "#입력받는 간선 정보 저장할 리스트 생성\n",
    "graph=[[] for i in range(n+1)] \n",
    "for i in range(m):\n",
    "    a,b,c=map(int,input().split())\n",
    "    graph[a].append((b,c))\n",
    "    \n",
    "import heapq\n",
    "\n",
    "#다익스트라 알고리즘 구현 까먹음 다시 공부하기\n",
    "\n",
    "def dijkstra(start):\n",
    "    q=[]\n",
    "    heapq.heappush(q,(0,start)) #시작지점은 거리 0\n",
    "    distance[start]=0\n",
    "    while q: #q가 빌때까지\n",
    "        dist,now=heapq.heappop(q) #heapq 문법 잘보기\n",
    "        if distance[now]<dist:#이미 처리됐다면 넘어가기\n",
    "            continue\n",
    "        for i in graph[now]:\n",
    "            cost=dist+i[1] #자신을 거쳐 지나갔을 때 비용\n",
    "            if cost<distance[i[0]]: #만약 자기를 지나갔을 때가 더 빠르면 업데이트\n",
    "                distance[i[0]]=cost\n",
    "                heapq.heappush(q,(cost,i[0])) #업데이트 했을 경우 큐로 최단거리 정보 넘겨주기\n",
    "\n",
    "dijkstra(start)\n",
    "\n",
    "sum=0\n",
    "max_dis=0\n",
    "for d in distance:\n",
    "    if d!=INF:\n",
    "        sum+=1\n",
    "        max_dis=max(max_dis,d)\n",
    "\n",
    "print(sum-1,max_dis)"
   ]
  },
  {
   "cell_type": "code",
   "execution_count": null,
   "id": "5ee338d9",
   "metadata": {},
   "outputs": [],
   "source": []
  },
  {
   "cell_type": "code",
   "execution_count": null,
   "id": "66a2b678",
   "metadata": {},
   "outputs": [],
   "source": []
  }
 ],
 "metadata": {
  "hide_input": false,
  "jupytext": {
   "formats": "ipynb,auto:light"
  },
  "kernelspec": {
   "display_name": "Python 3 (ipykernel)",
   "language": "python",
   "name": "python3"
  },
  "language_info": {
   "codemirror_mode": {
    "name": "ipython",
    "version": 3
   },
   "file_extension": ".py",
   "mimetype": "text/x-python",
   "name": "python",
   "nbconvert_exporter": "python",
   "pygments_lexer": "ipython3",
   "version": "3.9.12"
  },
  "toc": {
   "base_numbering": 1,
   "nav_menu": {},
   "number_sections": true,
   "sideBar": true,
   "skip_h1_title": false,
   "title_cell": "Table of Contents",
   "title_sidebar": "Contents",
   "toc_cell": false,
   "toc_position": {},
   "toc_section_display": true,
   "toc_window_display": false
  }
 },
 "nbformat": 4,
 "nbformat_minor": 5
}
