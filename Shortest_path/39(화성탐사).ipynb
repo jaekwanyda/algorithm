{
 "cells": [
  {
   "cell_type": "code",
   "execution_count": 3,
   "id": "56b4482e",
   "metadata": {},
   "outputs": [
    {
     "name": "stdout",
     "output_type": "stream",
     "text": [
      "1\n",
      "3\n",
      "5 5 4\n",
      "3 9 1\n",
      "3 2 7\n",
      "20\n"
     ]
    }
   ],
   "source": [
    "#이코테 실전 39\n",
    "#아이디어: 탐사기계는 아래로 내려가거나, 오른쪽으로 가거나 두 행동 중에 하나만 할 수 있다.(틀림! 상하좌우로 가능)=>조건 조심해야한다.\n",
    "#다이나믹을이용해 가능한 모든 경우 중 가장 작은 경우를 출력해보자\n",
    "#테스트 수 T입력받기\n",
    "t=int(input())\n",
    "for i in range(t):\n",
    "    #n 입력받기\n",
    "    n=int(input())\n",
    "    #에너지양 입력받기\n",
    "    data=[list(map(int,input().split())) for _ in range(n)]\n",
    "    INF=987654321\n",
    "    dp=[[INF]*n for _ in range(n)] #dp테이블 초기화\n",
    "    dp[0][0]=data[0][0]\n",
    "    \n",
    "    for i in range(n):\n",
    "        for j in range(n):\n",
    "            if i==0 and j!=0: #열이 첫번째 일땐 왼쪽에서 오는 경우밖에 없음\n",
    "                dp[i][j]=data[i][j]+dp[i][j-1]\n",
    "            elif j==0 and i!=0:#행이 첫번째 일땐 위에서 오는 경우밖에 없음\n",
    "                dp[i][j]=data[i][j]+dp[i-1][j]\n",
    "            elif j>0 and i>0:#이외의 경우에는 위, 왼쪽에서 오는 경우 중 작은 것을 채택한다.\n",
    "                dp[i][j]=data[i][j]+min(dp[i-1][j],dp[i][j-1]) \n",
    "    print(dp[n-1][n-1])"
   ]
  },
  {
   "cell_type": "code",
   "execution_count": null,
   "id": "f6543904",
   "metadata": {},
   "outputs": [],
   "source": [
    "#위는 틀린 풀이로 두번째 풀이 작성."
   ]
  }
 ],
 "metadata": {
  "hide_input": false,
  "kernelspec": {
   "display_name": "Python 3 (ipykernel)",
   "language": "python",
   "name": "python3"
  },
  "language_info": {
   "codemirror_mode": {
    "name": "ipython",
    "version": 3
   },
   "file_extension": ".py",
   "mimetype": "text/x-python",
   "name": "python",
   "nbconvert_exporter": "python",
   "pygments_lexer": "ipython3",
   "version": "3.9.12"
  },
  "toc": {
   "base_numbering": 1,
   "nav_menu": {},
   "number_sections": true,
   "sideBar": true,
   "skip_h1_title": false,
   "title_cell": "Table of Contents",
   "title_sidebar": "Contents",
   "toc_cell": false,
   "toc_position": {},
   "toc_section_display": true,
   "toc_window_display": false
  }
 },
 "nbformat": 4,
 "nbformat_minor": 5
}
