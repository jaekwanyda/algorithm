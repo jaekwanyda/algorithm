{
 "cells": [
  {
   "cell_type": "code",
   "execution_count": 10,
   "id": "a3c88724",
   "metadata": {},
   "outputs": [
    {
     "name": "stdout",
     "output_type": "stream",
     "text": [
      "26\n",
      "3\n"
     ]
    }
   ],
   "source": [
    "#아코테 다이나믹 연습 2\n",
    "#정수 X 입력받기\n",
    "x=int(input())\n",
    "d=[0]*30001 #최솟값들 저장\n",
    "d[1]=0 #0으로 초기화 해주지 않으면 아래 for구문에서 1이 되어버린다. \n",
    "for i in range(2,30001): #최대 정수는 30000이다.\n",
    "    a=[] #가능한 경우 중에서 가장 작은 수를 찾을 것이다. 공간메모리가 부족하면 아래 구문에서 각각 min을 취해줄 수도 있다.\n",
    "    a.append(d[i-1]+1)\n",
    "    if i%2==0:\n",
    "        a.append(d[i//2]+1)\n",
    "    if i%3==0:\n",
    "        a.append(d[i//3]+1)\n",
    "    if i%5==0:\n",
    "        a.append(d[i//5]+1)\n",
    "    d[i]=min(a)\n",
    "\n",
    "print(d[x])"
   ]
  },
  {
   "cell_type": "code",
   "execution_count": null,
   "id": "45697523",
   "metadata": {},
   "outputs": [],
   "source": []
  }
 ],
 "metadata": {
  "hide_input": false,
  "jupytext": {
   "formats": "ipynb,auto:light"
  },
  "kernelspec": {
   "display_name": "Python 3 (ipykernel)",
   "language": "python",
   "name": "python3"
  },
  "language_info": {
   "codemirror_mode": {
    "name": "ipython",
    "version": 3
   },
   "file_extension": ".py",
   "mimetype": "text/x-python",
   "name": "python",
   "nbconvert_exporter": "python",
   "pygments_lexer": "ipython3",
   "version": "3.9.12"
  },
  "toc": {
   "base_numbering": 1,
   "nav_menu": {},
   "number_sections": true,
   "sideBar": true,
   "skip_h1_title": false,
   "title_cell": "Table of Contents",
   "title_sidebar": "Contents",
   "toc_cell": false,
   "toc_position": {},
   "toc_section_display": true,
   "toc_window_display": false
  }
 },
 "nbformat": 4,
 "nbformat_minor": 5
}
