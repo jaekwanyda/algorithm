{
 "cells": [
  {
   "cell_type": "code",
   "execution_count": 2,
   "id": "71b076ea",
   "metadata": {},
   "outputs": [
    {
     "name": "stdout",
     "output_type": "stream",
     "text": [
      "4\n",
      "1 3 1 5\n",
      "8\n"
     ]
    }
   ],
   "source": [
    "#아코테 다이나믹 연습 3\n",
    "#식량창고 갯수 N 입력받기\n",
    "n=int(input())\n",
    "#식량창고 array 입력받기\n",
    "array=list(map(int,input().split()))\n",
    "\n",
    "#상향식 풀이를 위해 dp 테이블 형성\n",
    "dp=[0]*101 #최대 식량창고 갯수는 100\n",
    "dp[1]=array[1] #창고가 1개일 때는 확정\n",
    "for i in range(2,n+1):\n",
    "    #이 문제는 2가지 경우로 나눌 수 있다.\n",
    "    # 1. i번째 창고를 포함할 때 =>dp[i-2]+array[i] 2) 안할 때 => dp[i]\n",
    "    dp[i]=max(dp[i-1],dp[i-2]+array[i-1]) #array의 index와 dp의 index는 1씩 차이난다. \n",
    "    \n",
    "print(dp[len(array)])"
   ]
  },
  {
   "cell_type": "code",
   "execution_count": null,
   "id": "8d42d460",
   "metadata": {},
   "outputs": [],
   "source": []
  }
 ],
 "metadata": {
  "hide_input": false,
  "jupytext": {
   "formats": "ipynb,auto:light"
  },
  "kernelspec": {
   "display_name": "Python 3 (ipykernel)",
   "language": "python",
   "name": "python3"
  },
  "language_info": {
   "codemirror_mode": {
    "name": "ipython",
    "version": 3
   },
   "file_extension": ".py",
   "mimetype": "text/x-python",
   "name": "python",
   "nbconvert_exporter": "python",
   "pygments_lexer": "ipython3",
   "version": "3.9.12"
  },
  "toc": {
   "base_numbering": 1,
   "nav_menu": {},
   "number_sections": true,
   "sideBar": true,
   "skip_h1_title": false,
   "title_cell": "Table of Contents",
   "title_sidebar": "Contents",
   "toc_cell": false,
   "toc_position": {},
   "toc_section_display": true,
   "toc_window_display": false
  }
 },
 "nbformat": 4,
 "nbformat_minor": 5
}
