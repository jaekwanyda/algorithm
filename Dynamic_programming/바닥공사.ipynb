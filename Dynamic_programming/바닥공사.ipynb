{
 "cells": [
  {
   "cell_type": "code",
   "execution_count": 4,
   "id": "75d20175",
   "metadata": {},
   "outputs": [
    {
     "name": "stdout",
     "output_type": "stream",
     "text": [
      "80\n",
      "210563\n"
     ]
    }
   ],
   "source": [
    "#아코테 다이나믹 연습 4\n",
    "#N입력받기\n",
    "n=int(input())\n",
    "#이문제도 2가지 경우로 나눌 수 있다.\n",
    "#1) 맨 마지막을 2X1 타일로 채우기 => dp[i-1] 2) 맨 마지막을 2X2 or 1X2 2개로 채우기(경우의 수 2) => 2*dp[i-2]\n",
    "dp=[0]*(n+1)\n",
    "dp[1]=1\n",
    "dp[2]=3\n",
    "\n",
    "for i in range(3,n+1):\n",
    "    dp[i]=(dp[i-1]+2*dp[i-2])%796796\n",
    "    \n",
    "print(dp[n])"
   ]
  },
  {
   "cell_type": "code",
   "execution_count": null,
   "id": "ef88322f",
   "metadata": {},
   "outputs": [],
   "source": []
  }
 ],
 "metadata": {
  "hide_input": false,
  "jupytext": {
   "formats": "ipynb,auto:light"
  },
  "kernelspec": {
   "display_name": "Python 3 (ipykernel)",
   "language": "python",
   "name": "python3"
  },
  "language_info": {
   "codemirror_mode": {
    "name": "ipython",
    "version": 3
   },
   "file_extension": ".py",
   "mimetype": "text/x-python",
   "name": "python",
   "nbconvert_exporter": "python",
   "pygments_lexer": "ipython3",
   "version": "3.9.12"
  },
  "toc": {
   "base_numbering": 1,
   "nav_menu": {},
   "number_sections": true,
   "sideBar": true,
   "skip_h1_title": false,
   "title_cell": "Table of Contents",
   "title_sidebar": "Contents",
   "toc_cell": false,
   "toc_position": {},
   "toc_section_display": true,
   "toc_window_display": false
  }
 },
 "nbformat": 4,
 "nbformat_minor": 5
}
