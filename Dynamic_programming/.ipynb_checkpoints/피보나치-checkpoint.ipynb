{
 "cells": [
  {
   "cell_type": "code",
   "execution_count": 5,
   "id": "209f3fff",
   "metadata": {},
   "outputs": [
    {
     "name": "stdout",
     "output_type": "stream",
     "text": [
      "2\n"
     ]
    }
   ],
   "source": [
    "#아코테 연습\n",
    "#재귀함수를 이용한 하향식 방법(탑다운)\n",
    "d=[0]*100\n",
    "\n",
    "def pibo(x):\n",
    "    if x==1 or x==2:\n",
    "        d[x]=1\n",
    "    if d[x]!=0:\n",
    "        return d[x]\n",
    "    else:\n",
    "        d[x]=pibo(x-1)+pibo(x-2)\n",
    "        return d[x]\n",
    "    \n",
    "print(pibo(3))\n",
    "        "
   ]
  },
  {
   "cell_type": "code",
   "execution_count": 6,
   "id": "826ebdf6",
   "metadata": {},
   "outputs": [
    {
     "name": "stdout",
     "output_type": "stream",
     "text": [
      "218922995834555169026\n"
     ]
    }
   ],
   "source": [
    "#반복문을 이용한 상향식 방법(바텀업)\n",
    "d=[0]*100\n",
    "d[1]=1\n",
    "d[2]=1\n",
    "for i in range(3,len(d)): #1,2를 설정해 두어서 3부터 시작\n",
    "    d[i]=d[i-1]+d[i-2]\n",
    "    \n",
    "print(d[99])"
   ]
  },
  {
   "cell_type": "code",
   "execution_count": null,
   "id": "dd886203",
   "metadata": {},
   "outputs": [],
   "source": []
  }
 ],
 "metadata": {
  "hide_input": false,
  "jupytext": {
   "formats": "ipynb,auto:light"
  },
  "kernelspec": {
   "display_name": "Python 3 (ipykernel)",
   "language": "python",
   "name": "python3"
  },
  "language_info": {
   "codemirror_mode": {
    "name": "ipython",
    "version": 3
   },
   "file_extension": ".py",
   "mimetype": "text/x-python",
   "name": "python",
   "nbconvert_exporter": "python",
   "pygments_lexer": "ipython3",
   "version": "3.9.12"
  },
  "toc": {
   "base_numbering": 1,
   "nav_menu": {},
   "number_sections": true,
   "sideBar": true,
   "skip_h1_title": false,
   "title_cell": "Table of Contents",
   "title_sidebar": "Contents",
   "toc_cell": false,
   "toc_position": {},
   "toc_section_display": true,
   "toc_window_display": false
  }
 },
 "nbformat": 4,
 "nbformat_minor": 5
}
