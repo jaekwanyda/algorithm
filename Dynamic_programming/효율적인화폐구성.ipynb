{
 "cells": [
  {
   "cell_type": "code",
   "execution_count": 18,
   "id": "e371ae74",
   "metadata": {
    "scrolled": true
   },
   "outputs": [
    {
     "name": "stdout",
     "output_type": "stream",
     "text": [
      "3 4\n",
      "3\n",
      "5\n",
      "7\n",
      "-1\n"
     ]
    }
   ],
   "source": [
    "#아코테 다이나믹 연습 5\n",
    "#N, M 입력받기\n",
    "n,m=map(int,input().split())\n",
    "array=[int(input()) for _ in range(n)] #column으로 각각의 값 입력받기\n",
    "#dp 테이블 생성(이번에는 아닌 경우에 -1로 초기화 해주어야 해서 나올 수 있는 가장 큰 수 10000보다 1큰 10001로 초기화)\n",
    "dp=[0]*(m+1)\n",
    "\n",
    "for i in range(1,m+1):\n",
    "    #가능한 경우를 추가할 리스트\n",
    "    a=[]\n",
    "    #리스트에 존재하는 각각의 값들을 이용\n",
    "    for j in array:\n",
    "        if i-j==0:#계산이 가능할 때\n",
    "            a.append(1)\n",
    "        if i-j>0 and dp[i-j]>0: #j원을 뺐을 때 가능한 계산이 있다면 추가\n",
    "            a.append(dp[i-j]+1)\n",
    "    if len(a)==0:\n",
    "        dp[i]=-1\n",
    "    else:\n",
    "        dp[i]=min(a)\n",
    "\n",
    "print(dp[m])"
   ]
  }
 ],
 "metadata": {
  "hide_input": false,
  "kernelspec": {
   "display_name": "Python 3 (ipykernel)",
   "language": "python",
   "name": "python3"
  },
  "language_info": {
   "codemirror_mode": {
    "name": "ipython",
    "version": 3
   },
   "file_extension": ".py",
   "mimetype": "text/x-python",
   "name": "python",
   "nbconvert_exporter": "python",
   "pygments_lexer": "ipython3",
   "version": "3.9.12"
  },
  "toc": {
   "base_numbering": 1,
   "nav_menu": {},
   "number_sections": true,
   "sideBar": true,
   "skip_h1_title": false,
   "title_cell": "Table of Contents",
   "title_sidebar": "Contents",
   "toc_cell": false,
   "toc_position": {},
   "toc_section_display": true,
   "toc_window_display": false
  }
 },
 "nbformat": 4,
 "nbformat_minor": 5
}
