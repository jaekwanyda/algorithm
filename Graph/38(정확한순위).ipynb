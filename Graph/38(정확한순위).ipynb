{
 "cells": [
  {
   "cell_type": "code",
   "execution_count": 8,
   "id": "ce20a5e2",
   "metadata": {},
   "outputs": [
    {
     "name": "stdout",
     "output_type": "stream",
     "text": [
      "6 6\n",
      "1 5\n",
      "3 4\n",
      "4 2\n",
      "4 6\n",
      "5 2\n",
      "5 4\n",
      "1\n"
     ]
    }
   ],
   "source": [
    "#이코테 실전 38\n",
    "#아이디어: 각각에 대해서 플로이드를 쓴 후 전부 연결되어 있다면 순위를 알 수 있다.\n",
    "n,m=map(int,input().split())\n",
    "INF=987654321\n",
    "graph=[[INF]*(n+1) for _ in range(n+1)] #각각의 거리가 INF인 2차원 행렬 생성\n",
    "for i in range(1,n+1):\n",
    "    graph[i][i]=0 #자기 자신까지 거리는 0으로 초기화\n",
    "#성적 정보 입력받기\n",
    "for i in range(m):\n",
    "    a,b=map(int,input().split()) #a학생이 b학생보다 성적이 낮다=> a->b로 연결된 방향 그래프로 적용\n",
    "    graph[a][b]=1 \n",
    "    \n",
    "#플로이드 워셜 사용\n",
    "for k in range(1,n+1):\n",
    "    for i in range(1,n+1):\n",
    "        for j in range(1,n+1):\n",
    "            graph[i][j]=min(graph[i][j],graph[i][k]+graph[k][j])\n",
    "\n",
    "#순위를 알 수 있는 학생 수 출력하기\n",
    "students=0\n",
    "for i in range(1,n+1):\n",
    "    c=0 #연결된 수\n",
    "    for j in range(1,n+1):\n",
    "        if graph[i][j]!=INF or graph[j][i]!=INF:\n",
    "            c+=1\n",
    "    if c==n:\n",
    "        students+=1\n",
    "print(students)"
   ]
  },
  {
   "cell_type": "code",
   "execution_count": null,
   "id": "19d94f26",
   "metadata": {},
   "outputs": [],
   "source": []
  }
 ],
 "metadata": {
  "hide_input": false,
  "jupytext": {
   "formats": "ipynb,auto:light"
  },
  "kernelspec": {
   "display_name": "Python 3 (ipykernel)",
   "language": "python",
   "name": "python3"
  },
  "language_info": {
   "codemirror_mode": {
    "name": "ipython",
    "version": 3
   },
   "file_extension": ".py",
   "mimetype": "text/x-python",
   "name": "python",
   "nbconvert_exporter": "python",
   "pygments_lexer": "ipython3",
   "version": "3.9.12"
  },
  "toc": {
   "base_numbering": 1,
   "nav_menu": {},
   "number_sections": true,
   "sideBar": true,
   "skip_h1_title": false,
   "title_cell": "Table of Contents",
   "title_sidebar": "Contents",
   "toc_cell": false,
   "toc_position": {},
   "toc_section_display": true,
   "toc_window_display": false
  }
 },
 "nbformat": 4,
 "nbformat_minor": 5
}
