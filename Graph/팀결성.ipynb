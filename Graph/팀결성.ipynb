{
 "cells": [
  {
   "cell_type": "code",
   "execution_count": 1,
   "id": "4c8f6566",
   "metadata": {},
   "outputs": [
    {
     "name": "stdout",
     "output_type": "stream",
     "text": [
      "7 8\n",
      "0 1 3\n",
      "1 1 7\n",
      "NO\n",
      "0 7 6\n",
      "1 7 1\n",
      "NO\n",
      "0 3 7\n",
      "0 4 2\n",
      "0 1 1\n",
      "1 1 1\n",
      "YES\n"
     ]
    }
   ],
   "source": [
    "#이코테 연습문제 2번\n",
    "#서로소 집합 이용\n",
    "def find_parent(parent,a):\n",
    "    if parent[a]!=a:\n",
    "        parent[a]=find_parent(parent,parent[a])\n",
    "    return parent[a]\n",
    "\n",
    "def union_parent(parent,a,b):\n",
    "    #더 작은 번호의 부모에 편입\n",
    "    a=find_parent(parent,a)\n",
    "    b=find_parent(parent,b)\n",
    "    if a<b:\n",
    "        parent[b]=a #루트 노드 바꾸기(의문: 이렇게 바꾸면 자식 노드들은 아직 업데이트가 안됨. 뒤에서 find함수를 다 돌려줘야 할듯)\n",
    "    else:\n",
    "        parent[a]=b\n",
    "        \n",
    "#n,m 입력받기\n",
    "n,m=map(int,input().split())\n",
    "#부모 리스트 생성\n",
    "parent=[0]*(n+1) #총 n+1개이다. 0번도 이용\n",
    "\n",
    "for i in range(n+1):\n",
    "    parent[i]=i #자기 자신으로 초기화\n",
    "\n",
    "\n",
    "#연산 입력받기\n",
    "for i in range(m):\n",
    "    a,b,c=map(int,input().split()) # a는 연산 종류, b,c는 학생 번호\n",
    "    if a==0:\n",
    "        union_parent(parent,b,c)\n",
    "    else:\n",
    "        b=find_parent(parent,b)\n",
    "        c=find_parent(parent,c)\n",
    "        if b==c:\n",
    "            print(\"YES\")\n",
    "        else:\n",
    "            print(\"NO\")   "
   ]
  },
  {
   "cell_type": "code",
   "execution_count": null,
   "id": "99c499ed",
   "metadata": {},
   "outputs": [],
   "source": []
  }
 ],
 "metadata": {
  "hide_input": false,
  "kernelspec": {
   "display_name": "Python 3 (ipykernel)",
   "language": "python",
   "name": "python3"
  },
  "language_info": {
   "codemirror_mode": {
    "name": "ipython",
    "version": 3
   },
   "file_extension": ".py",
   "mimetype": "text/x-python",
   "name": "python",
   "nbconvert_exporter": "python",
   "pygments_lexer": "ipython3",
   "version": "3.9.12"
  },
  "toc": {
   "base_numbering": 1,
   "nav_menu": {},
   "number_sections": true,
   "sideBar": true,
   "skip_h1_title": false,
   "title_cell": "Table of Contents",
   "title_sidebar": "Contents",
   "toc_cell": false,
   "toc_position": {},
   "toc_section_display": true,
   "toc_window_display": false
  }
 },
 "nbformat": 4,
 "nbformat_minor": 5
}
