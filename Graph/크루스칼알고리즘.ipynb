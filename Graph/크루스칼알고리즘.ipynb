{
 "cells": [
  {
   "cell_type": "code",
   "execution_count": 1,
   "id": "30257983",
   "metadata": {},
   "outputs": [
    {
     "name": "stdout",
     "output_type": "stream",
     "text": [
      "7 9\n",
      "1 2 29\n",
      "1 5 75\n",
      "2 3 35\n",
      "2 6 34\n",
      "3 4 7\n",
      "4 6 23\n",
      "4 7 13\n",
      "5 6 53\n",
      "6 7 25\n",
      "159\n"
     ]
    }
   ],
   "source": [
    "#크루스칼 알고리즘: 간선 비용대로 오름차순후 가장 낮은 비용의 간선부터 차례대로 추가. 만약 이어져 있다면 추가 X\n",
    "#이어짐 여부를 union과 find를 통해서 알 수 있다.\n",
    "#특정 원소가 속한 집합 찾기(경로 압축)\n",
    "def find_parent(parent,x):\n",
    "    if parent[x]!=x:\n",
    "        parent[x]=find_parent(parent,parent[x])\n",
    "    return parent[x]\n",
    "#두 원소가 속한 집합을 합치기\n",
    "def union_parent(parent,a,b):\n",
    "    a=find_parent(parent,a)\n",
    "    b=find_parent(parent,b)\n",
    "    if a<b:\n",
    "        parent[b]=a\n",
    "    else:\n",
    "        parent[a]=b\n",
    "        \n",
    "v,e=map(int,input().split())\n",
    "parent=[0]*(v+1)\n",
    "\n",
    "for i in range(1,v+1):\n",
    "    parent[i]=i # 부모를 자기 자신으로 초기화\n",
    "import heapq\n",
    "q=[]\n",
    "for _ in range(e):\n",
    "    a,b,cost=map(int,input().split())\n",
    "    heapq.heappush(q,(cost,a,b)) #오름차순을 cost 기준으로 하기 위해 제일 앞에 둠\n",
    "#총 거리 계산\n",
    "result=0\n",
    "while q: #q가 다 빌때까지\n",
    "    cost,a,b=heapq.heappop(q)\n",
    "    #사이클이 발생하지 않을 때만 집합에 포함\n",
    "    if find_parent(parent,a)!=find_parent(parent,b):\n",
    "        union_parent(parent,a,b)\n",
    "        result+=cost\n",
    "        \n",
    "print(result)"
   ]
  },
  {
   "cell_type": "code",
   "execution_count": null,
   "id": "4f764e0f",
   "metadata": {},
   "outputs": [],
   "source": []
  }
 ],
 "metadata": {
  "hide_input": false,
  "jupytext": {
   "formats": "ipynb,auto:light"
  },
  "kernelspec": {
   "display_name": "Python 3 (ipykernel)",
   "language": "python",
   "name": "python3"
  },
  "language_info": {
   "codemirror_mode": {
    "name": "ipython",
    "version": 3
   },
   "file_extension": ".py",
   "mimetype": "text/x-python",
   "name": "python",
   "nbconvert_exporter": "python",
   "pygments_lexer": "ipython3",
   "version": "3.9.12"
  },
  "toc": {
   "base_numbering": 1,
   "nav_menu": {},
   "number_sections": true,
   "sideBar": true,
   "skip_h1_title": false,
   "title_cell": "Table of Contents",
   "title_sidebar": "Contents",
   "toc_cell": false,
   "toc_position": {},
   "toc_section_display": true,
   "toc_window_display": false
  }
 },
 "nbformat": 4,
 "nbformat_minor": 5
}
