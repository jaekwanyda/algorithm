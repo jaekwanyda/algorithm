{
 "cells": [
  {
   "cell_type": "code",
   "execution_count": 1,
   "id": "6125b385",
   "metadata": {},
   "outputs": [
    {
     "name": "stdout",
     "output_type": "stream",
     "text": [
      "7 11\n",
      "0 1 7\n",
      "0 3 5\n",
      "1 2 8\n",
      "1 3 9\n",
      "1 4 7\n",
      "2 4 5\n",
      "3 4 15\n",
      "3 5 6\n",
      "4 5 8\n",
      "4 6 9\n",
      "5 6 11\n",
      "51\n"
     ]
    }
   ],
   "source": [
    "#이코테 실전 43\n",
    "#아이디어: 딱봐도 크루스칼 알고리즘을 이용한 최소 신장 찾기 알고리즘이다.\n",
    "#집의 수 N과 도로의 수 M입력받기\n",
    "n,m=map(int,input().split())\n",
    "#도로 정보 입력받기\n",
    "data=[]\n",
    "for i in range(m):\n",
    "    x,y,distance=map(int,input().split())\n",
    "    data.append((distance,x,y)) #distance 순으로 정렬해주기 위함\n",
    "data.sort()\n",
    "#크루스칼 알고리즘을 위한 서로소 집합 정의\n",
    "def find_parent(parent,a):\n",
    "    if parent[a]!=a:\n",
    "        parent[a]=find_parent(parent,parent[a])\n",
    "    return parent[a]\n",
    "def union_parent(parent,a,b):\n",
    "    a=find_parent(parent,a)\n",
    "    b=find_parent(parent,b)\n",
    "    if a<b:\n",
    "        parent[b]=a\n",
    "    else:\n",
    "        parent[a]=b\n",
    "\n",
    "parent=[0]*n\n",
    "for i in range(n):\n",
    "    parent[i]=i #부모 노드는 자기 자신으로 초기화\n",
    "    \n",
    "min_cost=0 #가능한 최소 금액\n",
    "total_cost=0 # 가로등 설치에 총 드는 금액\n",
    "\n",
    "for i in data:\n",
    "    dis,x,y=i[0],i[1],i[2] #거리와 위치 정보 입력\n",
    "    total_cost+=dis\n",
    "    if find_parent(parent,x)!=find_parent(parent,y):\n",
    "        union_parent(parent,x,y)\n",
    "        min_cost+=dis\n",
    "\n",
    "\n",
    "print(total_cost-min_cost)    "
   ]
  },
  {
   "cell_type": "code",
   "execution_count": null,
   "id": "7fec21fd",
   "metadata": {},
   "outputs": [],
   "source": []
  }
 ],
 "metadata": {
  "hide_input": false,
  "jupytext": {
   "formats": "ipynb,auto:light"
  },
  "kernelspec": {
   "display_name": "Python 3 (ipykernel)",
   "language": "python",
   "name": "python3"
  },
  "language_info": {
   "codemirror_mode": {
    "name": "ipython",
    "version": 3
   },
   "file_extension": ".py",
   "mimetype": "text/x-python",
   "name": "python",
   "nbconvert_exporter": "python",
   "pygments_lexer": "ipython3",
   "version": "3.9.12"
  },
  "toc": {
   "base_numbering": 1,
   "nav_menu": {},
   "number_sections": true,
   "sideBar": true,
   "skip_h1_title": false,
   "title_cell": "Table of Contents",
   "title_sidebar": "Contents",
   "toc_cell": false,
   "toc_position": {},
   "toc_section_display": true,
   "toc_window_display": false
  }
 },
 "nbformat": 4,
 "nbformat_minor": 5
}
