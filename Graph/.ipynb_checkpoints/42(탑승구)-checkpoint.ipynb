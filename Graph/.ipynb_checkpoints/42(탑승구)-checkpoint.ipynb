{
 "cells": [
  {
   "cell_type": "code",
   "execution_count": 2,
   "id": "92d4675e",
   "metadata": {},
   "outputs": [
    {
     "name": "stdout",
     "output_type": "stream",
     "text": [
      "4\n",
      "34\n",
      "4\n",
      "1\n",
      "1\n",
      "2\n"
     ]
    }
   ],
   "source": [
    "#이코테 실전 42\n",
    "#아이디어: 서로소 집합 구조 이용. 비행기가 들어왔을때 부모노드와 바로 왼쪽 노드를 union 만약 부모노드가 0이면 멈춤(몰라서 답지 봄!)\n",
    "\n",
    "def find_parent(parent,a):\n",
    "    if parent[a]!=a:\n",
    "        parent[a]=find_parent(parent,parent[a])\n",
    "    return parent[a]\n",
    "        \n",
    "def union_parent(parent,a,b):\n",
    "    a=find_parent(parent,a)\n",
    "    b=find_parent(parent,b)\n",
    "    \n",
    "    if a<b:\n",
    "        parent[b]=a\n",
    "    else:\n",
    "        parent[a]=b\n",
    "\n",
    "#탑승구수 g\n",
    "g=int(input())\n",
    "#비행기수 p\n",
    "p=int(input())\n",
    "\n",
    "parent=[0]*(g+1)\n",
    "for i in range(1,g+1):\n",
    "    parent[i]=i #부모노드는 자신으로 초기화\n",
    "#비행기 정보 입력\n",
    "result=0\n",
    "for i in range(p):\n",
    "    data=int(input())\n",
    "    a=find_parent(parent,data)\n",
    "    if a!=0:\n",
    "        union_parent(parent,a,a-1)\n",
    "        result+=1\n",
    "    else:\n",
    "        break\n",
    "\n",
    "print(result)"
   ]
  },
  {
   "cell_type": "code",
   "execution_count": null,
   "id": "034df7cb",
   "metadata": {},
   "outputs": [],
   "source": []
  }
 ],
 "metadata": {
  "hide_input": false,
  "jupytext": {
   "formats": "ipynb,auto:light"
  },
  "kernelspec": {
   "display_name": "Python 3 (ipykernel)",
   "language": "python",
   "name": "python3"
  },
  "language_info": {
   "codemirror_mode": {
    "name": "ipython",
    "version": 3
   },
   "file_extension": ".py",
   "mimetype": "text/x-python",
   "name": "python",
   "nbconvert_exporter": "python",
   "pygments_lexer": "ipython3",
   "version": "3.9.12"
  },
  "toc": {
   "base_numbering": 1,
   "nav_menu": {},
   "number_sections": true,
   "sideBar": true,
   "skip_h1_title": false,
   "title_cell": "Table of Contents",
   "title_sidebar": "Contents",
   "toc_cell": false,
   "toc_position": {},
   "toc_section_display": true,
   "toc_window_display": false
  }
 },
 "nbformat": 4,
 "nbformat_minor": 5
}
