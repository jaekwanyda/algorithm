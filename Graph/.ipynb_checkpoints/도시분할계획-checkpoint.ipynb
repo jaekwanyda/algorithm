{
 "cells": [
  {
   "cell_type": "code",
   "execution_count": 9,
   "id": "84b01703",
   "metadata": {},
   "outputs": [
    {
     "name": "stdout",
     "output_type": "stream",
     "text": [
      "7 12\n",
      "1 2 3\n",
      "1 3 2\n",
      "3 2 1\n",
      "2 5 2\n",
      "3 4 4\n",
      "7 3 6\n",
      "5 1 5\n",
      "1 6 2\n",
      "6 4 1\n",
      "6 5 3\n",
      "4 5 3\n",
      "6 7 4\n",
      "8\n"
     ]
    }
   ],
   "source": [
    "#이코테 그래프 예제 3\n",
    "#아이디어 : 크루스칼 알고리즘으로 최저 비용의 길을 찾고 제일 비용이 높은 것 하나만 없앤다.\n",
    "def find_parent(parent,a):\n",
    "    if parent[a]!=a:\n",
    "        parent[a]=find_parent(parent,parent[a])\n",
    "    return parent[a]\n",
    "\n",
    "def union_parent(parent,a,b):\n",
    "    #더 작은 번호의 부모에 편입\n",
    "    a=find_parent(parent,a)\n",
    "    b=find_parent(parent,b)\n",
    "    if a<b:\n",
    "        parent[b]=a #루트 노드 바꾸기(의문: 이렇게 바꾸면 자식 노드들은 아직 업데이트가 안됨. 뒤에서 find함수를 다 돌려줘야 할듯)\n",
    "    else:\n",
    "        parent[a]=b\n",
    "#N,M 입력받기\n",
    "n,m =map(int,input().split())\n",
    "\n",
    "import heapq\n",
    "q=[]\n",
    "#간선을 heapq에 저장해 오름차순으로 정렬되게 함.\n",
    "for _ in range(m):\n",
    "    a,b,cost=map(int,input().split())\n",
    "    heapq.heappush(q,(cost,a,b)) #cost를 기준으로 정렬하기 위함\n",
    "\n",
    "result=[] #비용을 리스트로 저장하여 마지막 빼고 다 더해줄 거임.\n",
    "parent=[0]*(n+1)\n",
    "#부모 리스트 자기 자신으로 초기화\n",
    "for i in range(n+1):\n",
    "    parent[i]=i\n",
    "\n",
    "while q:\n",
    "    cost,a,b=heapq.heappop(q)\n",
    "    #사이클 발생여부에 따라 추가\n",
    "    if find_parent(parent,a)!=find_parent(parent,b):\n",
    "        union_parent(parent,a,b)\n",
    "        result.append(cost)\n",
    "\n",
    "result=result[0:-1]\n",
    "print(sum(result))"
   ]
  },
  {
   "cell_type": "code",
   "execution_count": null,
   "id": "04e5d10c",
   "metadata": {},
   "outputs": [],
   "source": []
  }
 ],
 "metadata": {
  "hide_input": false,
  "jupytext": {
   "formats": "ipynb,auto:light"
  },
  "kernelspec": {
   "display_name": "Python 3 (ipykernel)",
   "language": "python",
   "name": "python3"
  },
  "language_info": {
   "codemirror_mode": {
    "name": "ipython",
    "version": 3
   },
   "file_extension": ".py",
   "mimetype": "text/x-python",
   "name": "python",
   "nbconvert_exporter": "python",
   "pygments_lexer": "ipython3",
   "version": "3.9.12"
  },
  "toc": {
   "base_numbering": 1,
   "nav_menu": {},
   "number_sections": true,
   "sideBar": true,
   "skip_h1_title": false,
   "title_cell": "Table of Contents",
   "title_sidebar": "Contents",
   "toc_cell": false,
   "toc_position": {},
   "toc_section_display": true,
   "toc_window_display": false
  }
 },
 "nbformat": 4,
 "nbformat_minor": 5
}
