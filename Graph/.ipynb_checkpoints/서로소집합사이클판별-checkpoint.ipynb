{
 "cells": [
  {
   "cell_type": "code",
   "execution_count": null,
   "id": "c7f30cb5",
   "metadata": {},
   "outputs": [],
   "source": [
    "#특정 원소가 속한 집합 찾기(경로 압축)\n",
    "def find_parent(parent,x):\n",
    "    if parent[x]!=x:\n",
    "        parent[x]=find_parent(parent,parent[x])\n",
    "    return parent[x]\n",
    "#두 원소가 속한 집합을 합치기\n",
    "def union_parent(parent,a,b):\n",
    "    a=find_parent(parent,a)\n",
    "    b=find_parent(parent,b)\n",
    "    if a<b:\n",
    "        parent[b]=a\n",
    "    else:\n",
    "        parent[a]=b\n",
    "#간단한 아이디어로 사이클 여부를 확인할 수 있다.\n",
    "#아이디어: 간선별로 연결된 노드의 parent를 확인해서 만약 같은 parent면 사이클 존재\n",
    "#노드의 개수와 간선의 개수 입력\n",
    "v,e=map(int,input().split())\n",
    "parent=[0]*(v+1)\n",
    "\n",
    "for i in range(1,v+1):\n",
    "    parent[i]=i # 부모를 자기 자신으로 초기화\n",
    "\n",
    "cycle=False\n",
    "\n",
    "for i in  range(e):\n",
    "    a,b=map(int,input().split())\n",
    "    \n",
    "    #사이클이 생긴경우 종료\n",
    "    if parent[a]==parent[b]:\n",
    "        cycle=True\n",
    "        break\n",
    "    else:\n",
    "        union_parent(parent,a,b)\n",
    "        \n",
    "if cycle:\n",
    "    print(\"사이클이 발생했습니다.\")\n",
    "else:\n",
    "    print(\"사이클이 발생하지 않았습니다\")"
   ]
  },
  {
   "cell_type": "code",
   "execution_count": null,
   "id": "0fe84693",
   "metadata": {},
   "outputs": [],
   "source": []
  }
 ],
 "metadata": {
  "hide_input": false,
  "jupytext": {
   "formats": "ipynb,auto:light"
  },
  "kernelspec": {
   "display_name": "Python 3 (ipykernel)",
   "language": "python",
   "name": "python3"
  },
  "language_info": {
   "codemirror_mode": {
    "name": "ipython",
    "version": 3
   },
   "file_extension": ".py",
   "mimetype": "text/x-python",
   "name": "python",
   "nbconvert_exporter": "python",
   "pygments_lexer": "ipython3",
   "version": "3.9.12"
  },
  "toc": {
   "base_numbering": 1,
   "nav_menu": {},
   "number_sections": true,
   "sideBar": true,
   "skip_h1_title": false,
   "title_cell": "Table of Contents",
   "title_sidebar": "Contents",
   "toc_cell": false,
   "toc_position": {},
   "toc_section_display": true,
   "toc_window_display": false
  }
 },
 "nbformat": 4,
 "nbformat_minor": 5
}
