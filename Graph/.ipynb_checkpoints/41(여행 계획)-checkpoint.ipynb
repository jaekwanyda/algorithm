{
 "cells": [
  {
   "cell_type": "code",
   "execution_count": 3,
   "id": "f384fbbe",
   "metadata": {},
   "outputs": [
    {
     "name": "stdout",
     "output_type": "stream",
     "text": [
      "5 4\n",
      "0 1 0 1 1\n",
      "1 0 1 1 0\n",
      "0 1 0 0 0\n",
      "1 1 0 0 0\n",
      "1 0 0 0 0\n",
      "2 3 4 3\n",
      "Yes\n"
     ]
    }
   ],
   "source": [
    "#이코테 실전 41\n",
    "#아이디어: 서로소 집합을 이용해 입력된 도시들이 한 집합안에 속하면 여행 가능.\n",
    "#여행지 수 n 과 여행 계획에 속한 도시의 수 m\n",
    "n,m=map(int,input().split())\n",
    "#여행지 연결 정보 입력받기\n",
    "data=[list(map(int,input().split())) for _ in range(n)]\n",
    "#find, union 정의하기\n",
    "\n",
    "def find_parent(parent,a):\n",
    "    if parent[a]!=a:\n",
    "        parent[a]=find_parent(parent,parent[a])\n",
    "    return parent[a]\n",
    "        \n",
    "def union_parent(parent,a,b):\n",
    "    x=find_parent(parent,a)\n",
    "    y=find_parent(parent,b)\n",
    "    \n",
    "    if x<y:\n",
    "        parent[b]=a\n",
    "    else:\n",
    "        parent[a]=b\n",
    "        \n",
    "parent=[0]*(n+1)\n",
    "for i in range(1,n+1):\n",
    "    parent[i]=i #부모 노드는 자기 자신으로 초기화\n",
    "#여행지 연결 정보를 통해 union 진행하기\n",
    "for i in range(n):\n",
    "    for j in range(n):\n",
    "        if data[i][j]==1: #연결되었을 때 union 진행\n",
    "            union_parent(parent,i+1,j+1) #입력을 index 0 부터 받아 1 차이남\n",
    "\n",
    "#여행 계획 리스트 받기\n",
    "travel=list(map(int,input().split()))\n",
    "\n",
    "#여행 계획 확인하기\n",
    "a=find_parent(parent,travel[0]) #첫번째 여행지의 부모노드와 모두가 같으면 여행이 가능하다.\n",
    "s=0 #맞는 수\n",
    "for i in travel:\n",
    "    b=find_parent(parent,i)\n",
    "    if a==b:\n",
    "        s+=1\n",
    "\n",
    "if s==len(travel):\n",
    "    print('Yes')\n",
    "else:\n",
    "    print('No')"
   ]
  },
  {
   "cell_type": "code",
   "execution_count": null,
   "id": "35bfbba8",
   "metadata": {},
   "outputs": [],
   "source": []
  }
 ],
 "metadata": {
  "hide_input": false,
  "jupytext": {
   "formats": "ipynb,auto:light"
  },
  "kernelspec": {
   "display_name": "Python 3 (ipykernel)",
   "language": "python",
   "name": "python3"
  },
  "language_info": {
   "codemirror_mode": {
    "name": "ipython",
    "version": 3
   },
   "file_extension": ".py",
   "mimetype": "text/x-python",
   "name": "python",
   "nbconvert_exporter": "python",
   "pygments_lexer": "ipython3",
   "version": "3.9.12"
  },
  "toc": {
   "base_numbering": 1,
   "nav_menu": {},
   "number_sections": true,
   "sideBar": true,
   "skip_h1_title": false,
   "title_cell": "Table of Contents",
   "title_sidebar": "Contents",
   "toc_cell": false,
   "toc_position": {},
   "toc_section_display": true,
   "toc_window_display": false
  }
 },
 "nbformat": 4,
 "nbformat_minor": 5
}
