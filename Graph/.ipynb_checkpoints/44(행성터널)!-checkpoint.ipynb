{
 "cells": [
  {
   "cell_type": "code",
   "execution_count": 5,
   "id": "3db8b783",
   "metadata": {},
   "outputs": [
    {
     "name": "stdout",
     "output_type": "stream",
     "text": [
      "5\n",
      "1 1 1\n",
      "1 1 1\n",
      "1 1 1\n",
      "1 1 1\n",
      "1 1 1\n",
      "0\n"
     ]
    }
   ],
   "source": [
    "#이코테 실전 44\n",
    "#아이디어: 각각의 행성별 길이를 재는 것은 수가 너무 크다.10^10 정도의 크기를 갖는다\n",
    "#각각의 행성별 길이를 구한다면, 크루스칼 알고리즘으로 바로 해결될 것 같다.\n",
    "#답지 참고!! x축으로 정렬했을 때의 N-1개의 간선, y,z 축에서의 N-1개의 간선 총 3(N-1) 개의 간선을 사용하면 구할 수 있다.\n",
    "#왜냐하면 그 간선들은 각각의 노드에 항상 최단 거리이기 때문이다.\n",
    "#크루스칼 알고리즘을 위한 서로소 집합 정의\n",
    "def find_parent(parent,a):\n",
    "    if parent[a]!=a:\n",
    "        parent[a]=find_parent(parent,parent[a])\n",
    "    return parent[a]\n",
    "def union_parent(parent,a,b):\n",
    "    a=find_parent(parent,a)\n",
    "    b=find_parent(parent,b)\n",
    "    if a<b:\n",
    "        parent[b]=a\n",
    "    else:\n",
    "        parent[a]=b\n",
    "\n",
    "#행성 개수 n입력 받기\n",
    "n=int(input())\n",
    "\n",
    "parent=[0]*(n+1)\n",
    "\n",
    "for i in range(n+1):\n",
    "    parent[i]=i #부모 노드는 자기 자신으로 초기화\n",
    "    \n",
    "#행성 정보 입력받기\n",
    "data_x=[]\n",
    "data_y=[]\n",
    "data_z=[]\n",
    "for i in range(n):\n",
    "    x,y,z=map(int,input().split())\n",
    "    data_x.append((x,i+1))#좌표와 행성 번호 \n",
    "    data_y.append((y,i+1))\n",
    "    data_z.append((z,i+1))\n",
    "data_x.sort()\n",
    "data_y.sort()\n",
    "data_z.sort()\n",
    "\n",
    "edges=[]\n",
    "for i in range(1,n):#간선 정보 입력하기\n",
    "    edges.append(((data_x[i][0]-data_x[i-1][0]),data_x[i][1],data_x[i-1][1])) #x축에서 행성 간 연결 비용, 연결된 행성들 번호 append\n",
    "    edges.append(((data_y[i][0]-data_y[i-1][0]),data_y[i][1],data_y[i-1][1])) #y\n",
    "    edges.append(((data_z[i][0]-data_z[i-1][0]),data_z[i][1],data_z[i-1][1])) #z\n",
    "    \n",
    "edges.sort()\n",
    "\n",
    "total_cost=0\n",
    "for edge in edges:\n",
    "    cost,x,y=edge\n",
    "    if find_parent(parent,x)!=find_parent(parent,y): #서로소 집합이라면 union\n",
    "        union_parent(parent,x,y)\n",
    "        total_cost+=cost\n",
    "        \n",
    "print(total_cost)"
   ]
  },
  {
   "cell_type": "code",
   "execution_count": null,
   "id": "7087fa39",
   "metadata": {},
   "outputs": [],
   "source": []
  }
 ],
 "metadata": {
  "hide_input": false,
  "jupytext": {
   "formats": "ipynb,auto:light"
  },
  "kernelspec": {
   "display_name": "Python 3 (ipykernel)",
   "language": "python",
   "name": "python3"
  },
  "language_info": {
   "codemirror_mode": {
    "name": "ipython",
    "version": 3
   },
   "file_extension": ".py",
   "mimetype": "text/x-python",
   "name": "python",
   "nbconvert_exporter": "python",
   "pygments_lexer": "ipython3",
   "version": "3.9.12"
  },
  "toc": {
   "base_numbering": 1,
   "nav_menu": {},
   "number_sections": true,
   "sideBar": true,
   "skip_h1_title": false,
   "title_cell": "Table of Contents",
   "title_sidebar": "Contents",
   "toc_cell": false,
   "toc_position": {},
   "toc_section_display": true,
   "toc_window_display": false
  }
 },
 "nbformat": 4,
 "nbformat_minor": 5
}
