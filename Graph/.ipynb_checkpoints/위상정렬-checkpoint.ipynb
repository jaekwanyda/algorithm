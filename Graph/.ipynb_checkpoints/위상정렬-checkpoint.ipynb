{
 "cells": [
  {
   "cell_type": "code",
   "execution_count": 3,
   "id": "13464347",
   "metadata": {},
   "outputs": [
    {
     "name": "stdout",
     "output_type": "stream",
     "text": [
      "7 8\n",
      "1 2\n",
      "1 5\n",
      "2 3\n",
      "2 6\n",
      "3 4\n",
      "4 7\n",
      "5 6\n",
      "6 4\n",
      "1 2 5 3 6 4 7 "
     ]
    }
   ],
   "source": [
    "#위상정렬은 방향그래프의 모든 노드를 순서에 거슬리지 않게 나열하는 것이다\n",
    "#이때 사이클이 존재하는지도 확인할 수 있다.\n",
    "from collections import deque\n",
    "#노드의 개수와 간선의 개수 입력받기\n",
    "v,e=map(int,input().split())\n",
    "#모든 노드에 대한 진입차수는 0으로 초기화\n",
    "indegree=[0]*(v+1)\n",
    "#각 노드에 연결된 간선 정보를 담기 위한 연결 리스트 초기화\n",
    "graph=[[] for _ in range(v+1)]\n",
    "\n",
    "#간선 정보 입력받기\n",
    "for _ in range(e):\n",
    "    a,b = map(int,input().split())\n",
    "    graph[a].append(b)\n",
    "    #진입차수 증가시키기\n",
    "    indegree[b]+=1\n",
    "    \n",
    "#위상 정렬 함수\n",
    "\n",
    "def topology_sort():\n",
    "    result=[] #정렬된 결과를 담을 리스트\n",
    "    q=deque()\n",
    "    for i in range(1,v+1):\n",
    "        if indegree[i]==0:\n",
    "            q.append(i)\n",
    "    while q: #q가 빌때까지\n",
    "        a=q.popleft()\n",
    "        result.append(a)\n",
    "        for i in graph[a]:\n",
    "            indegree[i]-=1\n",
    "            if indegree[i]==0:\n",
    "                q.append(i)\n",
    "    for i in result:\n",
    "        print(i,end=' ')\n",
    "\n",
    "    \n",
    "topology_sort()\n"
   ]
  },
  {
   "cell_type": "code",
   "execution_count": null,
   "id": "692497c1",
   "metadata": {},
   "outputs": [],
   "source": []
  }
 ],
 "metadata": {
  "hide_input": false,
  "jupytext": {
   "formats": "ipynb,auto:light"
  },
  "kernelspec": {
   "display_name": "Python 3 (ipykernel)",
   "language": "python",
   "name": "python3"
  },
  "language_info": {
   "codemirror_mode": {
    "name": "ipython",
    "version": 3
   },
   "file_extension": ".py",
   "mimetype": "text/x-python",
   "name": "python",
   "nbconvert_exporter": "python",
   "pygments_lexer": "ipython3",
   "version": "3.9.12"
  },
  "toc": {
   "base_numbering": 1,
   "nav_menu": {},
   "number_sections": true,
   "sideBar": true,
   "skip_h1_title": false,
   "title_cell": "Table of Contents",
   "title_sidebar": "Contents",
   "toc_cell": false,
   "toc_position": {},
   "toc_section_display": true,
   "toc_window_display": false
  }
 },
 "nbformat": 4,
 "nbformat_minor": 5
}
