{
 "cells": [
  {
   "cell_type": "code",
   "execution_count": 6,
   "id": "11b9fc05",
   "metadata": {},
   "outputs": [
    {
     "name": "stdout",
     "output_type": "stream",
     "text": [
      "5\n",
      "10 -1\n",
      "10 1 -1\n",
      "4 1 -1\n",
      "4 3 1 -1\n",
      "3 3 -1\n"
     ]
    }
   ],
   "source": [
    "#이코테 그래프 예제 4\n",
    "#아이디어: 위상정렬 알고리즘으로 각 값의별 합을 구해준다. 다이나믹도 이용하면 좋을 것 같다.\n",
    "from collections import deque\n",
    "import copy #리스트값을 그대로 복사할 때는 copy함수 이용해주기!! (새로 배운 것)\n",
    "\n",
    "#노드 갯수 입력받기\n",
    "n=int(input())\n",
    "\n",
    "#모든 노드에 대한 진입차수 0으로 초기화\n",
    "indegree=[0]*(n+1)\n",
    "#각 노드에 연결된 간선 정보를 담기 위한 연결 리스트 초기화\n",
    "graph=[[] for _ in range(n+1)]\n",
    "#각 강의 시간을 0으로 초기화\n",
    "time=[0]*(n+1)\n",
    "\n",
    "#방향 그래프의 모든 간선 정보 입력받기\n",
    "for i in range(1,n+1):\n",
    "    data=list(map(int,input().split())) #입력 길이가 일정하지 않기에 list로 받기\n",
    "    time[i]=data[0] #입력 정보의 첫번째는 강의의 시간\n",
    "    for j in data[1:-1]:\n",
    "        graph[j].append(i) #이어진 간선 정보 업데이트\n",
    "        indegree[i]+=1\n",
    "\n",
    "def topology_sort():\n",
    "    q=deque()\n",
    "    result=copy.deepcopy(time) #시간정보가 있는 리스트 그대로 복사\n",
    "    \n",
    "    for i in range(1,n+1):\n",
    "        if indegree[i]==0: #진입차수가 0인 수를 큐에 추가\n",
    "            q.append(i) \n",
    "    while q: #q가 빌때까지 실시\n",
    "        now=q.popleft()\n",
    "        for i in graph[now]: #now노드와 연결되어 있는 각각의 노드들에 대해 처리\n",
    "            indegree[i]-=1\n",
    "            if indegree[i]==0:#진입차수가 0이되면 큐에 추가하고 시간을 더해준다.\n",
    "                result[i]+=result[now] #책의 풀이에는 result[i]=max(result[i],result[now]+time[i])로 나와있다.\n",
    "                q.append(i)\n",
    "                \n",
    "    for i in range(1,n+1):\n",
    "        print(result[i])\n",
    "\n",
    "topology_sort()"
   ]
  }
 ],
 "metadata": {
  "hide_input": false,
  "jupytext": {
   "formats": "ipynb,auto:light"
  },
  "kernelspec": {
   "display_name": "Python 3 (ipykernel)",
   "language": "python",
   "name": "python3"
  },
  "language_info": {
   "codemirror_mode": {
    "name": "ipython",
    "version": 3
   },
   "file_extension": ".py",
   "mimetype": "text/x-python",
   "name": "python",
   "nbconvert_exporter": "python",
   "pygments_lexer": "ipython3",
   "version": "3.9.12"
  },
  "toc": {
   "base_numbering": 1,
   "nav_menu": {},
   "number_sections": true,
   "sideBar": true,
   "skip_h1_title": false,
   "title_cell": "Table of Contents",
   "title_sidebar": "Contents",
   "toc_cell": false,
   "toc_position": {},
   "toc_section_display": true,
   "toc_window_display": false
  }
 },
 "nbformat": 4,
 "nbformat_minor": 5
}
