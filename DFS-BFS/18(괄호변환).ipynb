{
 "cells": [
  {
   "cell_type": "code",
   "execution_count": 10,
   "id": "22e95fe8",
   "metadata": {},
   "outputs": [
    {
     "name": "stdout",
     "output_type": "stream",
     "text": [
      "(()()()()(((((())))()())())((((()\n"
     ]
    }
   ],
   "source": [
    "#이코테 실전 18(프로그래머 60058)\n",
    "p=')())()()())))))(((()()(()(())))))'\n",
    "\n",
    "def balance(p): #균형잡힌 괄호 문자열 출력해주는 함수\n",
    "    #가능한 첫 균형잡힌 골호 문자열을 u로 만들기\n",
    "    left=0 #왼쪽 괄호 수\n",
    "    right=0 #오른쪽 괄호 수\n",
    "    u_index=0\n",
    "    for i in range(len(p)):     \n",
    "        if p[i]=='(':\n",
    "            left+=1\n",
    "        else:\n",
    "            right+=1\n",
    "        u_index+=1\n",
    "        if left==right:\n",
    "            break\n",
    "    u=p[:u_index] #u 생성\n",
    "    v=p[u_index:] #v 생성\n",
    "    return (u,v)\n",
    "def correct(p): #올바른 괄호 문자열인지 확인하는 함수\n",
    "    left=0\n",
    "    right=0\n",
    "    for i in range(len(p)):\n",
    "        if p[i]=='(':\n",
    "            left+=1\n",
    "        else:\n",
    "            right+=1\n",
    "        if left<right:\n",
    "            return False\n",
    "    return True\n",
    "def solution(p):\n",
    "    answer = ''\n",
    "    if p=='':\n",
    "        return answer\n",
    "    u,v=balance(p)[0],balance(p)[1]\n",
    "    if correct(u):\n",
    "        answer=u+solution(v)\n",
    "    else:\n",
    "        answer='('\n",
    "        answer+=solution(v)\n",
    "        answer+=')'\n",
    "        u=list(u[1:-1])\n",
    "        for i in range(len(u)):\n",
    "            if u[i]==\"(\":\n",
    "                answer+=')'\n",
    "            else:\n",
    "                answer+='('\n",
    "    return answer\n",
    "print(solution(p))"
   ]
  },
  {
   "cell_type": "code",
   "execution_count": null,
   "id": "14590255",
   "metadata": {},
   "outputs": [],
   "source": []
  },
  {
   "cell_type": "code",
   "execution_count": null,
   "id": "11cea8cf",
   "metadata": {},
   "outputs": [],
   "source": []
  }
 ],
 "metadata": {
  "hide_input": false,
  "jupytext": {
   "formats": "ipynb,auto:light"
  },
  "kernelspec": {
   "display_name": "Python 3 (ipykernel)",
   "language": "python",
   "name": "python3"
  },
  "language_info": {
   "codemirror_mode": {
    "name": "ipython",
    "version": 3
   },
   "file_extension": ".py",
   "mimetype": "text/x-python",
   "name": "python",
   "nbconvert_exporter": "python",
   "pygments_lexer": "ipython3",
   "version": "3.9.12"
  },
  "toc": {
   "base_numbering": 1,
   "nav_menu": {},
   "number_sections": true,
   "sideBar": true,
   "skip_h1_title": false,
   "title_cell": "Table of Contents",
   "title_sidebar": "Contents",
   "toc_cell": false,
   "toc_position": {},
   "toc_section_display": true,
   "toc_window_display": false
  }
 },
 "nbformat": 4,
 "nbformat_minor": 5
}
