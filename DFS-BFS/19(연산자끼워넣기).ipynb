{
 "cells": [
  {
   "cell_type": "code",
   "execution_count": 7,
   "id": "44a0cca5",
   "metadata": {},
   "outputs": [
    {
     "name": "stdout",
     "output_type": "stream",
     "text": [
      "6\n",
      "1 2 3 4 5 6\n",
      "2 1 1 1\n",
      "54\n",
      "-24\n"
     ]
    }
   ],
   "source": [
    "#이코테 실전 19(백준 14888)\n",
    "#아이디어: 중복순열을 이용해 가능한 사칙연산의 모든 가능성을 센다면 가능할 것 같다.\n",
    "n=int(input())\n",
    "array=list(map(int,input().split()))\n",
    "plus,minus,multi,div=map(int,input().split()) #사칙연산 갯수 입력받기\n",
    "max_val=-987654321\n",
    "min_val=987654321\n",
    "#dfs로 모든 가능성 세기\n",
    "def dfs(i,now): #dfs를 사용한 횟수와 그 시점의 계산 값을 보내주기:\n",
    "    global max_val,min_val,plus,minus,multi,div\n",
    "    if i==n:\n",
    "        max_val=max(max_val,now)\n",
    "        min_val=min(min_val,now)\n",
    "    else:\n",
    "        if plus>0:\n",
    "            plus-=1\n",
    "            dfs(i+1,now+array[i])\n",
    "            plus+=1\n",
    "        if minus>0:\n",
    "            minus-=1\n",
    "            dfs(i+1,now-array[i])\n",
    "            minus+=1\n",
    "        if multi>0:\n",
    "            multi-=1\n",
    "            dfs(i+1,now*array[i])\n",
    "            multi+=1\n",
    "        if div>0:\n",
    "            div-=1\n",
    "            dfs(i+1,int(now/array[i]))\n",
    "            div+=1\n",
    "            \n",
    "dfs(1,array[0])\n",
    "print(max_val)\n",
    "print(min_val)"
   ]
  },
  {
   "cell_type": "code",
   "execution_count": null,
   "id": "16d8877f",
   "metadata": {},
   "outputs": [],
   "source": []
  }
 ],
 "metadata": {
  "hide_input": false,
  "jupytext": {
   "formats": "ipynb,auto:light"
  },
  "kernelspec": {
   "display_name": "Python 3 (ipykernel)",
   "language": "python",
   "name": "python3"
  },
  "language_info": {
   "codemirror_mode": {
    "name": "ipython",
    "version": 3
   },
   "file_extension": ".py",
   "mimetype": "text/x-python",
   "name": "python",
   "nbconvert_exporter": "python",
   "pygments_lexer": "ipython3",
   "version": "3.9.12"
  },
  "toc": {
   "base_numbering": 1,
   "nav_menu": {},
   "number_sections": true,
   "sideBar": true,
   "skip_h1_title": false,
   "title_cell": "Table of Contents",
   "title_sidebar": "Contents",
   "toc_cell": false,
   "toc_position": {},
   "toc_section_display": true,
   "toc_window_display": false
  }
 },
 "nbformat": 4,
 "nbformat_minor": 5
}
