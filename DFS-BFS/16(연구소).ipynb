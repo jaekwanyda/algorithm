{
 "cells": [
  {
   "cell_type": "code",
   "execution_count": 1,
   "id": "71acdd64",
   "metadata": {},
   "outputs": [
    {
     "name": "stdout",
     "output_type": "stream",
     "text": [
      "4 6\n",
      "0 0 0 0 0 0\n",
      "1 0 0 0 0 2\n",
      "1 1 1 0 0 2\n",
      "0 0 0 0 0 2\n",
      "<built-in function max>\n"
     ]
    }
   ],
   "source": [
    "#이코테 기출 16\n",
    "#아이디어: 최대 64칸 중 임의의 3칸에 설치 후 바이러스 별로 DFS를 돌려 안전지대 수 확인하기?(시간복잡도 걱정)\n",
    "#세로크기 N과 가로크기 M 입력받기\n",
    "n,m=map(int,input().split())\n",
    "#지도입력받기\n",
    "array=[list(map(int,input().split())) for _ in range(n)]\n",
    "#지도에 길 추가했을 때 \n",
    "narray=[[0]*m for _ in range(n)]\n",
    "#virus의 위치와 안전지대 위치 확인하기\n",
    "virus_list=[]\n",
    "for i in range(n):\n",
    "    for j in range(m):\n",
    "        if array[i][j]==2:\n",
    "            virus_list.append((i,j))\n",
    "safe_list=[]\n",
    "for i in range(n):\n",
    "    for j in range(m):\n",
    "        if array[i][j]==0:\n",
    "            safe_list.append((i,j))\n",
    "\n",
    "#바이러스 퍼지는 것 함수\n",
    "dx=[-1,1,0,0] #상하좌우 리스트\n",
    "dy=[0,0,-1,1]\n",
    "def virus_DFS(x,y):\n",
    "    for i in range(4):\n",
    "        nx=dx[i]+x\n",
    "        ny=dy[i]+y\n",
    "        if nx>=0 and nx<n and ny>=0 and ny<m:#리스트 내에 속하는 경우\n",
    "            if narray[nx][ny]==0: #안전지대일 경우만 변경\n",
    "                narray[nx][ny]=2\n",
    "                virus_DFS(nx,ny) #감염 시킨 경우 DFS 진행\n",
    "                \n",
    "#안전지대 수 구하는 함수\n",
    "def count_safe(narray):\n",
    "    sum=0\n",
    "    for i in range(n):\n",
    "        for j in range(m):\n",
    "            if narray[i][j]==0:\n",
    "                sum+=1\n",
    "    return sum\n",
    "                \n",
    "#조합의 각 경우 별 진행하기\n",
    "import itertools\n",
    "result=0\n",
    "for x in itertools.combinations(safe_list,3): #안전지대 중 3개 고르기\n",
    "    #지도를 추가할 narray 새로 만들기\n",
    "    for i in range(n):\n",
    "        for j in range(m):\n",
    "            narray[i][j]=array[i][j]\n",
    "    #사다리 추가하기\n",
    "    for i in range(3):\n",
    "        narray[x[i][0]][x[i][1]]=1\n",
    "    for i in virus_list:\n",
    "        virus_DFS(i[0],i[1])\n",
    "    result=max(result,count_safe(narray))\n",
    "    \n",
    "print(result)"
   ]
  },
  {
   "cell_type": "code",
   "execution_count": 2,
   "id": "34e8a50b",
   "metadata": {},
   "outputs": [
    {
     "data": {
      "text/plain": [
       "9"
      ]
     },
     "execution_count": 2,
     "metadata": {},
     "output_type": "execute_result"
    }
   ],
   "source": [
    "result"
   ]
  },
  {
   "cell_type": "code",
   "execution_count": null,
   "id": "0a8626e0",
   "metadata": {},
   "outputs": [],
   "source": []
  }
 ],
 "metadata": {
  "hide_input": false,
  "jupytext": {
   "formats": "ipynb,auto:light"
  },
  "kernelspec": {
   "display_name": "Python 3 (ipykernel)",
   "language": "python",
   "name": "python3"
  },
  "language_info": {
   "codemirror_mode": {
    "name": "ipython",
    "version": 3
   },
   "file_extension": ".py",
   "mimetype": "text/x-python",
   "name": "python",
   "nbconvert_exporter": "python",
   "pygments_lexer": "ipython3",
   "version": "3.9.12"
  },
  "toc": {
   "base_numbering": 1,
   "nav_menu": {},
   "number_sections": true,
   "sideBar": true,
   "skip_h1_title": false,
   "title_cell": "Table of Contents",
   "title_sidebar": "Contents",
   "toc_cell": false,
   "toc_position": {},
   "toc_section_display": true,
   "toc_window_display": false
  }
 },
 "nbformat": 4,
 "nbformat_minor": 5
}
