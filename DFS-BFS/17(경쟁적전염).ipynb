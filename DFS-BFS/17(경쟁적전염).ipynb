{
 "cells": [
  {
   "cell_type": "code",
   "execution_count": 3,
   "id": "42bea250",
   "metadata": {},
   "outputs": [
    {
     "name": "stdout",
     "output_type": "stream",
     "text": [
      "3 3\n",
      "1 0 2\n",
      "0 0 0\n",
      "1 0 1\n",
      "2 3 2\n",
      "1\n"
     ]
    }
   ],
   "source": [
    "#이코테 실전 17(백준 18405)\n",
    "#아이디어: 바이러스 크기 순서대로 초마다 1칸의 BFS를 진행하면 될 것 같다.=> 고민: 초마다를 어떻게 구현해야 할까?(deque 두개 이용?)\n",
    "from collections import deque\n",
    "#시험관의 크기 N과 바이러스 종류 수 K입력 받기\n",
    "n,k=map(int,input().split())\n",
    "#시험관 정보 입력할 리스트 생성\n",
    "data=[]\n",
    "#시험관 정보 입력받기\n",
    "for i in range(n):\n",
    "    data.append(list(map(int,input().split())))\n",
    "#바이러스 위치 저장할 리스트 생성\n",
    "virus=[]\n",
    "#바이러스 정보 입력해주기\n",
    "for i in range(n):\n",
    "    for j in range(n):\n",
    "        if data[i][j]!=0:\n",
    "            virus.append((data[i][j],i,j,0)) #0은 시간을 담을 용도\n",
    "\n",
    "#원하는 시간, 공간 위치 입력받기\n",
    "target_s,target_x,target_y=map(int,input().split())\n",
    "\n",
    "#BFS 구현\n",
    "dx=[-1,1,0,0]\n",
    "dy=[0,0,-1,1]\n",
    "virus.sort()\n",
    "q=deque(virus)\n",
    "\n",
    "while q:\n",
    "    v,x,y,s=q.popleft()\n",
    "    if s==target_s:\n",
    "        break\n",
    "    for i in range(4):\n",
    "        nx=x+dx[i]\n",
    "        ny=y+dy[i]\n",
    "        if nx>=0 and nx<n and ny>=0 and ny<n : #이동 가능한 경우\n",
    "            if data[nx][ny]==0:\n",
    "                data[nx][ny]=v\n",
    "                q.append((v,nx,ny,s+1))\n",
    "                \n",
    "print(data[target_x-1][target_y-1])"
   ]
  },
  {
   "cell_type": "code",
   "execution_count": null,
   "id": "74609a85",
   "metadata": {},
   "outputs": [],
   "source": []
  }
 ],
 "metadata": {
  "hide_input": false,
  "jupytext": {
   "formats": "ipynb,auto:light"
  },
  "kernelspec": {
   "display_name": "Python 3 (ipykernel)",
   "language": "python",
   "name": "python3"
  },
  "language_info": {
   "codemirror_mode": {
    "name": "ipython",
    "version": 3
   },
   "file_extension": ".py",
   "mimetype": "text/x-python",
   "name": "python",
   "nbconvert_exporter": "python",
   "pygments_lexer": "ipython3",
   "version": "3.9.12"
  },
  "toc": {
   "base_numbering": 1,
   "nav_menu": {},
   "number_sections": true,
   "sideBar": true,
   "skip_h1_title": false,
   "title_cell": "Table of Contents",
   "title_sidebar": "Contents",
   "toc_cell": false,
   "toc_position": {},
   "toc_section_display": true,
   "toc_window_display": false
  }
 },
 "nbformat": 4,
 "nbformat_minor": 5
}
