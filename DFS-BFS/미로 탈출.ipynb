{
 "cells": [
  {
   "cell_type": "code",
   "execution_count": 6,
   "id": "0ad7b96a",
   "metadata": {},
   "outputs": [
    {
     "name": "stdout",
     "output_type": "stream",
     "text": [
      "3 3\n",
      "1 1 1\n",
      "1 1 0\n",
      "1 1 1\n",
      "5\n"
     ]
    }
   ],
   "source": [
    "#아이디어: 가장 가까운 노드부터 탐색하는 BFS를 이용해서 최단 거리를 찾아보자\n",
    "#N,M 입력\n",
    "n,m=map(int,input().split())\n",
    "#미로 입력(괴물이 있는부분이 0)\n",
    "array=[list(map(int,input().split())) for _ in range(n)]\n",
    "from collections import deque\n",
    "#상하좌우 이동 정의\n",
    "dx=[-1,1,0,0]\n",
    "dy=[0,0,-1,1]\n",
    "def bfs(x,y):\n",
    "    queue=deque()\n",
    "    queue.append((x,y))\n",
    "    #큐가 완전히 빌 때까지 반복\n",
    "    while queue:\n",
    "        x,y=queue.popleft()\n",
    "        #이 문제는 그래프로 보자면 각 지점별로 상하좌우 최대 4가지의 이동이 가능한 정점들이다.\n",
    "        for i in range(4):\n",
    "            nx=x+dx[i]\n",
    "            ny=y+dy[i]\n",
    "            #괴물이 있을 경우나 그래프 밖일 경우 가지 않는다.\n",
    "            if nx<0 or ny<0 or nx>=n or ny>=m: #제일 큰 오류를 먼저 제거해준다. list index에서 벗어나면 아예 계산이 안되기 때문!!(틀림)\n",
    "                continue\n",
    "            if array[nx][ny]==0 :\n",
    "                continue\n",
    "            #처음 방문한 경우일 때만 추가한다.\n",
    "            if array[nx][ny]==1:\n",
    "                array[nx][ny]=array[x][y]+1\n",
    "                queue.append((nx,ny))\n",
    "    return array[n-1][m-1]\n",
    "print(bfs(0,0))"
   ]
  },
  {
   "cell_type": "code",
   "execution_count": null,
   "id": "b423cbd3",
   "metadata": {},
   "outputs": [],
   "source": []
  }
 ],
 "metadata": {
  "hide_input": false,
  "jupytext": {
   "formats": "ipynb,auto:light"
  },
  "kernelspec": {
   "display_name": "Python 3 (ipykernel)",
   "language": "python",
   "name": "python3"
  },
  "language_info": {
   "codemirror_mode": {
    "name": "ipython",
    "version": 3
   },
   "file_extension": ".py",
   "mimetype": "text/x-python",
   "name": "python",
   "nbconvert_exporter": "python",
   "pygments_lexer": "ipython3",
   "version": "3.9.12"
  },
  "toc": {
   "base_numbering": 1,
   "nav_menu": {},
   "number_sections": true,
   "sideBar": true,
   "skip_h1_title": false,
   "title_cell": "Table of Contents",
   "title_sidebar": "Contents",
   "toc_cell": false,
   "toc_position": {},
   "toc_section_display": true,
   "toc_window_display": false
  }
 },
 "nbformat": 4,
 "nbformat_minor": 5
}
