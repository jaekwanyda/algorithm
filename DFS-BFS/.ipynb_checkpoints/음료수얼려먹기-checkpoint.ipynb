{
 "cells": [
  {
   "cell_type": "code",
   "execution_count": 5,
   "id": "e895f3b1",
   "metadata": {},
   "outputs": [
    {
     "name": "stdout",
     "output_type": "stream",
     "text": [
      "4 5\n",
      "1 1 1 1 1\n",
      "0 0 0 0 0\n",
      "1 1 1 1 1\n",
      "0 0 0 0 0\n",
      "2\n"
     ]
    }
   ],
   "source": [
    "#N,M 값 입력받기\n",
    "n,m=map(int,input().split())\n",
    "#얼음 틀 형태 입력받기\n",
    "array=[list(map(int,input().split())) for _ in range(n)]\n",
    "#물을 첫 노드부터 붓는다고 생각하자. 이미 부어진 부분에 방문처리를 하면 총 얼음 개수를 구할 수 있을 것이다.\n",
    "#전부 탐색해야 하므로 DFS가 적절하다. 이유와 근거는 풀면서 더 찾아보자\n",
    "def dfs(x,y):\n",
    "    if x<=-1 or x>=n or y<=-1 or y>=m:\n",
    "        return False\n",
    "    #아직 방문 전이라면 방문처리\n",
    "    if array[x][y]==0:\n",
    "        array[x][y]=1\n",
    "        #인접한 네개의 노드에도 dfs사용해서 처리해주기\n",
    "        dfs(x-1,y)\n",
    "        dfs(x,y-1)\n",
    "        dfs(x+1,y)\n",
    "        dfs(x,y+1)\n",
    "        return True\n",
    "    return False\n",
    "result=0\n",
    "for i in range(n):\n",
    "    for j in range(m):\n",
    "        if dfs(i,j)==True:\n",
    "            result+=1\n",
    "print(result)"
   ]
  }
 ],
 "metadata": {
  "hide_input": false,
  "jupytext": {
   "formats": "ipynb,auto:light"
  },
  "kernelspec": {
   "display_name": "Python 3 (ipykernel)",
   "language": "python",
   "name": "python3"
  },
  "language_info": {
   "codemirror_mode": {
    "name": "ipython",
    "version": 3
   },
   "file_extension": ".py",
   "mimetype": "text/x-python",
   "name": "python",
   "nbconvert_exporter": "python",
   "pygments_lexer": "ipython3",
   "version": "3.9.12"
  },
  "toc": {
   "base_numbering": 1,
   "nav_menu": {},
   "number_sections": true,
   "sideBar": true,
   "skip_h1_title": false,
   "title_cell": "Table of Contents",
   "title_sidebar": "Contents",
   "toc_cell": false,
   "toc_position": {},
   "toc_section_display": true,
   "toc_window_display": false
  }
 },
 "nbformat": 4,
 "nbformat_minor": 5
}
