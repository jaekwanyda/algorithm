{
 "cells": [
  {
   "cell_type": "code",
   "execution_count": 7,
   "id": "fc442d73",
   "metadata": {},
   "outputs": [
    {
     "name": "stdout",
     "output_type": "stream",
     "text": [
      "4 4 2 1\n",
      "1 2\n",
      "1 3\n",
      "2 3\n",
      "2 4\n",
      "4"
     ]
    }
   ],
   "source": [
    "#이코테 기출 15\n",
    "#아이디어: 최단거리가 K인 모든 지점을 구하란 문제로 BFS를 쓸 것을 예상해 볼 수 있다.\n",
    "from collections import deque\n",
    "#도시의 개수 N, 간선의 개수 M, 원하는 거리 K, 출발 도시의 번호 X 입력받기\n",
    "n,m,k,start=map(int,input().split())\n",
    "\n",
    "#간선 정보 입력받기\n",
    "graph=[[] for _ in range(n+1)] #도시별 간선 정보\n",
    "for i in range(m):\n",
    "    a,b=map(int,input().split())\n",
    "    graph[a].append(b)\n",
    "#방문 여부 확인하기\n",
    "visited=[False]*(n+1) #중간 생각: 공간복잡도 걱정이 되긴 했지만 메모리 제한이 256MB라서 일단은 진행했다.\n",
    "#시작지점 방문처리하고 큐에 추가\n",
    "q=deque()\n",
    "visited[start]=True\n",
    "q.append(start)\n",
    "distance=[0]*(n+1)\n",
    "\n",
    "while q: #중간 생각.여기도 시간복잡도 걱정이 되었다. 만약 시간이 초과하면 k+1 번째까지만 진행하는 등의 방법을 생각해야 할 것같다.\n",
    "    now=q.popleft()\n",
    "    for i in graph[now]:#연결된 도시에 인해서만 진행\n",
    "        if not visited[i]: #방문 안했을 경우만 추가로 진행\n",
    "            distance[i]=distance[now]+1\n",
    "            visited[i]=True\n",
    "            q.append(i)\n",
    "\n",
    "for i in range(1,n+1):\n",
    "    if distance[i]==k: #최단거리가 k일 때만 출력\n",
    "        print(i,end='')"
   ]
  },
  {
   "cell_type": "code",
   "execution_count": null,
   "id": "b86e2bd0",
   "metadata": {},
   "outputs": [],
   "source": []
  }
 ],
 "metadata": {
  "hide_input": false,
  "jupytext": {
   "formats": "ipynb,auto:light"
  },
  "kernelspec": {
   "display_name": "Python 3 (ipykernel)",
   "language": "python",
   "name": "python3"
  },
  "language_info": {
   "codemirror_mode": {
    "name": "ipython",
    "version": 3
   },
   "file_extension": ".py",
   "mimetype": "text/x-python",
   "name": "python",
   "nbconvert_exporter": "python",
   "pygments_lexer": "ipython3",
   "version": "3.9.12"
  },
  "toc": {
   "base_numbering": 1,
   "nav_menu": {},
   "number_sections": true,
   "sideBar": true,
   "skip_h1_title": false,
   "title_cell": "Table of Contents",
   "title_sidebar": "Contents",
   "toc_cell": false,
   "toc_position": {},
   "toc_section_display": true,
   "toc_window_display": false
  }
 },
 "nbformat": 4,
 "nbformat_minor": 5
}
